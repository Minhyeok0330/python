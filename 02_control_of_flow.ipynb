{
 "cells": [
  {
   "cell_type": "markdown",
   "id": "c7a41522-dd9f-4dd1-8a29-1bc338c93953",
   "metadata": {},
   "source": [
    "# 제어문"
   ]
  },
  {
   "cell_type": "markdown",
   "id": "92cf38e7-5bd1-4476-a9b0-a2c45a07e690",
   "metadata": {},
   "source": [
    "## 조건문 (if문)\n",
    "\n",
    "1. if문은 반드시 참/거짓을 판단 할 수 있는 '조건식'과 함께 사용한다.\n",
    "    - if <조건식>:\n",
    "2. '<조건식>' 참인 경우 : ':' 이후의 문장을 실행\n",
    "3. '<조건식>' 거짓인 경우 : else: 이후의 문장을 실행\n",
    "\n",
    "```\n",
    "if <조건식>:\n",
    "    if의 조건식이 참인 경우 실행하는 코드\n",
    "else:\n",
    "    if의 조건식이 거짓인 경우 실행하는 코드\n",
    "```\n"
   ]
  },
  {
   "cell_type": "code",
   "execution_count": null,
   "id": "ec695ebf-4c5d-4708-bfd2-7456fa63840c",
   "metadata": {},
   "outputs": [],
   "source": [
    "my_string = input()\n",
    "print(my_string)\n",
    "\n",
    "if my_string == '12/25':\n",
    "    print('merry christmas')\n",
    "else:\n",
    "    print('you fault')"
   ]
  },
  {
   "cell_type": "code",
   "execution_count": null,
   "id": "f4b249a8-32d1-4647-bac7-84ac451e2042",
   "metadata": {},
   "outputs": [],
   "source": [
    "num = input('숫자를 입력해주세요')\n",
    "\n",
    "if int(num) % 2 == 1:\n",
    "    print('odd')\n",
    "else:\n",
    "    print('even')\n"
   ]
  },
  {
   "cell_type": "code",
   "execution_count": 1,
   "id": "6f12eb53-9d66-4e68-b5eb-acca649474c2",
   "metadata": {},
   "outputs": [
    {
     "name": "stdin",
     "output_type": "stream",
     "text": [
      " 1\n"
     ]
    },
    {
     "name": "stdout",
     "output_type": "stream",
     "text": [
      "odd\n"
     ]
    }
   ],
   "source": [
    "num = int(input())\n",
    "\n",
    "if num % 2 == 1:\n",
    "    print('odd')\n",
    "else:\n",
    "    print('even')"
   ]
  },
  {
   "cell_type": "code",
   "execution_count": 2,
   "id": "a89432d6-001f-45a2-9dcc-0abc8b1ab102",
   "metadata": {},
   "outputs": [
    {
     "name": "stdin",
     "output_type": "stream",
     "text": [
      " 2\n"
     ]
    },
    {
     "name": "stdout",
     "output_type": "stream",
     "text": [
      "even\n"
     ]
    }
   ],
   "source": [
    "num = int(input())\n",
    "\n",
    "if num % 2 == 0:\n",
    "    print('even')\n",
    "else:\n",
    "    print('odd')"
   ]
  },
  {
   "cell_type": "code",
   "execution_count": 3,
   "id": "d26b9d99-4dd6-4831-ab4e-0689e9da3de1",
   "metadata": {},
   "outputs": [
    {
     "name": "stdin",
     "output_type": "stream",
     "text": [
      " 1\n"
     ]
    },
    {
     "name": "stdout",
     "output_type": "stream",
     "text": [
      "odd\n"
     ]
    }
   ],
   "source": [
    "num = int(input())\n",
    "\n",
    "if num % 2:\n",
    "    print('odd')\n",
    "else:\n",
    "    print('even')"
   ]
  },
  {
   "cell_type": "code",
   "execution_count": 6,
   "id": "2e36936b-aaf5-410b-b62f-40b01f2d7871",
   "metadata": {},
   "outputs": [
    {
     "name": "stdin",
     "output_type": "stream",
     "text": [
      "5의 배수 판단 1\n"
     ]
    },
    {
     "name": "stdout",
     "output_type": "stream",
     "text": [
      "Fasle\n"
     ]
    }
   ],
   "source": [
    "num = int(input('5의 배수 판단'))\n",
    "\n",
    "if num % 5 == 0:\n",
    "    print('True')\n",
    "else:\n",
    "    print('Fasle')"
   ]
  },
  {
   "cell_type": "code",
   "execution_count": 8,
   "id": "734c9263-4d69-4a8a-95be-6169f31efab7",
   "metadata": {},
   "outputs": [
    {
     "name": "stdin",
     "output_type": "stream",
     "text": [
      " 15\n"
     ]
    },
    {
     "name": "stdout",
     "output_type": "stream",
     "text": [
      "true\n"
     ]
    }
   ],
   "source": [
    "num = int(input())\n",
    "\n",
    "if num % 5:\n",
    "    print('false')\n",
    "else:\n",
    "    print('true')\n",
    "    "
   ]
  },
  {
   "cell_type": "markdown",
   "id": "60368fd5-760b-4cd0-879a-315d3522df1b",
   "metadata": {},
   "source": [
    "### elif\n",
    "\n",
    "```\n",
    "if <조건식>:\n",
    "    참인 경우\n",
    "elif<조건식>:\n",
    "    elif문이 참인 경우\n",
    "else:\n",
    "    위의 모든 조건식이거짓인 경우\n",
    "```"
   ]
  },
  {
   "cell_type": "code",
   "execution_count": 18,
   "id": "c528d212-27eb-46ad-9453-66b223b0d1f0",
   "metadata": {},
   "outputs": [
    {
     "name": "stdin",
     "output_type": "stream",
     "text": [
      " 94\n"
     ]
    },
    {
     "name": "stdout",
     "output_type": "stream",
     "text": [
      "A\n"
     ]
    }
   ],
   "source": [
    "score = int(input())\n",
    "\n",
    "if score >= 90:\n",
    "    print('A')\n",
    "    if score >= 95:\n",
    "        print('Good job')\n",
    "elif score >= 80:\n",
    "    print('B')\n",
    "elif score >= 70:\n",
    "    print('C')\n",
    "else:\n",
    "    print('F')"
   ]
  },
  {
   "cell_type": "markdown",
   "id": "c9c9355f-2f5c-458e-abc2-f44d6d508c16",
   "metadata": {},
   "source": [
    "### 조건표현식\n",
    "- `'true_value' if <조건식> else 'false_value`"
   ]
  },
  {
   "cell_type": "code",
   "execution_count": 69,
   "id": "56000788-2f74-414e-aaa5-50c8c48d6129",
   "metadata": {},
   "outputs": [
    {
     "name": "stdout",
     "output_type": "stream",
     "text": [
      "100\n"
     ]
    }
   ],
   "source": [
    "a = 0\n",
    "\n",
    "if True:\n",
    "    a = 100\n",
    "else:\n",
    "    a = -100\n",
    "print(a)"
   ]
  },
  {
   "cell_type": "code",
   "execution_count": 61,
   "id": "d19b3215-e1bb-4d95-8060-fc312dbbcdd7",
   "metadata": {},
   "outputs": [
    {
     "name": "stdout",
     "output_type": "stream",
     "text": [
      "100\n"
     ]
    }
   ],
   "source": [
    "a = 0\n",
    "\n",
    "a = 100 if True else -100\n",
    "print(a)"
   ]
  },
  {
   "cell_type": "code",
   "execution_count": 56,
   "id": "53909f72-bee4-487b-a811-90dc591fdd6a",
   "metadata": {},
   "outputs": [
    {
     "name": "stdin",
     "output_type": "stream",
     "text": [
      " 10\n"
     ]
    },
    {
     "name": "stdout",
     "output_type": "stream",
     "text": [
      "10\n"
     ]
    }
   ],
   "source": [
    "num = int(input())\n",
    "\n",
    "if num >= 0:\n",
    "    result = num\n",
    "else:\n",
    "    result = 0\n",
    "print(result)"
   ]
  },
  {
   "cell_type": "code",
   "execution_count": 37,
   "id": "bb6aae3e-5ccd-4007-bc6f-10047be13072",
   "metadata": {},
   "outputs": [
    {
     "name": "stdin",
     "output_type": "stream",
     "text": [
      " 10\n"
     ]
    },
    {
     "name": "stdout",
     "output_type": "stream",
     "text": [
      "10\n"
     ]
    }
   ],
   "source": [
    "num = int(input())\n",
    "result = num if num >= 0 else 0\n",
    "print(result)"
   ]
  },
  {
   "cell_type": "code",
   "execution_count": 54,
   "id": "715b660b-95a2-47f9-a52f-c0378d7ca86c",
   "metadata": {},
   "outputs": [
    {
     "name": "stdout",
     "output_type": "stream",
     "text": [
      "홀수\n"
     ]
    }
   ],
   "source": [
    "num = 9\n",
    "\n",
    "result = '홀수' if num % 2 else '짝수'\n",
    "print(result)"
   ]
  },
  {
   "cell_type": "code",
   "execution_count": 44,
   "id": "a5cb02d6-04af-4421-9711-6ae04ff6a1ab",
   "metadata": {},
   "outputs": [
    {
     "name": "stdout",
     "output_type": "stream",
     "text": [
      "홀수\n"
     ]
    }
   ],
   "source": [
    "num = 9\n",
    "\n",
    "if num % 2:\n",
    "    result = ('홀수')\n",
    "else:\n",
    "    result = ('짝수')\n",
    "print(result)"
   ]
  },
  {
   "cell_type": "markdown",
   "id": "136be3bc-698e-47d4-a520-0826f40e2a2c",
   "metadata": {},
   "source": [
    "# 반복문"
   ]
  },
  {
   "cell_type": "markdown",
   "id": "f69a4fbd-a6ea-49dc-ae95-ced012ff96c3",
   "metadata": {},
   "source": [
    "## while문\n",
    "```\n",
    "    while<조건식>:\n",
    "        실행할 코드\n",
    "```"
   ]
  },
  {
   "cell_type": "code",
   "execution_count": 57,
   "id": "d06784be-5c2c-4788-9e9a-b13e35100429",
   "metadata": {},
   "outputs": [
    {
     "name": "stdout",
     "output_type": "stream",
     "text": [
      "0\n",
      "1\n",
      "2\n",
      "3\n",
      "4\n"
     ]
    }
   ],
   "source": [
    "a = 0\n",
    "\n",
    "while a < 5:\n",
    "    print(a)\n",
    "    a = a+1"
   ]
  },
  {
   "cell_type": "markdown",
   "id": "03e2985d-d215-4787-bc4c-3997dea7bc16",
   "metadata": {},
   "source": [
    "## for 문\n",
    "- 정해진 범위 내의 반복\n",
    "```\n",
    "for var_name in sequence:\n",
    "    code\n",
    "```"
   ]
  },
  {
   "cell_type": "code",
   "execution_count": 63,
   "id": "09d972b9-331c-4f17-8422-1bcfc811ac61",
   "metadata": {},
   "outputs": [
    {
     "name": "stdout",
     "output_type": "stream",
     "text": [
      "1\n",
      "2\n",
      "3\n",
      "4\n",
      "5\n",
      "[1, 2, 3, 4, 5]\n"
     ]
    }
   ],
   "source": [
    "numbers = [1, 2, 3, 4, 5]\n",
    "\n",
    "for number in numbers:\n",
    "    print(number)"
   ]
  },
  {
   "cell_type": "code",
   "execution_count": 66,
   "id": "58ce89a5-bfc2-4c88-89f3-cb5988314464",
   "metadata": {},
   "outputs": [
    {
     "name": "stdout",
     "output_type": "stream",
     "text": [
      "a\n",
      "p\n",
      "p\n",
      "l\n",
      "e\n"
     ]
    }
   ],
   "source": [
    "word = 'apple'\n",
    "\n",
    "for alp in word:\n",
    "    print(alp)"
   ]
  },
  {
   "cell_type": "code",
   "execution_count": 67,
   "id": "e49bb403-af01-451a-8da3-05fe6f1e28a0",
   "metadata": {},
   "outputs": [
    {
     "name": "stdout",
     "output_type": "stream",
     "text": [
      "0\n",
      "1\n",
      "2\n",
      "3\n",
      "4\n"
     ]
    }
   ],
   "source": [
    "for i in range(5):\n",
    "    print(i)"
   ]
  },
  {
   "cell_type": "code",
   "execution_count": null,
   "id": "fb6c7aed-10bd-4d15-b67f-8c93f113ce2b",
   "metadata": {},
   "outputs": [],
   "source": []
  },
  {
   "cell_type": "code",
   "execution_count": null,
   "id": "e5ca6566-bfbf-4171-8c43-e6fffa794963",
   "metadata": {},
   "outputs": [],
   "source": []
  },
  {
   "cell_type": "code",
   "execution_count": null,
   "id": "ce246fc6-6379-4cde-9cb8-cba363574c52",
   "metadata": {},
   "outputs": [],
   "source": []
  },
  {
   "cell_type": "code",
   "execution_count": null,
   "id": "011996ae-1493-47d7-bf86-32e8c80a3b5e",
   "metadata": {},
   "outputs": [],
   "source": []
  },
  {
   "cell_type": "code",
   "execution_count": null,
   "id": "3e93ac9e-83bf-43d9-913e-87a6ce251206",
   "metadata": {},
   "outputs": [],
   "source": []
  },
  {
   "cell_type": "code",
   "execution_count": null,
   "id": "c956ac86-1699-4501-af22-f48afbc2c7c1",
   "metadata": {},
   "outputs": [],
   "source": []
  }
 ],
 "metadata": {
  "kernelspec": {
   "display_name": "Python 3 (ipykernel)",
   "language": "python",
   "name": "python3"
  },
  "language_info": {
   "codemirror_mode": {
    "name": "ipython",
    "version": 3
   },
   "file_extension": ".py",
   "mimetype": "text/x-python",
   "name": "python",
   "nbconvert_exporter": "python",
   "pygments_lexer": "ipython3",
   "version": "3.13.2"
  }
 },
 "nbformat": 4,
 "nbformat_minor": 5
}
