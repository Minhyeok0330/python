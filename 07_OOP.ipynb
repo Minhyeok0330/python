{
 "cells": [
  {
   "cell_type": "markdown",
   "id": "73105c5b-3552-4aba-80d8-ae99bdfe274e",
   "metadata": {},
   "source": [
    "# 객체지향 프로그래밍 (OOP)\n",
    "\n",
    "- 클래스(class) : 같은 종류의 집단에 속하는 '속성'과 '행동'을 '정의'한 것\n",
    "- 속성(attribute) : 클래스/인스턴스가 가지고 있는 데이터/값\n",
    "- 행동(method) : 클래스/인스턴스가 가지고 있는 함수/기능\n",
    "- 인스턴스(instance) : 클래스를 실제로 메모리상에 할당한 것"
   ]
  },
  {
   "cell_type": "code",
   "execution_count": null,
   "id": "286ebb36-7a65-42e5-bc70-3ec8bdcebb72",
   "metadata": {},
   "outputs": [],
   "source": [
    "number = 1 +2j"
   ]
  },
  {
   "cell_type": "code",
   "execution_count": null,
   "id": "6d8795c9-ef78-4100-bf28-d5c9927a6c4d",
   "metadata": {},
   "outputs": [],
   "source": [
    "print(type(number))"
   ]
  },
  {
   "cell_type": "code",
   "execution_count": null,
   "id": "f0718a4f-1dc0-4cf4-b3a0-aee8bf3b4246",
   "metadata": {},
   "outputs": [],
   "source": [
    "print(number.real)\n",
    "print(number.imag)"
   ]
  },
  {
   "cell_type": "code",
   "execution_count": null,
   "id": "672203da-09c4-4fe5-bff4-1db62c9b7ee0",
   "metadata": {},
   "outputs": [],
   "source": [
    "numbers = [1, 2, 3]"
   ]
  },
  {
   "cell_type": "code",
   "execution_count": null,
   "id": "b91c403f-8e5d-4514-9a47-62c114b2b11d",
   "metadata": {},
   "outputs": [],
   "source": [
    "print(type(numbers))"
   ]
  },
  {
   "cell_type": "code",
   "execution_count": null,
   "id": "b460ceca-44ab-4645-b0a9-d159ef6883a2",
   "metadata": {},
   "outputs": [],
   "source": [
    "numbers.reverse()\n",
    "print(numbers)"
   ]
  },
  {
   "cell_type": "code",
   "execution_count": null,
   "id": "8f106177-1939-4587-9618-19f934720a4e",
   "metadata": {},
   "outputs": [],
   "source": [
    "number = '010-1234-1234'\n",
    "power = True\n",
    "phone_book = {\n",
    "    'kim' : '010-1111-1111',\n",
    "    'park' : '010-2222-2222'\n",
    "}\n",
    "\n",
    "def call(from_num, to_num):\n",
    "    print(f'{from_num}가 {to_num}에게 전화거는 중')"
   ]
  },
  {
   "cell_type": "code",
   "execution_count": null,
   "id": "3dc1b137-a5e6-49f9-be83-32372c907e0a",
   "metadata": {},
   "outputs": [],
   "source": [
    "call(number, phone_book['kim'])"
   ]
  },
  {
   "cell_type": "code",
   "execution_count": null,
   "id": "59ebe5a2-3c76-42b3-b0e1-c81a24a983cc",
   "metadata": {},
   "outputs": [],
   "source": [
    "number_2 = '010-4321-4321'\n",
    "power_2 = True\n",
    "phone_book_2 = {\n",
    "    'kim' : '010-1111-1111',\n",
    "    'park' : '010-2222-2222'\n",
    "}\n",
    "\n",
    "def call(from_num, to_num):\n",
    "    print(f'{from_num}가 {to_num}에게 전화거는 중')"
   ]
  },
  {
   "cell_type": "code",
   "execution_count": null,
   "id": "d7685790-2c01-4d6d-af9c-189a92b43858",
   "metadata": {},
   "outputs": [],
   "source": [
    "call(number_2, phone_book_2['kim'])"
   ]
  },
  {
   "cell_type": "markdown",
   "id": "6650715c-83a8-4ca7-ad94-7ebd5461b863",
   "metadata": {},
   "source": [
    "- 위 사례처럼 복제본을 일일이 만들지 않기 위해 'phone'이라는 클래스를 생성"
   ]
  },
  {
   "cell_type": "markdown",
   "id": "1ac6322f-a383-467d-a830-0ca016ce4951",
   "metadata": {},
   "source": [
    "## class\n",
    "\n",
    "- 클래스 선언/정의(camelCase, PascalCase 사용)\n",
    "```python\n",
    "class ClassName():\n",
    "    attribute1 = value1\n",
    "    attribute2 = value2\n",
    "    ．．．\n",
    "\n",
    "    def method_name1(self):\n",
    "        code\n",
    "\n",
    "    def method_name2(self):\n",
    "        code\n",
    "    ．．．\n",
    "        \n",
    "- 인스턴스화 (클래스 실행)\n",
    "\n",
    "c = ClassName()"
   ]
  },
  {
   "cell_type": "code",
   "execution_count": null,
   "id": "3b91010d-7f99-4d57-9ea5-7ee02870f9bc",
   "metadata": {},
   "outputs": [],
   "source": [
    "# 선언\n",
    "\n",
    "class MyClass():\n",
    "    name = 'kim'\n",
    "\n",
    "    def hello(self):\n",
    "        return 'hihihihi'"
   ]
  },
  {
   "cell_type": "code",
   "execution_count": null,
   "id": "9d1c1cac-6499-4308-961c-d3cd4758cc88",
   "metadata": {},
   "outputs": [],
   "source": [
    "# 인스턴스화\n",
    "m = MyClass()"
   ]
  },
  {
   "cell_type": "code",
   "execution_count": null,
   "id": "7d3dae48-a509-4161-b93b-61ff98a0e2cb",
   "metadata": {},
   "outputs": [],
   "source": [
    "print(type(m))"
   ]
  },
  {
   "cell_type": "code",
   "execution_count": null,
   "id": "31a363ad-74ee-4cd9-848f-369491174292",
   "metadata": {},
   "outputs": [],
   "source": [
    "print(m.name)\n",
    "print(m.hello())"
   ]
  },
  {
   "cell_type": "code",
   "execution_count": null,
   "id": "613bb412-5961-48b5-9413-46f42166d6f1",
   "metadata": {},
   "outputs": [],
   "source": [
    "m2 = MyClass()\n",
    "print(m2.name)\n",
    "print(m2.hello())"
   ]
  },
  {
   "cell_type": "code",
   "execution_count": null,
   "id": "d2090a1d-2132-43d7-935a-c37ef1150705",
   "metadata": {},
   "outputs": [],
   "source": [
    "m2.name = 'park'\n",
    "\n",
    "print(m.name)\n",
    "print(m2.name)"
   ]
  },
  {
   "cell_type": "code",
   "execution_count": null,
   "id": "5f23632e-81fd-47c7-814a-7f5fa7b68fe5",
   "metadata": {},
   "outputs": [],
   "source": [
    "class Phone():\n",
    "    power = False\n",
    "    number = '010-0000-0000'\n",
    "    book = {}\n",
    "    model = ''\n",
    "\n",
    "    def on(self):\n",
    "        if self.power == False:\n",
    "            self.power = True\n",
    "\n",
    "    def off(self):\n",
    "        if self.power == True:\n",
    "            self.power = False\n",
    "\n",
    "    def call(self, target):\n",
    "        if self.power == True:\n",
    "            print(f'{self.number}가 {target.number}한테 전화거는 중---')\n",
    "        else:\n",
    "            print('전원이 꺼져있습니다.')"
   ]
  },
  {
   "cell_type": "code",
   "execution_count": null,
   "id": "bad162af-7fbe-4c79-a616-a2a3a9f92fd4",
   "metadata": {},
   "outputs": [],
   "source": [
    "my_phone = Phone()\n",
    "your_phone = Phone()"
   ]
  },
  {
   "cell_type": "code",
   "execution_count": null,
   "id": "3027277f-2d47-49d5-ae7b-371c68d6cf98",
   "metadata": {},
   "outputs": [],
   "source": [
    "my_phone.number"
   ]
  },
  {
   "cell_type": "code",
   "execution_count": null,
   "id": "157b6f7e-2256-4f2c-bc2c-f8a4bd7fcf2a",
   "metadata": {},
   "outputs": [],
   "source": [
    "your_phone.number"
   ]
  },
  {
   "cell_type": "code",
   "execution_count": null,
   "id": "4f30e3b9-0f0a-4892-aa45-a2663e3ad3bc",
   "metadata": {},
   "outputs": [],
   "source": [
    "my_phone.number = '010-1234-1234'"
   ]
  },
  {
   "cell_type": "code",
   "execution_count": null,
   "id": "9d807e4c-8868-41ec-a635-bbfd6388d831",
   "metadata": {},
   "outputs": [],
   "source": [
    "print(my_phone.number)"
   ]
  },
  {
   "cell_type": "code",
   "execution_count": null,
   "id": "13c4560a-9d91-49f6-a1e8-dcfafb1e3528",
   "metadata": {},
   "outputs": [],
   "source": [
    "my_phone.on()"
   ]
  },
  {
   "cell_type": "code",
   "execution_count": null,
   "id": "f84f3780-cc1f-431b-86ba-5d8ab765c264",
   "metadata": {},
   "outputs": [],
   "source": [
    "my_phone.power"
   ]
  },
  {
   "cell_type": "code",
   "execution_count": null,
   "id": "336cdc82-1045-447a-8d37-e452c8486401",
   "metadata": {},
   "outputs": [],
   "source": [
    "my_phone.call(your_phone)"
   ]
  },
  {
   "cell_type": "code",
   "execution_count": null,
   "id": "7d7e71ef-9fc9-45e3-8f6b-411213fe1954",
   "metadata": {},
   "outputs": [],
   "source": [
    "class Person():\n",
    "    name = ''\n",
    "    gender = ''\n",
    "    age = 0\n",
    "    height = 0\n",
    "\n",
    "    def greeting(self):\n",
    "        print(f'안녕하세요, 나는 {self.name}입니다')\n",
    "\n",
    "    def grow(self):\n",
    "        self.age += 1"
   ]
  },
  {
   "cell_type": "code",
   "execution_count": null,
   "id": "98163393-5ace-4748-a715-5b5086e99196",
   "metadata": {},
   "outputs": [],
   "source": [
    "p1 = Person()\n",
    "p2 = Person()"
   ]
  },
  {
   "cell_type": "code",
   "execution_count": null,
   "id": "2c7562eb-b57f-4b79-bb9b-8d4ed36445ea",
   "metadata": {},
   "outputs": [],
   "source": [
    "p1.name = 'dayomi'\n",
    "p2.name = 'minyeok'\n",
    "\n",
    "p1.gender = 'F'\n",
    "p2.gender = 'M'\n",
    "\n",
    "p1.age = 25\n",
    "p2.age = 28\n",
    "\n",
    "p1.height = 158\n",
    "p2.height = 170"
   ]
  },
  {
   "cell_type": "code",
   "execution_count": null,
   "id": "7b07c702-b7d0-4934-8ffb-572b271ac0a3",
   "metadata": {},
   "outputs": [],
   "source": [
    "p1.greeting()"
   ]
  },
  {
   "cell_type": "code",
   "execution_count": null,
   "id": "99b72354-ffe6-4417-af23-fdce0d1179b8",
   "metadata": {},
   "outputs": [],
   "source": [
    "p2.greeting()"
   ]
  },
  {
   "cell_type": "markdown",
   "id": "b4eb690b-330e-4e53-9147-c2d09dbad9c0",
   "metadata": {},
   "source": [
    "## 생성자, 소멸자\n",
    "\n",
    "```python\n",
    "class MyClass():\n",
    "    def __init__(self):\n",
    "        pass\n",
    "        \n",
    "    def __del__(self):\n",
    "        pass\n",
    "```"
   ]
  },
  {
   "cell_type": "code",
   "execution_count": null,
   "id": "1f6a9475-4240-4a28-b286-55d1568ae62c",
   "metadata": {},
   "outputs": [],
   "source": [
    "class Person():\n",
    "    name = ''\n",
    "\n",
    "    def __init__(self, name):\n",
    "        self.name = name\n",
    "        print('생성됨')\n",
    "\n",
    "    def __del__(self):\n",
    "        print('소멸됨')"
   ]
  },
  {
   "cell_type": "code",
   "execution_count": null,
   "id": "c4546c44-23a3-4675-ac89-9f5a68d3cea0",
   "metadata": {},
   "outputs": [],
   "source": [
    "p1 = Person('dayomi')\n",
    "p2 = Person('minyeok')"
   ]
  },
  {
   "cell_type": "code",
   "execution_count": null,
   "id": "2c54b970-f2e4-4c4b-8a24-953da09a9fc1",
   "metadata": {},
   "outputs": [],
   "source": [
    "del p1"
   ]
  },
  {
   "cell_type": "code",
   "execution_count": null,
   "id": "01ddf78d-69de-485d-b4b0-e46d5c27208e",
   "metadata": {},
   "outputs": [],
   "source": [
    "del p2"
   ]
  },
  {
   "cell_type": "code",
   "execution_count": null,
   "id": "19ca84d2-ddbc-48aa-a5e6-1a0d35812e3f",
   "metadata": {},
   "outputs": [],
   "source": [
    "class Circle():\n",
    "    pi = 3.14\n",
    "    \n",
    "    def __init__(self, r, x=0, y=0):\n",
    "        self.r = r\n",
    "        self.x = x\n",
    "        self.y = y\n",
    "\n",
    "    def info(self):\n",
    "        print(f'반지름은 {self.r}입니다. 중심점은{self.x,self.y}입니다')\n",
    "\n",
    "    def area(self):\n",
    "        print(self.r ** 2 *self.pi)\n",
    "\n",
    "    def round(self):\n",
    "        print(self.r * self.pi * 2)\n",
    "\n",
    "    def move(self, x, y):\n",
    "        self.x = x\n",
    "        self.y = y"
   ]
  },
  {
   "cell_type": "code",
   "execution_count": null,
   "id": "a38d98e4-d818-4bac-95b4-604c4682866b",
   "metadata": {},
   "outputs": [],
   "source": [
    "c1 = Circle(2)\n",
    "c2 = Circle(3)"
   ]
  },
  {
   "cell_type": "code",
   "execution_count": null,
   "id": "c963e331-745d-4b72-909c-7ca43d8ce913",
   "metadata": {},
   "outputs": [],
   "source": [
    "c1.info()\n",
    "c2.info()"
   ]
  },
  {
   "cell_type": "code",
   "execution_count": null,
   "id": "101b19d9-b288-4a03-b27a-3a4dc7cf0b31",
   "metadata": {},
   "outputs": [],
   "source": [
    "c1.area()\n",
    "c2.area()"
   ]
  },
  {
   "cell_type": "code",
   "execution_count": null,
   "id": "2c556b32-3f7c-45b0-a164-848bf7687a16",
   "metadata": {},
   "outputs": [],
   "source": [
    "c1.round()\n",
    "c2.round()"
   ]
  },
  {
   "cell_type": "code",
   "execution_count": null,
   "id": "295a76ba-2b33-49f8-93c6-68e85d9cb9ce",
   "metadata": {},
   "outputs": [],
   "source": [
    "c1.move(5, 5)\n",
    "c1.info()"
   ]
  },
  {
   "cell_type": "code",
   "execution_count": 1,
   "id": "508bef22-2346-4b1a-9076-424125ea7130",
   "metadata": {},
   "outputs": [],
   "source": [
    "class Point():\n",
    "    def __init__(self, x=0, y=0):\n",
    "        self.x = x\n",
    "        self.y = y\n",
    "\n",
    "    def info(self):\n",
    "        print(f'{self.x}, {self.y}')"
   ]
  },
  {
   "cell_type": "code",
   "execution_count": 2,
   "id": "f9b04b21-38eb-477d-b21b-6279421daf5a",
   "metadata": {},
   "outputs": [],
   "source": [
    "p1 = Point(1, 1)\n",
    "p2 = Point(2, 3)"
   ]
  },
  {
   "cell_type": "code",
   "execution_count": 13,
   "id": "4d14ecb9-ab50-416f-92ae-c3751441282e",
   "metadata": {},
   "outputs": [],
   "source": [
    "class Circle():\n",
    "    def __init__(self, r, point):\n",
    "        self.r = r\n",
    "        self.point = point\n",
    "\n",
    "    def info(self):\n",
    "        point = self.point\n",
    "        x = point.x\n",
    "        y = point.y\n",
    "        print(f'반지름: {self.r}중심점:{x},{y}')"
   ]
  },
  {
   "cell_type": "code",
   "execution_count": 14,
   "id": "de153a64-a07c-42c3-bf80-fc267ffec787",
   "metadata": {},
   "outputs": [],
   "source": [
    "c1 = Circle(5, p1)\n",
    "c2 = Circle(5, p2)"
   ]
  },
  {
   "cell_type": "code",
   "execution_count": 15,
   "id": "9206615b-cb24-4f80-9f66-e68aa01fa5dc",
   "metadata": {},
   "outputs": [
    {
     "name": "stdout",
     "output_type": "stream",
     "text": [
      "반지름: 5중심점:1,1\n",
      "반지름: 5중심점:2,3\n"
     ]
    }
   ],
   "source": [
    "c1.info()\n",
    "c2.info()"
   ]
  },
  {
   "cell_type": "code",
   "execution_count": 12,
   "id": "e74e6dc7-aacd-455f-bb62-94c3c2fb0ba2",
   "metadata": {},
   "outputs": [
    {
     "data": {
      "text/plain": [
       "'C'"
      ]
     },
     "execution_count": 12,
     "metadata": {},
     "output_type": "execute_result"
    }
   ],
   "source": [
    "['a', 'b', 'c'].pop().capitalize()."
   ]
  },
  {
   "cell_type": "code",
   "execution_count": null,
   "id": "431cd3b8-49c5-461d-8850-ef1df87836d7",
   "metadata": {},
   "outputs": [],
   "source": []
  }
 ],
 "metadata": {
  "kernelspec": {
   "display_name": "Python 3 (ipykernel)",
   "language": "python",
   "name": "python3"
  },
  "language_info": {
   "codemirror_mode": {
    "name": "ipython",
    "version": 3
   },
   "file_extension": ".py",
   "mimetype": "text/x-python",
   "name": "python",
   "nbconvert_exporter": "python",
   "pygments_lexer": "ipython3",
   "version": "3.13.2"
  }
 },
 "nbformat": 4,
 "nbformat_minor": 5
}
