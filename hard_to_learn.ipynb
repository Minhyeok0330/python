{
 "cells": [
  {
   "cell_type": "code",
   "execution_count": 44,
   "id": "b223c562-8309-41e4-8eea-a47056f251c6",
   "metadata": {},
   "outputs": [],
   "source": [
    "a = 2\n",
    "b = 3"
   ]
  },
  {
   "cell_type": "code",
   "execution_count": 42,
   "id": "743d6662-95ca-418d-9003-93f67119d4bf",
   "metadata": {},
   "outputs": [
    {
     "name": "stdout",
     "output_type": "stream",
     "text": [
      "5 3\n",
      "2 3\n",
      "6 3\n",
      "2.0 3\n",
      "0.0 3\n",
      "0.0 3\n",
      "0.0 3\n"
     ]
    }
   ],
   "source": [
    "a = a + b\n",
    "print(a, b)\n",
    "a = a - b\n",
    "print(a, b)\n",
    "a = a * b\n",
    "print(a, b)\n",
    "a = a / b\n",
    "print(a, b)\n",
    "a = a // b\n",
    "print(a, b)\n",
    "a = a % b\n",
    "print(a, b)\n",
    "a = a ** b\n",
    "print(a, b)"
   ]
  },
  {
   "cell_type": "code",
   "execution_count": 43,
   "id": "dfcf3a9d-bc52-4ef1-9a02-09be3a325c7f",
   "metadata": {},
   "outputs": [
    {
     "data": {
      "text/plain": [
       "0.0"
      ]
     },
     "execution_count": 43,
     "metadata": {},
     "output_type": "execute_result"
    }
   ],
   "source": [
    "a"
   ]
  },
  {
   "cell_type": "code",
   "execution_count": 45,
   "id": "2550f0e9-f53a-449a-ac74-a2d62c76aa69",
   "metadata": {},
   "outputs": [
    {
     "data": {
      "text/plain": [
       "0.6666666666666666"
      ]
     },
     "execution_count": 45,
     "metadata": {},
     "output_type": "execute_result"
    }
   ],
   "source": [
    "a / b"
   ]
  },
  {
   "cell_type": "code",
   "execution_count": 47,
   "id": "94a7cb60-ef30-4302-aafb-eccc48f87fe3",
   "metadata": {},
   "outputs": [],
   "source": [
    "age = [1,10]"
   ]
  },
  {
   "cell_type": "code",
   "execution_count": 48,
   "id": "84ebde9e-fcee-47e6-a919-f3beb2337ed0",
   "metadata": {},
   "outputs": [
    {
     "data": {
      "text/plain": [
       "[1, 10]"
      ]
     },
     "execution_count": 48,
     "metadata": {},
     "output_type": "execute_result"
    }
   ],
   "source": [
    "age"
   ]
  },
  {
   "cell_type": "code",
   "execution_count": 53,
   "id": "7cc6b170-9324-44ad-8e4a-2b23609d46bc",
   "metadata": {},
   "outputs": [
    {
     "name": "stdout",
     "output_type": "stream",
     "text": [
      "<class 'set'>\n"
     ]
    }
   ],
   "source": [
    "print(type({1,10}))"
   ]
  },
  {
   "cell_type": "code",
   "execution_count": 68,
   "id": "613f06c0-c800-4c86-b627-ba960166252d",
   "metadata": {},
   "outputs": [],
   "source": [
    "a = 'what a nice day!'"
   ]
  },
  {
   "cell_type": "code",
   "execution_count": 55,
   "id": "5f518829-2021-457d-9197-764d320dd1aa",
   "metadata": {},
   "outputs": [
    {
     "data": {
      "text/plain": [
       "'what a nice day!'"
      ]
     },
     "execution_count": 55,
     "metadata": {},
     "output_type": "execute_result"
    }
   ],
   "source": [
    "a"
   ]
  },
  {
   "cell_type": "code",
   "execution_count": 56,
   "id": "e21d0b63-ad9f-4457-bde7-3dcd3b862f45",
   "metadata": {},
   "outputs": [
    {
     "ename": "TypeError",
     "evalue": "'str' object does not support item assignment",
     "output_type": "error",
     "traceback": [
      "\u001b[1;31m---------------------------------------------------------------------------\u001b[0m",
      "\u001b[1;31mTypeError\u001b[0m                                 Traceback (most recent call last)",
      "Cell \u001b[1;32mIn[56], line 1\u001b[0m\n\u001b[1;32m----> 1\u001b[0m \u001b[43ma\u001b[49m\u001b[43m[\u001b[49m\u001b[38;5;241;43m0\u001b[39;49m\u001b[43m]\u001b[49m \u001b[38;5;241m=\u001b[39m \u001b[38;5;124m'\u001b[39m\u001b[38;5;124mk\u001b[39m\u001b[38;5;124m'\u001b[39m\n",
      "\u001b[1;31mTypeError\u001b[0m: 'str' object does not support item assignment"
     ]
    }
   ],
   "source": [
    "a[0] = 'k'"
   ]
  },
  {
   "cell_type": "code",
   "execution_count": 57,
   "id": "0bdd6f8b-7cdb-4915-9419-b772a51ea2f4",
   "metadata": {},
   "outputs": [],
   "source": [
    "a = 'k' + a[1:]"
   ]
  },
  {
   "cell_type": "code",
   "execution_count": 58,
   "id": "50ae8ca4-1c09-40c9-964b-5a75bf1e8cd7",
   "metadata": {},
   "outputs": [
    {
     "data": {
      "text/plain": [
       "'khat a nice day!'"
      ]
     },
     "execution_count": 58,
     "metadata": {},
     "output_type": "execute_result"
    }
   ],
   "source": [
    "a"
   ]
  },
  {
   "cell_type": "code",
   "execution_count": 71,
   "id": "fad041db-36b0-435c-8296-4ddd46906a24",
   "metadata": {},
   "outputs": [],
   "source": [
    "a = 'b' + a[2:]"
   ]
  },
  {
   "cell_type": "code",
   "execution_count": 72,
   "id": "c9b35e3e-090a-4fb8-a74a-0a13c6d868c6",
   "metadata": {},
   "outputs": [
    {
     "data": {
      "text/plain": [
       "'bh'"
      ]
     },
     "execution_count": 72,
     "metadata": {},
     "output_type": "execute_result"
    }
   ],
   "source": [
    "a"
   ]
  },
  {
   "cell_type": "code",
   "execution_count": null,
   "id": "0121ad3f-1ce3-48ab-ac55-b21458f7da54",
   "metadata": {},
   "outputs": [],
   "source": []
  }
 ],
 "metadata": {
  "kernelspec": {
   "display_name": "Python 3 (ipykernel)",
   "language": "python",
   "name": "python3"
  },
  "language_info": {
   "codemirror_mode": {
    "name": "ipython",
    "version": 3
   },
   "file_extension": ".py",
   "mimetype": "text/x-python",
   "name": "python",
   "nbconvert_exporter": "python",
   "pygments_lexer": "ipython3",
   "version": "3.13.2"
  }
 },
 "nbformat": 4,
 "nbformat_minor": 5
}
