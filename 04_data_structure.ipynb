{
 "cells": [
  {
   "cell_type": "markdown",
   "id": "1acfad3d-87cb-49e6-b81f-4b867941d674",
   "metadata": {},
   "source": [
    "# 자료구조\n",
    "> 여러가지 자료구조가 가지고 있는 메소드(함수) 알아보기"
   ]
  },
  {
   "cell_type": "code",
   "execution_count": null,
   "id": "8a0b5974-a37f-4601-8a2a-6ca7ea0c031d",
   "metadata": {},
   "outputs": [],
   "source": [
    "print(dir('hello'))"
   ]
  },
  {
   "cell_type": "markdown",
   "id": "f711d761-c013-4afb-b62e-98b7ef2e9011",
   "metadata": {},
   "source": [
    "## 문자열 메소드"
   ]
  },
  {
   "cell_type": "code",
   "execution_count": null,
   "id": "5558ef27-f03d-4bfe-9cee-133d9f5bf5dd",
   "metadata": {},
   "outputs": [],
   "source": [
    "a = 'hello my name is hong'"
   ]
  },
  {
   "cell_type": "code",
   "execution_count": null,
   "id": "a152d79d-2630-48c8-82a9-27d4ebfc93ed",
   "metadata": {},
   "outputs": [],
   "source": [
    "print(a)"
   ]
  },
  {
   "cell_type": "code",
   "execution_count": null,
   "id": "7fd42720-eaac-493f-b597-d38910f5b127",
   "metadata": {},
   "outputs": [],
   "source": [
    "a[0] = 'H'"
   ]
  },
  {
   "cell_type": "code",
   "execution_count": null,
   "id": "bb06a25a-4cae-42f3-ac39-d54580cf871b",
   "metadata": {},
   "outputs": [],
   "source": [
    "a = a.capitalize()\n",
    "# .capitalize 문장 단위 대문자"
   ]
  },
  {
   "cell_type": "code",
   "execution_count": null,
   "id": "8d899026-a55b-49cf-b7b8-0df146d29b2f",
   "metadata": {},
   "outputs": [],
   "source": [
    "print(a)"
   ]
  },
  {
   "cell_type": "code",
   "execution_count": null,
   "id": "a3590110-4cea-4e5a-abf0-54f578044ae4",
   "metadata": {},
   "outputs": [],
   "source": [
    "a.title()\n",
    "# .title 공백 앞 대문자"
   ]
  },
  {
   "cell_type": "code",
   "execution_count": null,
   "id": "3e4abda4-aaab-450b-a3ca-b22f69310aaa",
   "metadata": {},
   "outputs": [],
   "source": [
    "a.lower()\n",
    "# .lower 모든 문장 소문자"
   ]
  },
  {
   "cell_type": "code",
   "execution_count": null,
   "id": "c9d7586c-9c12-4ab3-ba3e-696a6a2ca1df",
   "metadata": {},
   "outputs": [],
   "source": [
    "a.upper()\n",
    "# .upper 모든 문장 대문자"
   ]
  },
  {
   "cell_type": "code",
   "execution_count": 11,
   "id": "b81fb30e-80b0-4c9e-859f-a0aa0790fe5c",
   "metadata": {},
   "outputs": [
    {
     "data": {
      "text/plain": [
       "'my!name!is'"
      ]
     },
     "execution_count": 11,
     "metadata": {},
     "output_type": "execute_result"
    }
   ],
   "source": [
    "my_list = ['my', 'name', 'is']\n",
    "'!'.join(my_list)"
   ]
  },
  {
   "cell_type": "code",
   "execution_count": 10,
   "id": "1f7ca254-d4fc-4202-b642-f489693a4cf4",
   "metadata": {},
   "outputs": [
    {
     "data": {
      "text/plain": [
       "'배?고?프?다'"
      ]
     },
     "execution_count": 10,
     "metadata": {},
     "output_type": "execute_result"
    }
   ],
   "source": [
    "'?'.join('배고프다')\n",
    "# .join은 list, tuple 등을 str으로 변환\n",
    "#데이터 사이사이에 ''안에 표기된 새로운 데이터를 추가"
   ]
  },
  {
   "cell_type": "code",
   "execution_count": null,
   "id": "6678275b-ef10-4538-ab5e-da424396f45b",
   "metadata": {},
   "outputs": [],
   "source": [
    "a = '          hello          \\n'\n",
    "a.strip()\n",
    "# .strip 은 여백으로 여겨지는 모든 것을 삭제.{기본 값에 '', '/n 등이 포함} ()안에 삭제 값을 입력"
   ]
  },
  {
   "cell_type": "code",
   "execution_count": null,
   "id": "a000f19b-478c-4510-abf5-8ae0603a7df0",
   "metadata": {},
   "outputs": [],
   "source": [
    "a = '--------------------hello----------------'\n",
    "a.lstrip('-')"
   ]
  },
  {
   "cell_type": "code",
   "execution_count": null,
   "id": "8e76e27d-28c3-4f0d-aa41-5c87da634ecf",
   "metadata": {},
   "outputs": [],
   "source": [
    "a.rstrip('-')"
   ]
  },
  {
   "cell_type": "code",
   "execution_count": null,
   "id": "5d032412-8c5d-4789-a64c-4b659e91722b",
   "metadata": {},
   "outputs": [],
   "source": [
    "a.strip('-')"
   ]
  },
  {
   "cell_type": "code",
   "execution_count": null,
   "id": "00b9b727-720b-4fe7-89b9-40317ed844b7",
   "metadata": {},
   "outputs": [],
   "source": [
    "a = 'wooooooooooooooooooooooooow'\n",
    "a.replace('o', 'l')"
   ]
  },
  {
   "cell_type": "code",
   "execution_count": null,
   "id": "a2d427ba-3432-4088-9c2f-46a97badc696",
   "metadata": {},
   "outputs": [],
   "source": [
    "a.replace('o', 'l', 3)\n",
    "#중간부터 바꾸는 건 불가능"
   ]
  },
  {
   "cell_type": "code",
   "execution_count": null,
   "id": "f940cc25-b81d-42c1-a919-490490b32f94",
   "metadata": {},
   "outputs": [],
   "source": [
    "a = 'apple'\n",
    "a.find('a')"
   ]
  },
  {
   "cell_type": "code",
   "execution_count": null,
   "id": "c1a9a2c6-57de-415f-b179-65be3a67865e",
   "metadata": {},
   "outputs": [],
   "source": [
    "a.find('l')"
   ]
  },
  {
   "cell_type": "code",
   "execution_count": null,
   "id": "e8b62e68-b5b7-4dfc-862a-daf54392b9bb",
   "metadata": {},
   "outputs": [],
   "source": [
    "a.find('p') \n",
    "# 중복 시에 최초로 찾은 데이터 출력"
   ]
  },
  {
   "cell_type": "code",
   "execution_count": null,
   "id": "666cbf16-084c-48ee-83b7-fe0690f27736",
   "metadata": {},
   "outputs": [],
   "source": [
    "a.find('z')\n",
    "# -1은 '없음'을 의미한다."
   ]
  },
  {
   "cell_type": "code",
   "execution_count": null,
   "id": "7614cb4f-082b-45c5-a1d0-dcf813b9dc57",
   "metadata": {},
   "outputs": [],
   "source": [
    "a = 'apple'\n",
    "a.index('a')"
   ]
  },
  {
   "cell_type": "code",
   "execution_count": null,
   "id": "f948119a-e8b2-48f8-a86b-dcc0ecd26abc",
   "metadata": {},
   "outputs": [],
   "source": [
    "a.index('l')"
   ]
  },
  {
   "cell_type": "code",
   "execution_count": null,
   "id": "3e510012-16f0-425a-806e-3a0374272708",
   "metadata": {},
   "outputs": [],
   "source": [
    "a.index('p')"
   ]
  },
  {
   "cell_type": "code",
   "execution_count": null,
   "id": "c184332f-c058-4c7a-80f3-351733a08a6e",
   "metadata": {},
   "outputs": [],
   "source": [
    "a.index('z')\n",
    "# 없는 데이터를 찾으려고 시도하면 error 발생"
   ]
  },
  {
   "cell_type": "code",
   "execution_count": null,
   "id": "2204c391-be0f-4a5d-ac35-be9e907ecbe4",
   "metadata": {},
   "outputs": [],
   "source": [
    "a = 'my name is hong'\n",
    "a.split('h')"
   ]
  },
  {
   "cell_type": "code",
   "execution_count": null,
   "id": "be0ea981-6635-4773-beea-3ee02c8c2325",
   "metadata": {},
   "outputs": [],
   "source": [
    "a = 'wooooooooooow'\n",
    "a.count('o')"
   ]
  },
  {
   "cell_type": "markdown",
   "id": "c9eef701-a7cc-4a4b-a2a0-6c7ef5e23cbc",
   "metadata": {},
   "source": [
    "# 리스트 메소드"
   ]
  },
  {
   "cell_type": "code",
   "execution_count": null,
   "id": "1ec2a0c0-903f-4011-af26-e91d7b8c81e3",
   "metadata": {},
   "outputs": [],
   "source": [
    "numbers = [2, 6, 1, 4, 8, 3, 2, 8]"
   ]
  },
  {
   "cell_type": "code",
   "execution_count": null,
   "id": "6b04d099-5a1d-42fe-a229-b548941be77a",
   "metadata": {},
   "outputs": [],
   "source": [
    "numbers.append(10)\n",
    "print(numbers)"
   ]
  },
  {
   "cell_type": "code",
   "execution_count": null,
   "id": "29467f9b-09d8-416c-8587-53e87117ca23",
   "metadata": {},
   "outputs": [],
   "source": [
    "a = [99, 100]"
   ]
  },
  {
   "cell_type": "code",
   "execution_count": null,
   "id": "0a36f060-b95d-4694-86e6-adb826bdb474",
   "metadata": {},
   "outputs": [],
   "source": [
    "numbers.extend(a) # => numbers + a\n",
    " # =>print(numbers)"
   ]
  },
  {
   "cell_type": "code",
   "execution_count": null,
   "id": "5c987a40-b7ea-469a-b021-c33aa1dce146",
   "metadata": {},
   "outputs": [],
   "source": [
    "numbers.insert(100, 45)\n",
    "print(numbers)"
   ]
  },
  {
   "cell_type": "code",
   "execution_count": null,
   "id": "9f1cf6ea-99d9-4c17-8979-1eb4391f1406",
   "metadata": {},
   "outputs": [],
   "source": [
    "# 첫번째 x를 찾아서 제거, 없다면 오류\n",
    "numbers.remove(x)\n",
    "print(numbers)"
   ]
  },
  {
   "cell_type": "code",
   "execution_count": null,
   "id": "ad0bc518-5eb5-43c6-bb40-ef2969bc3228",
   "metadata": {},
   "outputs": [],
   "source": [
    "numbers.pop()\n",
    "print(numbers)\n",
    "\n",
    "#pop 뒤에 값 입력 없다면 stack형\n",
    "#값 입력이 있다면 que"
   ]
  },
  {
   "cell_type": "code",
   "execution_count": null,
   "id": "c7caad92-160b-48ef-a87f-f63979beabf0",
   "metadata": {},
   "outputs": [],
   "source": [
    "numbers.sort()\n",
    "print(numbers)"
   ]
  },
  {
   "cell_type": "code",
   "execution_count": null,
   "id": "0f052d3d-e2d7-441d-af90-25ab203da429",
   "metadata": {},
   "outputs": [],
   "source": [
    "numbers.sort(reverse=True)\n",
    "print(numbers)"
   ]
  },
  {
   "cell_type": "code",
   "execution_count": null,
   "id": "42e0539d-bff2-4487-bdf0-c38eb2300b62",
   "metadata": {},
   "outputs": [],
   "source": [
    "a = [5, 3, 2, 7, 8, 1]\n",
    "\n",
    "print(sorted(a))\n",
    "print(a)\n",
    "\n",
    "#sort는 원본 데이터를 변경, sorted()함수는 계산만 수행"
   ]
  },
  {
   "cell_type": "code",
   "execution_count": null,
   "id": "5394d56d-c570-4009-a521-ac7f6f814e36",
   "metadata": {},
   "outputs": [],
   "source": [
    "my_list = ['a', 'e', '나', '바', 'z']\n",
    "my_list.sort()\n",
    "print(my_list)"
   ]
  },
  {
   "cell_type": "code",
   "execution_count": null,
   "id": "3dc28f73-ea30-4f07-92d2-f54536a62638",
   "metadata": {},
   "outputs": [],
   "source": [
    "print(numbers)\n",
    "numbers.reverse()\n",
    "print(numbers)"
   ]
  },
  {
   "cell_type": "code",
   "execution_count": null,
   "id": "c30905e6-7dac-4099-9e80-83010045721b",
   "metadata": {},
   "outputs": [],
   "source": [
    "numbers.count(10)"
   ]
  },
  {
   "cell_type": "markdown",
   "id": "f1c46b6e-995b-4ebb-b47b-dbbe254d000f",
   "metadata": {},
   "source": [
    "### list copy"
   ]
  },
  {
   "cell_type": "code",
   "execution_count": null,
   "id": "40c91fc5-0f09-40eb-b498-50b7a1825797",
   "metadata": {},
   "outputs": [],
   "source": [
    "origin_list = [1, 2, 3]\n",
    "copy_list = origin_list"
   ]
  },
  {
   "cell_type": "code",
   "execution_count": null,
   "id": "d9fa1480-817c-43ab-9bcf-722fa9ffec78",
   "metadata": {},
   "outputs": [],
   "source": [
    "print(origin_list)\n",
    "print(copy_list)"
   ]
  },
  {
   "cell_type": "code",
   "execution_count": null,
   "id": "d5559b8e-583c-40fa-803f-f5b8411c9fcc",
   "metadata": {},
   "outputs": [],
   "source": [
    "copy_list[0] = 100"
   ]
  },
  {
   "cell_type": "code",
   "execution_count": null,
   "id": "fe149984-20cc-4dff-a7d8-e0b5d11256c7",
   "metadata": {},
   "outputs": [],
   "source": [
    "print(origin_list)\n",
    "print(copy_list)"
   ]
  },
  {
   "cell_type": "code",
   "execution_count": null,
   "id": "39766ade-d538-4c7c-b08f-19acc7e9729b",
   "metadata": {},
   "outputs": [],
   "source": [
    "origin_list = [1, 2, 3]\n",
    "copy_list = origin_list[:]\n",
    "\n",
    "copy_list[0] = 100\n",
    "\n",
    "print(origin_list)\n",
    "print(copy_list)"
   ]
  },
  {
   "cell_type": "code",
   "execution_count": null,
   "id": "f56bd99c-307f-4765-acc5-7cd550516590",
   "metadata": {},
   "outputs": [],
   "source": [
    "o_l = [1, 2, [10, 11]] # 이런 경우엔 : 사용할 수 없음. index 번호가 명확하지 않기 때문.\n",
    "c_l = o_l[:]\n",
    "\n",
    "c_l[0] = 100\n",
    "c_l[2][0] = -10\n",
    "\n",
    "print(o_l)\n",
    "print(c_l)"
   ]
  },
  {
   "cell_type": "code",
   "execution_count": null,
   "id": "6f727cec-d931-431f-bbdf-5f78ddfc7bfe",
   "metadata": {},
   "outputs": [],
   "source": [
    "import copy\n",
    "\n",
    "o_l = [1, 2, [10 ,11]]\n",
    "c_l = copy.deepcopy(o_l)\n",
    "\n",
    "c_l[0] = 100\n",
    "c_l[2][0] = -11\n",
    "\n",
    "print(o_l)\n",
    "print(c_l)"
   ]
  },
  {
   "cell_type": "markdown",
   "id": "b150aed7-9b0c-41b6-b232-0634e79b2814",
   "metadata": {},
   "source": [
    "### list comprehension"
   ]
  },
  {
   "cell_type": "code",
   "execution_count": null,
   "id": "ac13d267-4262-4c6d-8967-03869dda1b15",
   "metadata": {},
   "outputs": [],
   "source": [
    "numbers = list(range(1, 11))\n",
    "print(numbers)"
   ]
  },
  {
   "cell_type": "code",
   "execution_count": null,
   "id": "522284cb-b540-45c4-9196-0c3135af398f",
   "metadata": {},
   "outputs": [],
   "source": [
    "result = []\n",
    "\n",
    "for number in numbers:\n",
    "    temp = number ** 3\n",
    "    result.append(temp)\n",
    "\n",
    "print(result)"
   ]
  },
  {
   "cell_type": "code",
   "execution_count": null,
   "id": "63127387-9810-4d82-b422-13283056d1fe",
   "metadata": {},
   "outputs": [],
   "source": [
    "result = [number ** 3 for number in numbers]\n",
    "print(result)"
   ]
  },
  {
   "cell_type": "code",
   "execution_count": null,
   "id": "fb798c3d-f4de-4f57-a6dd-11ef7f6ebe43",
   "metadata": {},
   "outputs": [],
   "source": [
    "# 짝수만 고르기\n",
    "\n",
    "numbers = list(range(1, 31))\n",
    "print(numbers)"
   ]
  },
  {
   "cell_type": "code",
   "execution_count": null,
   "id": "15170e63-65d5-400b-abcc-e04d389512a3",
   "metadata": {},
   "outputs": [],
   "source": [
    "result = []\n",
    "\n",
    "for number in numbers:\n",
    "    if number % 2 == 0:\n",
    "        result.append(number * 2)\n",
    "\n",
    "print(result)"
   ]
  },
  {
   "cell_type": "code",
   "execution_count": null,
   "id": "587354a2-a134-4129-807e-558cfb2de830",
   "metadata": {},
   "outputs": [],
   "source": [
    "numbers = list(range(1, 31))\n",
    "result = [number for number in numbers if number % 2 == 0]\n",
    "print(result)"
   ]
  },
  {
   "cell_type": "code",
   "execution_count": 34,
   "id": "1f7933c3-ff16-40b9-a3ba-0bbd1d9a40f9",
   "metadata": {},
   "outputs": [],
   "source": [
    "words = ['my name is hong']"
   ]
  },
  {
   "cell_type": "code",
   "execution_count": 35,
   "id": "3ded9a60-71eb-4418-a518-a4e336b9785a",
   "metadata": {},
   "outputs": [
    {
     "name": "stdout",
     "output_type": "stream",
     "text": [
      "['m', 'y', ' ', 'n', 'm', ' ', 's', ' ', 'h', 'n', 'g']\n",
      "my nm s hng\n"
     ]
    }
   ],
   "source": [
    "words = 'my name is hong'\n",
    "result = []\n",
    "moeum = ['a', 'e', 'i', 'o', 'u']\n",
    "\n",
    "for word in words:\n",
    "     if word not in moeum:\n",
    "        result.append(word)\n",
    "\n",
    "print(result)\n",
    "print(''.join(result))"
   ]
  },
  {
   "cell_type": "code",
   "execution_count": null,
   "id": "20172aed-07e3-4c23-ae94-c40b0c8955fa",
   "metadata": {},
   "outputs": [],
   "source": [
    "words = 'my name is hong'\n",
    "result = []\n",
    "\n",
    "for word in words:\n",
    "     if word not in 'aeiou':\n",
    "        result.append(word)\n",
    "print(result)\n",
    "print(''.join(result))"
   ]
  },
  {
   "cell_type": "code",
   "execution_count": 9,
   "id": "b655ca28-d0af-4f02-901f-0d9e8e88d141",
   "metadata": {},
   "outputs": [
    {
     "name": "stdout",
     "output_type": "stream",
     "text": [
      "['m', 'y', ' ', 'n', 'm', ' ', 's', ' ', 'h', 'n', 'g']\n",
      "my nm s hng\n"
     ]
    }
   ],
   "source": [
    "words = 'my name is hong'\n",
    "moeum = ['a', 'e', 'i', 'o', 'u']\n",
    "\n",
    "result = [word for word in words if word not in moeum]\n",
    "print(result)\n",
    "print(''.join(result))"
   ]
  },
  {
   "cell_type": "code",
   "execution_count": 14,
   "id": "ec14e8ed-87ef-4645-a62f-695fa9a96d6c",
   "metadata": {},
   "outputs": [
    {
     "name": "stdout",
     "output_type": "stream",
     "text": [
      "my nm s hng\n"
     ]
    }
   ],
   "source": [
    "# 3. replace 메소드\n",
    "words = 'my name is hong'\n",
    "vowels = 'aeiou'\n",
    "\n",
    "for char in vowels:\n",
    "    words = words.replace(char, '')\n",
    "\n",
    "print(words)"
   ]
  },
  {
   "cell_type": "code",
   "execution_count": null,
   "id": "d555fedf-9e54-4c05-89fa-1b6d9be80f05",
   "metadata": {},
   "outputs": [],
   "source": []
  }
 ],
 "metadata": {
  "kernelspec": {
   "display_name": "Python 3 (ipykernel)",
   "language": "python",
   "name": "python3"
  },
  "language_info": {
   "codemirror_mode": {
    "name": "ipython",
    "version": 3
   },
   "file_extension": ".py",
   "mimetype": "text/x-python",
   "name": "python",
   "nbconvert_exporter": "python",
   "pygments_lexer": "ipython3",
   "version": "3.13.2"
  }
 },
 "nbformat": 4,
 "nbformat_minor": 5
}
