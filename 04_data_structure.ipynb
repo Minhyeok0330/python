{
 "cells": [
  {
   "cell_type": "markdown",
   "id": "1acfad3d-87cb-49e6-b81f-4b867941d674",
   "metadata": {},
   "source": [
    "# 자료구조\n",
    "> 여러가지 자료구조가 가지고 있는 메소드(함수) 알아보기"
   ]
  },
  {
   "cell_type": "code",
   "execution_count": 1,
   "id": "8a0b5974-a37f-4601-8a2a-6ca7ea0c031d",
   "metadata": {},
   "outputs": [
    {
     "name": "stdout",
     "output_type": "stream",
     "text": [
      "['__add__', '__class__', '__contains__', '__delattr__', '__dir__', '__doc__', '__eq__', '__format__', '__ge__', '__getattribute__', '__getitem__', '__getnewargs__', '__getstate__', '__gt__', '__hash__', '__init__', '__init_subclass__', '__iter__', '__le__', '__len__', '__lt__', '__mod__', '__mul__', '__ne__', '__new__', '__reduce__', '__reduce_ex__', '__repr__', '__rmod__', '__rmul__', '__setattr__', '__sizeof__', '__str__', '__subclasshook__', 'capitalize', 'casefold', 'center', 'count', 'encode', 'endswith', 'expandtabs', 'find', 'format', 'format_map', 'index', 'isalnum', 'isalpha', 'isascii', 'isdecimal', 'isdigit', 'isidentifier', 'islower', 'isnumeric', 'isprintable', 'isspace', 'istitle', 'isupper', 'join', 'ljust', 'lower', 'lstrip', 'maketrans', 'partition', 'removeprefix', 'removesuffix', 'replace', 'rfind', 'rindex', 'rjust', 'rpartition', 'rsplit', 'rstrip', 'split', 'splitlines', 'startswith', 'strip', 'swapcase', 'title', 'translate', 'upper', 'zfill']\n"
     ]
    }
   ],
   "source": [
    "print(dir('hello'))"
   ]
  },
  {
   "cell_type": "markdown",
   "id": "f711d761-c013-4afb-b62e-98b7ef2e9011",
   "metadata": {},
   "source": [
    "## 문자열 메소드"
   ]
  },
  {
   "cell_type": "code",
   "execution_count": 2,
   "id": "5558ef27-f03d-4bfe-9cee-133d9f5bf5dd",
   "metadata": {},
   "outputs": [],
   "source": [
    "a = 'hello my name is hong'"
   ]
  },
  {
   "cell_type": "code",
   "execution_count": 3,
   "id": "a152d79d-2630-48c8-82a9-27d4ebfc93ed",
   "metadata": {},
   "outputs": [
    {
     "name": "stdout",
     "output_type": "stream",
     "text": [
      "hello my name is hong\n"
     ]
    }
   ],
   "source": [
    "print(a)"
   ]
  },
  {
   "cell_type": "code",
   "execution_count": 4,
   "id": "7fd42720-eaac-493f-b597-d38910f5b127",
   "metadata": {},
   "outputs": [
    {
     "ename": "TypeError",
     "evalue": "'str' object does not support item assignment",
     "output_type": "error",
     "traceback": [
      "\u001b[1;31m---------------------------------------------------------------------------\u001b[0m",
      "\u001b[1;31mTypeError\u001b[0m                                 Traceback (most recent call last)",
      "Cell \u001b[1;32mIn[4], line 1\u001b[0m\n\u001b[1;32m----> 1\u001b[0m \u001b[43ma\u001b[49m\u001b[43m[\u001b[49m\u001b[38;5;241;43m0\u001b[39;49m\u001b[43m]\u001b[49m \u001b[38;5;241m=\u001b[39m \u001b[38;5;124m'\u001b[39m\u001b[38;5;124mH\u001b[39m\u001b[38;5;124m'\u001b[39m\n",
      "\u001b[1;31mTypeError\u001b[0m: 'str' object does not support item assignment"
     ]
    }
   ],
   "source": [
    "a[0] = 'H'"
   ]
  },
  {
   "cell_type": "code",
   "execution_count": 10,
   "id": "bb06a25a-4cae-42f3-ac39-d54580cf871b",
   "metadata": {},
   "outputs": [],
   "source": [
    "a = a.capitalize()\n",
    "# .capitalize 문장 단위 대문자"
   ]
  },
  {
   "cell_type": "code",
   "execution_count": 11,
   "id": "8d899026-a55b-49cf-b7b8-0df146d29b2f",
   "metadata": {},
   "outputs": [
    {
     "name": "stdout",
     "output_type": "stream",
     "text": [
      "Hello my name is hong\n"
     ]
    }
   ],
   "source": [
    "print(a)"
   ]
  },
  {
   "cell_type": "code",
   "execution_count": 12,
   "id": "a3590110-4cea-4e5a-abf0-54f578044ae4",
   "metadata": {},
   "outputs": [
    {
     "data": {
      "text/plain": [
       "'Hello My Name Is Hong'"
      ]
     },
     "execution_count": 12,
     "metadata": {},
     "output_type": "execute_result"
    }
   ],
   "source": [
    "a.title()\n",
    "# .title 공백 앞 대문자"
   ]
  },
  {
   "cell_type": "code",
   "execution_count": 13,
   "id": "3e4abda4-aaab-450b-a3ca-b22f69310aaa",
   "metadata": {},
   "outputs": [
    {
     "data": {
      "text/plain": [
       "'hello my name is hong'"
      ]
     },
     "execution_count": 13,
     "metadata": {},
     "output_type": "execute_result"
    }
   ],
   "source": [
    "a.lower()\n",
    "# .lower 모든 문장 소문자"
   ]
  },
  {
   "cell_type": "code",
   "execution_count": 15,
   "id": "c9d7586c-9c12-4ab3-ba3e-696a6a2ca1df",
   "metadata": {},
   "outputs": [
    {
     "data": {
      "text/plain": [
       "'HELLO MY NAME IS HONG'"
      ]
     },
     "execution_count": 15,
     "metadata": {},
     "output_type": "execute_result"
    }
   ],
   "source": [
    "a.upper()\n",
    "# .upper 모든 문장 대문자"
   ]
  },
  {
   "cell_type": "code",
   "execution_count": 18,
   "id": "b81fb30e-80b0-4c9e-859f-a0aa0790fe5c",
   "metadata": {},
   "outputs": [
    {
     "data": {
      "text/plain": [
       "'my!name!is'"
      ]
     },
     "execution_count": 18,
     "metadata": {},
     "output_type": "execute_result"
    }
   ],
   "source": [
    "my_list = ['my', 'name', 'is']\n",
    "'!'.join(my_list)"
   ]
  },
  {
   "cell_type": "code",
   "execution_count": 19,
   "id": "1f7ca254-d4fc-4202-b642-f489693a4cf4",
   "metadata": {},
   "outputs": [
    {
     "data": {
      "text/plain": [
       "'배?고?프?다'"
      ]
     },
     "execution_count": 19,
     "metadata": {},
     "output_type": "execute_result"
    }
   ],
   "source": [
    "'?'.join('배고프다')\n",
    "# .join은 데이터 사이사이 새로운 데이터를 추가"
   ]
  },
  {
   "cell_type": "code",
   "execution_count": 21,
   "id": "6678275b-ef10-4538-ab5e-da424396f45b",
   "metadata": {},
   "outputs": [
    {
     "data": {
      "text/plain": [
       "'hello'"
      ]
     },
     "execution_count": 21,
     "metadata": {},
     "output_type": "execute_result"
    }
   ],
   "source": [
    "a = '          hello          \\n'\n",
    "a.strip()\n",
    "# .strip 은 여백으로 여겨지는 모든 것을 삭제.{기본 값에 '', '/n 등이 포함} ()안에 삭제 값을 입력"
   ]
  },
  {
   "cell_type": "code",
   "execution_count": 27,
   "id": "a000f19b-478c-4510-abf5-8ae0603a7df0",
   "metadata": {},
   "outputs": [
    {
     "data": {
      "text/plain": [
       "'hello----------------'"
      ]
     },
     "execution_count": 27,
     "metadata": {},
     "output_type": "execute_result"
    }
   ],
   "source": [
    "a = '--------------------hello----------------'\n",
    "a.lstrip('-')"
   ]
  },
  {
   "cell_type": "code",
   "execution_count": 28,
   "id": "8e76e27d-28c3-4f0d-aa41-5c87da634ecf",
   "metadata": {},
   "outputs": [
    {
     "data": {
      "text/plain": [
       "'--------------------hello'"
      ]
     },
     "execution_count": 28,
     "metadata": {},
     "output_type": "execute_result"
    }
   ],
   "source": [
    "a.rstrip('-')"
   ]
  },
  {
   "cell_type": "code",
   "execution_count": 29,
   "id": "5d032412-8c5d-4789-a64c-4b659e91722b",
   "metadata": {},
   "outputs": [
    {
     "data": {
      "text/plain": [
       "'hello'"
      ]
     },
     "execution_count": 29,
     "metadata": {},
     "output_type": "execute_result"
    }
   ],
   "source": [
    "a.strip('-')"
   ]
  },
  {
   "cell_type": "code",
   "execution_count": 33,
   "id": "00b9b727-720b-4fe7-89b9-40317ed844b7",
   "metadata": {},
   "outputs": [
    {
     "data": {
      "text/plain": [
       "'wlllllllllllllllllllllllllw'"
      ]
     },
     "execution_count": 33,
     "metadata": {},
     "output_type": "execute_result"
    }
   ],
   "source": [
    "a = 'wooooooooooooooooooooooooow'\n",
    "a.replace('o', 'l')"
   ]
  },
  {
   "cell_type": "code",
   "execution_count": 34,
   "id": "a2d427ba-3432-4088-9c2f-46a97badc696",
   "metadata": {},
   "outputs": [
    {
     "data": {
      "text/plain": [
       "'wllloooooooooooooooooooooow'"
      ]
     },
     "execution_count": 34,
     "metadata": {},
     "output_type": "execute_result"
    }
   ],
   "source": [
    "a.replace('o', 'l', 3)\n",
    "#중간부터 바꾸는 건 불가능"
   ]
  },
  {
   "cell_type": "code",
   "execution_count": 39,
   "id": "f940cc25-b81d-42c1-a919-490490b32f94",
   "metadata": {},
   "outputs": [
    {
     "data": {
      "text/plain": [
       "0"
      ]
     },
     "execution_count": 39,
     "metadata": {},
     "output_type": "execute_result"
    }
   ],
   "source": [
    "a = 'apple'\n",
    "a.find('a')"
   ]
  },
  {
   "cell_type": "code",
   "execution_count": 40,
   "id": "c1a9a2c6-57de-415f-b179-65be3a67865e",
   "metadata": {},
   "outputs": [
    {
     "data": {
      "text/plain": [
       "3"
      ]
     },
     "execution_count": 40,
     "metadata": {},
     "output_type": "execute_result"
    }
   ],
   "source": [
    "a.find('l')"
   ]
  },
  {
   "cell_type": "code",
   "execution_count": 42,
   "id": "e8b62e68-b5b7-4dfc-862a-daf54392b9bb",
   "metadata": {},
   "outputs": [
    {
     "data": {
      "text/plain": [
       "1"
      ]
     },
     "execution_count": 42,
     "metadata": {},
     "output_type": "execute_result"
    }
   ],
   "source": [
    "a.find('p') \n",
    "# 중복 시에 최초로 찾은 데이터 출력"
   ]
  },
  {
   "cell_type": "code",
   "execution_count": 44,
   "id": "666cbf16-084c-48ee-83b7-fe0690f27736",
   "metadata": {},
   "outputs": [
    {
     "data": {
      "text/plain": [
       "-1"
      ]
     },
     "execution_count": 44,
     "metadata": {},
     "output_type": "execute_result"
    }
   ],
   "source": [
    "a.find('z')\n",
    "# -1은 '없음'을 의미한다."
   ]
  },
  {
   "cell_type": "code",
   "execution_count": 45,
   "id": "7614cb4f-082b-45c5-a1d0-dcf813b9dc57",
   "metadata": {},
   "outputs": [
    {
     "data": {
      "text/plain": [
       "0"
      ]
     },
     "execution_count": 45,
     "metadata": {},
     "output_type": "execute_result"
    }
   ],
   "source": [
    "a = 'apple'\n",
    "a.index('a')"
   ]
  },
  {
   "cell_type": "code",
   "execution_count": 46,
   "id": "f948119a-e8b2-48f8-a86b-dcc0ecd26abc",
   "metadata": {},
   "outputs": [
    {
     "data": {
      "text/plain": [
       "3"
      ]
     },
     "execution_count": 46,
     "metadata": {},
     "output_type": "execute_result"
    }
   ],
   "source": [
    "a.index('l')"
   ]
  },
  {
   "cell_type": "code",
   "execution_count": 48,
   "id": "3e510012-16f0-425a-806e-3a0374272708",
   "metadata": {},
   "outputs": [
    {
     "data": {
      "text/plain": [
       "1"
      ]
     },
     "execution_count": 48,
     "metadata": {},
     "output_type": "execute_result"
    }
   ],
   "source": [
    "a.index('p')"
   ]
  },
  {
   "cell_type": "code",
   "execution_count": 50,
   "id": "c184332f-c058-4c7a-80f3-351733a08a6e",
   "metadata": {},
   "outputs": [
    {
     "ename": "ValueError",
     "evalue": "substring not found",
     "output_type": "error",
     "traceback": [
      "\u001b[1;31m---------------------------------------------------------------------------\u001b[0m",
      "\u001b[1;31mValueError\u001b[0m                                Traceback (most recent call last)",
      "Cell \u001b[1;32mIn[50], line 1\u001b[0m\n\u001b[1;32m----> 1\u001b[0m \u001b[43ma\u001b[49m\u001b[38;5;241;43m.\u001b[39;49m\u001b[43mindex\u001b[49m\u001b[43m(\u001b[49m\u001b[38;5;124;43m'\u001b[39;49m\u001b[38;5;124;43mz\u001b[39;49m\u001b[38;5;124;43m'\u001b[39;49m\u001b[43m)\u001b[49m\n\u001b[0;32m      2\u001b[0m \u001b[38;5;66;03m# 없는 데이터를 찾으려고 시도하면 error 발생\u001b[39;00m\n",
      "\u001b[1;31mValueError\u001b[0m: substring not found"
     ]
    }
   ],
   "source": [
    "a.index('z')\n",
    "# 없는 데이터를 찾으려고 시도하면 error 발생"
   ]
  },
  {
   "cell_type": "code",
   "execution_count": 54,
   "id": "2204c391-be0f-4a5d-ac35-be9e907ecbe4",
   "metadata": {},
   "outputs": [
    {
     "data": {
      "text/plain": [
       "['my name is ', 'ong']"
      ]
     },
     "execution_count": 54,
     "metadata": {},
     "output_type": "execute_result"
    }
   ],
   "source": [
    "a = 'my name is hong'\n",
    "a.split('h')"
   ]
  },
  {
   "cell_type": "code",
   "execution_count": 56,
   "id": "be0ea981-6635-4773-beea-3ee02c8c2325",
   "metadata": {},
   "outputs": [
    {
     "data": {
      "text/plain": [
       "11"
      ]
     },
     "execution_count": 56,
     "metadata": {},
     "output_type": "execute_result"
    }
   ],
   "source": [
    "a = 'wooooooooooow'\n",
    "a.count('o')"
   ]
  },
  {
   "cell_type": "code",
   "execution_count": null,
   "id": "634a16aa-49d9-4463-8514-21d446f088fb",
   "metadata": {},
   "outputs": [],
   "source": []
  },
  {
   "cell_type": "code",
   "execution_count": null,
   "id": "1ec2a0c0-903f-4011-af26-e91d7b8c81e3",
   "metadata": {},
   "outputs": [],
   "source": []
  }
 ],
 "metadata": {
  "kernelspec": {
   "display_name": "Python 3 (ipykernel)",
   "language": "python",
   "name": "python3"
  },
  "language_info": {
   "codemirror_mode": {
    "name": "ipython",
    "version": 3
   },
   "file_extension": ".py",
   "mimetype": "text/x-python",
   "name": "python",
   "nbconvert_exporter": "python",
   "pygments_lexer": "ipython3",
   "version": "3.13.2"
  }
 },
 "nbformat": 4,
 "nbformat_minor": 5
}
