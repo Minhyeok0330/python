{
 "cells": [
  {
   "cell_type": "markdown",
   "id": "1acfad3d-87cb-49e6-b81f-4b867941d674",
   "metadata": {},
   "source": [
    "# 자료구조\n",
    "> 여러가지 자료구조가 가지고 있는 메소드(함수) 알아보기"
   ]
  },
  {
   "cell_type": "code",
   "execution_count": null,
   "id": "8a0b5974-a37f-4601-8a2a-6ca7ea0c031d",
   "metadata": {},
   "outputs": [],
   "source": [
    "print(dir('hello'))"
   ]
  },
  {
   "cell_type": "markdown",
   "id": "f711d761-c013-4afb-b62e-98b7ef2e9011",
   "metadata": {},
   "source": [
    "## 문자열 메소드"
   ]
  },
  {
   "cell_type": "code",
   "execution_count": null,
   "id": "5558ef27-f03d-4bfe-9cee-133d9f5bf5dd",
   "metadata": {},
   "outputs": [],
   "source": [
    "a = 'hello my name is hong'"
   ]
  },
  {
   "cell_type": "code",
   "execution_count": null,
   "id": "a152d79d-2630-48c8-82a9-27d4ebfc93ed",
   "metadata": {},
   "outputs": [],
   "source": [
    "print(a)"
   ]
  },
  {
   "cell_type": "code",
   "execution_count": null,
   "id": "7fd42720-eaac-493f-b597-d38910f5b127",
   "metadata": {},
   "outputs": [],
   "source": [
    "a[0] = 'H'"
   ]
  },
  {
   "cell_type": "code",
   "execution_count": null,
   "id": "bb06a25a-4cae-42f3-ac39-d54580cf871b",
   "metadata": {},
   "outputs": [],
   "source": [
    "a = a.capitalize()\n",
    "# .capitalize 문장 단위 대문자"
   ]
  },
  {
   "cell_type": "code",
   "execution_count": null,
   "id": "8d899026-a55b-49cf-b7b8-0df146d29b2f",
   "metadata": {},
   "outputs": [],
   "source": [
    "print(a)"
   ]
  },
  {
   "cell_type": "code",
   "execution_count": null,
   "id": "a3590110-4cea-4e5a-abf0-54f578044ae4",
   "metadata": {},
   "outputs": [],
   "source": [
    "a.title()\n",
    "# .title 공백 앞 대문자"
   ]
  },
  {
   "cell_type": "code",
   "execution_count": null,
   "id": "3e4abda4-aaab-450b-a3ca-b22f69310aaa",
   "metadata": {},
   "outputs": [],
   "source": [
    "a.lower()\n",
    "# .lower 모든 문장 소문자"
   ]
  },
  {
   "cell_type": "code",
   "execution_count": null,
   "id": "c9d7586c-9c12-4ab3-ba3e-696a6a2ca1df",
   "metadata": {},
   "outputs": [],
   "source": [
    "a.upper()\n",
    "# .upper 모든 문장 대문자"
   ]
  },
  {
   "cell_type": "code",
   "execution_count": null,
   "id": "b81fb30e-80b0-4c9e-859f-a0aa0790fe5c",
   "metadata": {},
   "outputs": [],
   "source": [
    "my_list = ['my', 'name', 'is']\n",
    "'!'.join(my_list)"
   ]
  },
  {
   "cell_type": "code",
   "execution_count": null,
   "id": "1f7ca254-d4fc-4202-b642-f489693a4cf4",
   "metadata": {},
   "outputs": [],
   "source": [
    "'?'.join('배고프다')\n",
    "# .join은 list, tuple 등을 str으로 변환\n",
    "#데이터 사이사이에 ''안에 표기된 새로운 데이터를 추가"
   ]
  },
  {
   "cell_type": "code",
   "execution_count": null,
   "id": "6678275b-ef10-4538-ab5e-da424396f45b",
   "metadata": {},
   "outputs": [],
   "source": [
    "a = '          hello          \\n'\n",
    "a.strip()\n",
    "# .strip 은 여백으로 여겨지는 모든 것을 삭제.{기본 값에 '', '/n 등이 포함} ()안에 삭제 값을 입력"
   ]
  },
  {
   "cell_type": "code",
   "execution_count": null,
   "id": "a000f19b-478c-4510-abf5-8ae0603a7df0",
   "metadata": {},
   "outputs": [],
   "source": [
    "a = '--------------------hello----------------'\n",
    "a.lstrip('-')"
   ]
  },
  {
   "cell_type": "code",
   "execution_count": null,
   "id": "8e76e27d-28c3-4f0d-aa41-5c87da634ecf",
   "metadata": {},
   "outputs": [],
   "source": [
    "a.rstrip('-')"
   ]
  },
  {
   "cell_type": "code",
   "execution_count": null,
   "id": "5d032412-8c5d-4789-a64c-4b659e91722b",
   "metadata": {},
   "outputs": [],
   "source": [
    "a.strip('-')"
   ]
  },
  {
   "cell_type": "code",
   "execution_count": null,
   "id": "00b9b727-720b-4fe7-89b9-40317ed844b7",
   "metadata": {},
   "outputs": [],
   "source": [
    "a = 'wooooooooooooooooooooooooow'\n",
    "a.replace('o', 'l')"
   ]
  },
  {
   "cell_type": "code",
   "execution_count": null,
   "id": "a2d427ba-3432-4088-9c2f-46a97badc696",
   "metadata": {},
   "outputs": [],
   "source": [
    "a.replace('o', 'l', 3)\n",
    "#중간부터 바꾸는 건 불가능"
   ]
  },
  {
   "cell_type": "code",
   "execution_count": 104,
   "id": "f940cc25-b81d-42c1-a919-490490b32f94",
   "metadata": {},
   "outputs": [
    {
     "data": {
      "text/plain": [
       "0"
      ]
     },
     "execution_count": 104,
     "metadata": {},
     "output_type": "execute_result"
    }
   ],
   "source": [
    "a = 'apple'\n",
    "a.find('a')"
   ]
  },
  {
   "cell_type": "code",
   "execution_count": null,
   "id": "c1a9a2c6-57de-415f-b179-65be3a67865e",
   "metadata": {},
   "outputs": [],
   "source": [
    "a.find('l')"
   ]
  },
  {
   "cell_type": "code",
   "execution_count": null,
   "id": "e8b62e68-b5b7-4dfc-862a-daf54392b9bb",
   "metadata": {},
   "outputs": [],
   "source": [
    "a.find('p') \n",
    "# 중복 시에 최초로 찾은 데이터 출력"
   ]
  },
  {
   "cell_type": "code",
   "execution_count": null,
   "id": "666cbf16-084c-48ee-83b7-fe0690f27736",
   "metadata": {},
   "outputs": [],
   "source": [
    "a.find('z')\n",
    "# -1은 '없음'을 의미한다."
   ]
  },
  {
   "cell_type": "code",
   "execution_count": null,
   "id": "7614cb4f-082b-45c5-a1d0-dcf813b9dc57",
   "metadata": {},
   "outputs": [],
   "source": [
    "a = 'apple'\n",
    "a.index('a')"
   ]
  },
  {
   "cell_type": "code",
   "execution_count": null,
   "id": "f948119a-e8b2-48f8-a86b-dcc0ecd26abc",
   "metadata": {},
   "outputs": [],
   "source": [
    "a.index('l')"
   ]
  },
  {
   "cell_type": "code",
   "execution_count": null,
   "id": "3e510012-16f0-425a-806e-3a0374272708",
   "metadata": {},
   "outputs": [],
   "source": [
    "a.index('p')"
   ]
  },
  {
   "cell_type": "code",
   "execution_count": null,
   "id": "c184332f-c058-4c7a-80f3-351733a08a6e",
   "metadata": {},
   "outputs": [],
   "source": [
    "a.index('z')\n",
    "# 없는 데이터를 찾으려고 시도하면 error 발생"
   ]
  },
  {
   "cell_type": "code",
   "execution_count": null,
   "id": "2204c391-be0f-4a5d-ac35-be9e907ecbe4",
   "metadata": {},
   "outputs": [],
   "source": [
    "a = [422]\n",
    "a.split('\\n')"
   ]
  },
  {
   "cell_type": "code",
   "execution_count": null,
   "id": "be0ea981-6635-4773-beea-3ee02c8c2325",
   "metadata": {},
   "outputs": [],
   "source": [
    "a = 'wooooooooooow'\n",
    "a.count('o')"
   ]
  },
  {
   "cell_type": "markdown",
   "id": "c9eef701-a7cc-4a4b-a2a0-6c7ef5e23cbc",
   "metadata": {},
   "source": [
    "# 리스트 메소드"
   ]
  },
  {
   "cell_type": "code",
   "execution_count": 3,
   "id": "1ec2a0c0-903f-4011-af26-e91d7b8c81e3",
   "metadata": {},
   "outputs": [],
   "source": [
    "numbers = [2, 6, 1, 4, 8, 3, 2, 8]"
   ]
  },
  {
   "cell_type": "code",
   "execution_count": 4,
   "id": "6b04d099-5a1d-42fe-a229-b548941be77a",
   "metadata": {},
   "outputs": [
    {
     "name": "stdout",
     "output_type": "stream",
     "text": [
      "[2, 6, 1, 4, 8, 3, 2, 8, 10]\n"
     ]
    }
   ],
   "source": [
    "numbers.append(10)\n",
    "print(numbers)"
   ]
  },
  {
   "cell_type": "code",
   "execution_count": null,
   "id": "29467f9b-09d8-416c-8587-53e87117ca23",
   "metadata": {},
   "outputs": [],
   "source": [
    "a = [99, 100]"
   ]
  },
  {
   "cell_type": "code",
   "execution_count": null,
   "id": "0a36f060-b95d-4694-86e6-adb826bdb474",
   "metadata": {},
   "outputs": [],
   "source": [
    "numbers.extend(a) # => numbers + a\n",
    " # =>print(numbers)"
   ]
  },
  {
   "cell_type": "code",
   "execution_count": 5,
   "id": "5c987a40-b7ea-469a-b021-c33aa1dce146",
   "metadata": {},
   "outputs": [
    {
     "name": "stdout",
     "output_type": "stream",
     "text": [
      "[2, 6, 1, 4, 8, 3, 2, 8, 10, 45]\n"
     ]
    }
   ],
   "source": [
    "numbers.insert(100, 45)\n",
    "print(numbers)"
   ]
  },
  {
   "cell_type": "code",
   "execution_count": 6,
   "id": "9f1cf6ea-99d9-4c17-8979-1eb4391f1406",
   "metadata": {},
   "outputs": [
    {
     "ename": "NameError",
     "evalue": "name 'x' is not defined",
     "output_type": "error",
     "traceback": [
      "\u001b[1;31m---------------------------------------------------------------------------\u001b[0m",
      "\u001b[1;31mNameError\u001b[0m                                 Traceback (most recent call last)",
      "Cell \u001b[1;32mIn[6], line 2\u001b[0m\n\u001b[0;32m      1\u001b[0m \u001b[38;5;66;03m# 첫번째 x를 찾아서 제거, 없다면 오류\u001b[39;00m\n\u001b[1;32m----> 2\u001b[0m numbers\u001b[38;5;241m.\u001b[39mremove(\u001b[43mx\u001b[49m)\n\u001b[0;32m      3\u001b[0m \u001b[38;5;28mprint\u001b[39m(numbers)\n",
      "\u001b[1;31mNameError\u001b[0m: name 'x' is not defined"
     ]
    }
   ],
   "source": [
    "# 첫번째 x를 찾아서 제거, 없다면 오류\n",
    "numbers.remove(x)\n",
    "print(numbers)"
   ]
  },
  {
   "cell_type": "code",
   "execution_count": 7,
   "id": "ad0bc518-5eb5-43c6-bb40-ef2969bc3228",
   "metadata": {},
   "outputs": [
    {
     "name": "stdout",
     "output_type": "stream",
     "text": [
      "[2, 6, 1, 4, 8, 3, 2, 8, 10]\n"
     ]
    }
   ],
   "source": [
    "numbers.pop()\n",
    "print(numbers)\n",
    "\n",
    "#pop 뒤에 값 입력 없다면 stack형\n",
    "#값 입력이 있다면 que"
   ]
  },
  {
   "cell_type": "code",
   "execution_count": null,
   "id": "c7caad92-160b-48ef-a87f-f63979beabf0",
   "metadata": {},
   "outputs": [],
   "source": [
    "numbers.sort()\n",
    "print(numbers)"
   ]
  },
  {
   "cell_type": "code",
   "execution_count": null,
   "id": "0f052d3d-e2d7-441d-af90-25ab203da429",
   "metadata": {},
   "outputs": [],
   "source": [
    "numbers.sort(reverse=True)\n",
    "print(numbers)"
   ]
  },
  {
   "cell_type": "code",
   "execution_count": null,
   "id": "42e0539d-bff2-4487-bdf0-c38eb2300b62",
   "metadata": {},
   "outputs": [],
   "source": [
    "a = [5, 3, 2, 7, 8, 1]\n",
    "\n",
    "print(sorted(a))\n",
    "print(a)\n",
    "\n",
    "#sort는 원본 데이터를 변경, sorted()함수는 계산만 수행"
   ]
  },
  {
   "cell_type": "code",
   "execution_count": null,
   "id": "5394d56d-c570-4009-a521-ac7f6f814e36",
   "metadata": {},
   "outputs": [],
   "source": [
    "my_list = ['a', 'e', '나', '바', 'z']\n",
    "my_list.sort()\n",
    "print(my_list)"
   ]
  },
  {
   "cell_type": "code",
   "execution_count": null,
   "id": "3dc28f73-ea30-4f07-92d2-f54536a62638",
   "metadata": {},
   "outputs": [],
   "source": [
    "print(numbers)\n",
    "numbers.reverse()\n",
    "print(numbers)"
   ]
  },
  {
   "cell_type": "code",
   "execution_count": 107,
   "id": "c30905e6-7dac-4099-9e80-83010045721b",
   "metadata": {},
   "outputs": [
    {
     "data": {
      "text/plain": [
       "0"
      ]
     },
     "execution_count": 107,
     "metadata": {},
     "output_type": "execute_result"
    }
   ],
   "source": [
    "numbers.count(10)"
   ]
  },
  {
   "cell_type": "markdown",
   "id": "f1c46b6e-995b-4ebb-b47b-dbbe254d000f",
   "metadata": {},
   "source": [
    "### list copy"
   ]
  },
  {
   "cell_type": "code",
   "execution_count": null,
   "id": "40c91fc5-0f09-40eb-b498-50b7a1825797",
   "metadata": {},
   "outputs": [],
   "source": [
    "origin_list = [1, 2, 3]\n",
    "copy_list = origin_list"
   ]
  },
  {
   "cell_type": "code",
   "execution_count": null,
   "id": "d9fa1480-817c-43ab-9bcf-722fa9ffec78",
   "metadata": {},
   "outputs": [],
   "source": [
    "print(origin_list)\n",
    "print(copy_list)"
   ]
  },
  {
   "cell_type": "code",
   "execution_count": null,
   "id": "d5559b8e-583c-40fa-803f-f5b8411c9fcc",
   "metadata": {},
   "outputs": [],
   "source": [
    "copy_list[0] = 100"
   ]
  },
  {
   "cell_type": "code",
   "execution_count": null,
   "id": "fe149984-20cc-4dff-a7d8-e0b5d11256c7",
   "metadata": {},
   "outputs": [],
   "source": [
    "print(origin_list)\n",
    "print(copy_list)"
   ]
  },
  {
   "cell_type": "code",
   "execution_count": null,
   "id": "39766ade-d538-4c7c-b08f-19acc7e9729b",
   "metadata": {},
   "outputs": [],
   "source": [
    "origin_list = [1, 2, 3]\n",
    "copy_list = origin_list[:]\n",
    "\n",
    "copy_list[0] = 100\n",
    "\n",
    "print(origin_list)\n",
    "print(copy_list)"
   ]
  },
  {
   "cell_type": "code",
   "execution_count": null,
   "id": "f56bd99c-307f-4765-acc5-7cd550516590",
   "metadata": {},
   "outputs": [],
   "source": [
    "o_l = [1, 2, [10, 11]] # 이런 경우엔 : 사용할 수 없음. index 번호가 명확하지 않기 때문.\n",
    "c_l = o_l[:]\n",
    "\n",
    "c_l[0] = 100\n",
    "c_l[2][0] = -10\n",
    "\n",
    "print(o_l)\n",
    "print(c_l)"
   ]
  },
  {
   "cell_type": "code",
   "execution_count": null,
   "id": "6f727cec-d931-431f-bbdf-5f78ddfc7bfe",
   "metadata": {},
   "outputs": [],
   "source": [
    "import copy\n",
    "\n",
    "o_l = [1, 2, [10 ,11]]\n",
    "c_l = copy.deepcopy(o_l)\n",
    "\n",
    "c_l[0] = 100\n",
    "c_l[2][0] = -11\n",
    "\n",
    "print(o_l)\n",
    "print(c_l)"
   ]
  },
  {
   "cell_type": "markdown",
   "id": "b150aed7-9b0c-41b6-b232-0634e79b2814",
   "metadata": {},
   "source": [
    "### list comprehension"
   ]
  },
  {
   "cell_type": "code",
   "execution_count": null,
   "id": "ac13d267-4262-4c6d-8967-03869dda1b15",
   "metadata": {},
   "outputs": [],
   "source": [
    "numbers = list(range(1, 11))\n",
    "print(numbers)"
   ]
  },
  {
   "cell_type": "code",
   "execution_count": null,
   "id": "522284cb-b540-45c4-9196-0c3135af398f",
   "metadata": {},
   "outputs": [],
   "source": [
    "result = []\n",
    "\n",
    "for number in numbers:\n",
    "    temp = number ** 3\n",
    "    result.append(temp)\n",
    "\n",
    "print(result)"
   ]
  },
  {
   "cell_type": "code",
   "execution_count": null,
   "id": "63127387-9810-4d82-b422-13283056d1fe",
   "metadata": {},
   "outputs": [],
   "source": [
    "result = [number ** 3 for number in numbers]\n",
    "print(result)"
   ]
  },
  {
   "cell_type": "code",
   "execution_count": null,
   "id": "fb798c3d-f4de-4f57-a6dd-11ef7f6ebe43",
   "metadata": {},
   "outputs": [],
   "source": [
    "# 짝수만 고르기\n",
    "\n",
    "numbers = list(range(1, 31))\n",
    "print(numbers)"
   ]
  },
  {
   "cell_type": "code",
   "execution_count": null,
   "id": "15170e63-65d5-400b-abcc-e04d389512a3",
   "metadata": {},
   "outputs": [],
   "source": [
    "result = []\n",
    "\n",
    "for number in numbers:\n",
    "    if number % 2 == 0:\n",
    "        result.append(number * 2)\n",
    "\n",
    "print(result)"
   ]
  },
  {
   "cell_type": "code",
   "execution_count": null,
   "id": "587354a2-a134-4129-807e-558cfb2de830",
   "metadata": {},
   "outputs": [],
   "source": [
    "numbers = list(range(1, 31))\n",
    "result = [number for number in numbers if number % 2 == 0]\n",
    "print(result)"
   ]
  },
  {
   "cell_type": "code",
   "execution_count": null,
   "id": "1f7933c3-ff16-40b9-a3ba-0bbd1d9a40f9",
   "metadata": {},
   "outputs": [],
   "source": [
    "words = ['my name is hong']"
   ]
  },
  {
   "cell_type": "code",
   "execution_count": null,
   "id": "3ded9a60-71eb-4418-a518-a4e336b9785a",
   "metadata": {},
   "outputs": [],
   "source": [
    "words = 'my name is hong'\n",
    "result = []\n",
    "moeum = ['a', 'e', 'i', 'o', 'u']\n",
    "\n",
    "for word in words:\n",
    "     if word not in moeum:\n",
    "        result.append(word)\n",
    "\n",
    "print(result)\n",
    "print(''.join(result))"
   ]
  },
  {
   "cell_type": "code",
   "execution_count": 108,
   "id": "20172aed-07e3-4c23-ae94-c40b0c8955fa",
   "metadata": {},
   "outputs": [
    {
     "name": "stdout",
     "output_type": "stream",
     "text": [
      "['m', 'y', ' ', 'n', 'm', ' ', 's', ' ', 'h', 'n', 'g']\n",
      "my nm s hng\n"
     ]
    }
   ],
   "source": [
    "words = 'my name is hong'\n",
    "result = []\n",
    "\n",
    "for word in words:\n",
    "     if word not in 'aeiou':\n",
    "        result.append(word)\n",
    "print(result)\n",
    "print(''.join(result))"
   ]
  },
  {
   "cell_type": "code",
   "execution_count": null,
   "id": "b655ca28-d0af-4f02-901f-0d9e8e88d141",
   "metadata": {},
   "outputs": [],
   "source": [
    "words = 'my name is hong'\n",
    "moeum = ['a', 'e', 'i', 'o', 'u']\n",
    "\n",
    "result = [word for word in words if word not in moeum]\n",
    "print(result)\n",
    "print(''.join(result))"
   ]
  },
  {
   "cell_type": "code",
   "execution_count": 8,
   "id": "ec14e8ed-87ef-4645-a62f-695fa9a96d6c",
   "metadata": {},
   "outputs": [
    {
     "name": "stdout",
     "output_type": "stream",
     "text": [
      "my nm s hng\n"
     ]
    }
   ],
   "source": [
    "# 3. replace 메소드\n",
    "words = 'my name is hong'\n",
    "vowels = 'aeiou'\n",
    "\n",
    "for char in vowels:\n",
    "    words = words.replace(char, '')\n",
    "\n",
    "print(words)"
   ]
  },
  {
   "cell_type": "markdown",
   "id": "73be494b-560b-45be-be2f-659cf1d50f48",
   "metadata": {},
   "source": [
    "# dictionary 메소드"
   ]
  },
  {
   "cell_type": "code",
   "execution_count": 1,
   "id": "0464a4e2-deb4-4c52-9f1d-82a83c05e20b",
   "metadata": {},
   "outputs": [],
   "source": [
    "info = {\n",
    "    'name': 'choi',\n",
    "    'location': 'seoul',\n",
    "    'age': 28,\n",
    "    'phone_book' : {\n",
    "        'kim' : '010-1234-1234',\n",
    "        'park': '010-6666-6666',\n",
    "        'kang': '010-7777-7777'\n",
    "    }, #중괄호는 다양한 데이터가 들어올 수 있음을 의미함\n",
    "    'models':{'galaxy book', 'lg gram'},\n",
    "}"
   ]
  },
  {
   "cell_type": "code",
   "execution_count": null,
   "id": "2c24fe86-fdb5-4db0-b4b7-503b8c2646f4",
   "metadata": {},
   "outputs": [],
   "source": [
    "print(info['location'])\n",
    "print(info['phone_book'])\n",
    "print(info['phone_book']['kim'])\n",
    "print(info['models'][1]"
   ]
  },
  {
   "cell_type": "code",
   "execution_count": null,
   "id": "452ecc4a-a911-4dc4-b253-226986f087ef",
   "metadata": {},
   "outputs": [],
   "source": [
    "info['name'] = 'lee'\n",
    "print(info)"
   ]
  },
  {
   "cell_type": "code",
   "execution_count": null,
   "id": "228ef32c-e6c4-48c6-ac24-c3df59d56e14",
   "metadata": {},
   "outputs": [],
   "source": [
    "info.update(name='kang')\n",
    "print(info)"
   ]
  },
  {
   "cell_type": "code",
   "execution_count": null,
   "id": "eef47566-da25-4271-8da8-44c09a8e60c3",
   "metadata": {},
   "outputs": [],
   "source": [
    "info.pop('location')\n",
    "print(info)"
   ]
  },
  {
   "cell_type": "code",
   "execution_count": null,
   "id": "c4903cf1-362b-4519-9501-4038b0266fce",
   "metadata": {},
   "outputs": [],
   "source": [
    "print(info.get('name'))\n",
    "print(info['name'])"
   ]
  },
  {
   "cell_type": "code",
   "execution_count": 2,
   "id": "bdd92b1b-e217-45b5-bf99-ca426fbf77be",
   "metadata": {},
   "outputs": [
    {
     "name": "stdout",
     "output_type": "stream",
     "text": [
      "None\n"
     ]
    }
   ],
   "source": [
    "print(info.get('birth'))"
   ]
  },
  {
   "cell_type": "code",
   "execution_count": null,
   "id": "6a1fbadf-aa5f-4a31-9938-353bf4c41ae8",
   "metadata": {},
   "outputs": [],
   "source": [
    "print(info['birth'])"
   ]
  },
  {
   "cell_type": "code",
   "execution_count": 1,
   "id": "81a6cda3-c33d-479a-ac81-5c8dfc53be31",
   "metadata": {},
   "outputs": [
    {
     "name": "stdout",
     "output_type": "stream",
     "text": [
      "3\n",
      "2\n",
      "3\n",
      "1\n"
     ]
    }
   ],
   "source": [
    "# 연습문제\n",
    "blood_type = ['A', 'B', 'AB', 'O', 'O', 'O', 'A', 'A', 'B']\n",
    "\n",
    "print(blood_type.count('A'))\n",
    "print(blood_type.count('B'))\n",
    "print(blood_type.count('O'))\n",
    "print(blood_type.count('AB'))"
   ]
  },
  {
   "cell_type": "code",
   "execution_count": 10,
   "id": "0fcccd95-bbe5-4ca5-8911-778ece3b74d9",
   "metadata": {},
   "outputs": [],
   "source": [
    "blood_type = ['A', 'B', 'AB', 'O', 'O', 'O', 'A', 'A', 'B']\n",
    "\n",
    "info = {\n",
    "    'blood_type': {\n",
    "    'A': blood_type.count('A'),\n",
    "    'B': blood_type.count('B'),\n",
    "    'O': blood_type.count('O'),\n",
    "    'AB': blood_type.count('AB')\n",
    "     }\n",
    "}"
   ]
  },
  {
   "cell_type": "code",
   "execution_count": 11,
   "id": "7734e2c3-f6d1-465c-bca9-571cb1d6798b",
   "metadata": {},
   "outputs": [
    {
     "name": "stdout",
     "output_type": "stream",
     "text": [
      "{'A': 3, 'B': 2, 'O': 3, 'AB': 1}\n"
     ]
    }
   ],
   "source": [
    "print(info['blood_type'])"
   ]
  },
  {
   "cell_type": "code",
   "execution_count": 12,
   "id": "0c9550c4-643e-440d-8fc3-3c3bc0124d73",
   "metadata": {},
   "outputs": [
    {
     "name": "stdout",
     "output_type": "stream",
     "text": [
      "{'A': 3, 'B': 2, 'AB': 1, 'O': 3}\n"
     ]
    }
   ],
   "source": [
    "blood_type = ['A', 'B', 'AB', 'O', 'O', 'O', 'A', 'A', 'B']\n",
    "\n",
    "result = {\n",
    "    'A': 0,\n",
    "    'B': 0,\n",
    "    'AB': 0,\n",
    "    'O': 0,\n",
    "}\n",
    "\n",
    "for blood in blood_type:\n",
    "    result[blood] += 1\n",
    "\n",
    "print(result)"
   ]
  },
  {
   "cell_type": "code",
   "execution_count": 26,
   "id": "8ba4dc20-f100-4f23-bfee-a1e1516cf227",
   "metadata": {},
   "outputs": [
    {
     "name": "stdout",
     "output_type": "stream",
     "text": [
      "{'Seoul': 3, 'Busan': 1, 'Dajeon': 1, 'Daegu': 1, 'LA': 1, 'Paris': 1}\n"
     ]
    }
   ],
   "source": [
    "locations = ['Seoul', 'Seoul','Seoul', 'Busan', 'Dajeon', 'Daegu', 'LA', 'Paris']\n",
    "result = {}\n",
    "\n",
    "for location in locations:\n",
    "    #if location in result.keys()\n",
    "    if result.get(location):\n",
    "        result[location] += 1\n",
    "    else:\n",
    "        result[location] = 1\n",
    "\n",
    "print(result)\n",
    "        "
   ]
  },
  {
   "cell_type": "code",
   "execution_count": 28,
   "id": "17d2f449-312c-47f2-a4a6-580e7519dad7",
   "metadata": {},
   "outputs": [
    {
     "data": {
      "text/plain": [
       "dict_keys(['name', 'location', 'age', 'phone_book', 'models'])"
      ]
     },
     "execution_count": 28,
     "metadata": {},
     "output_type": "execute_result"
    }
   ],
   "source": [
    "info.keys()"
   ]
  },
  {
   "cell_type": "code",
   "execution_count": 31,
   "id": "8a6f1d9f-d785-4b31-9525-72e3fd29480a",
   "metadata": {},
   "outputs": [
    {
     "data": {
      "text/plain": [
       "{'kim': '010-1234-1234', 'park': '010-6666-6666', 'kang': '010-7777-7777'}"
      ]
     },
     "execution_count": 31,
     "metadata": {},
     "output_type": "execute_result"
    }
   ],
   "source": [
    "info.get('phone_book')"
   ]
  },
  {
   "cell_type": "markdown",
   "id": "db424e3d-5363-4015-b440-d8c1123b379e",
   "metadata": {},
   "source": [
    "## dict comprehension"
   ]
  },
  {
   "cell_type": "code",
   "execution_count": 32,
   "id": "eab916f9-abae-45c0-b383-4e0301d3bc18",
   "metadata": {},
   "outputs": [
    {
     "name": "stdout",
     "output_type": "stream",
     "text": [
      "{1: 1, 2: 8, 3: 27, 4: 64, 5: 125, 6: 216, 7: 343, 8: 512, 9: 729, 10: 1000}\n"
     ]
    }
   ],
   "source": [
    "# {1: 1, 2: 8, 3: 27, ... 10, 1000}\n",
    "\n",
    "result = {}\n",
    "numbers = range(1, 11)\n",
    "\n",
    "for number in numbers:\n",
    "    result[number] = number ** 3\n",
    "\n",
    "print(result)"
   ]
  },
  {
   "cell_type": "code",
   "execution_count": 33,
   "id": "e80dff67-c75c-4d2b-a06a-32180fc48e36",
   "metadata": {},
   "outputs": [
    {
     "name": "stdout",
     "output_type": "stream",
     "text": [
      "{1: 1, 2: 8, 3: 27, 4: 64, 5: 125, 6: 216, 7: 343, 8: 512, 9: 729, 10: 1000}\n"
     ]
    }
   ],
   "source": [
    "result = {number: number ** 3 for number in range(1, 11)}\n",
    "print(result)"
   ]
  },
  {
   "cell_type": "code",
   "execution_count": 34,
   "id": "27cb896f-69e0-4b54-994c-ac52573ab8ae",
   "metadata": {},
   "outputs": [],
   "source": [
    "dust = {\n",
    "    '서울': 50,\n",
    "    '인천': 100,\n",
    "    '수원': 30,\n",
    "    '부산': 0,    \n",
    "}"
   ]
  },
  {
   "cell_type": "code",
   "execution_count": 38,
   "id": "a1799087-0a18-4340-9d0e-ff3f1366aa15",
   "metadata": {},
   "outputs": [
    {
     "name": "stdout",
     "output_type": "stream",
     "text": [
      "서울 50\n",
      "인천 100\n",
      "수원 30\n",
      "부산 0\n",
      "{'수원': 30, '부산': 0}\n"
     ]
    }
   ],
   "source": [
    "result = {}\n",
    "for key, value in dust.items():\n",
    "    # key, value = ('서울', 50)\n",
    "    # item = ('서울', 50)\n",
    "    print(key, value)\n",
    "    if value <= 30:\n",
    "        result[key] = value\n",
    "print(result)"
   ]
  },
  {
   "cell_type": "code",
   "execution_count": 45,
   "id": "cc415de0-4b77-4500-bff2-074fe441537d",
   "metadata": {},
   "outputs": [
    {
     "name": "stdout",
     "output_type": "stream",
     "text": [
      "{'수원': '매우좋음', '부산': '매우좋음'}\n"
     ]
    }
   ],
   "source": [
    " # 2. comp\n",
    "result = {k: '매우좋음' for k, v in dust.items() if v <= 30}\n",
    "\n",
    "print(result)"
   ]
  },
  {
   "cell_type": "markdown",
   "id": "14b37d39-ce52-49ef-b42d-e145dbb8addb",
   "metadata": {},
   "source": [
    "## "
   ]
  },
  {
   "cell_type": "code",
   "execution_count": 46,
   "id": "41167b2f-ed53-411b-91d0-0898439f39d3",
   "metadata": {},
   "outputs": [],
   "source": [
    "fruits = {'apple', 'banana', 'melon'}"
   ]
  },
  {
   "cell_type": "code",
   "execution_count": 48,
   "id": "9c37920f-b930-4430-b28b-7a3f6dccc7e0",
   "metadata": {},
   "outputs": [
    {
     "name": "stdout",
     "output_type": "stream",
     "text": [
      "{'banana', 'apple', 'melon'}\n"
     ]
    }
   ],
   "source": [
    "print(fruits)"
   ]
  },
  {
   "cell_type": "code",
   "execution_count": 50,
   "id": "fe3502ea-448b-499e-be3f-daaf1263e7ee",
   "metadata": {},
   "outputs": [
    {
     "name": "stdout",
     "output_type": "stream",
     "text": [
      "{'banana', 'apple', 'watermelon', 'melon'}\n"
     ]
    }
   ],
   "source": [
    "fruits.add('watermelon')\n",
    "# 단일데이터 추가\n",
    "print(fruits)"
   ]
  },
  {
   "cell_type": "code",
   "execution_count": 52,
   "id": "10070b88-c715-4edb-bd92-46d96c563c42",
   "metadata": {},
   "outputs": [
    {
     "name": "stdout",
     "output_type": "stream",
     "text": [
      "{'orange', 'apple', 'grape', 'banana', 'watermelon', 'melon'}\n"
     ]
    }
   ],
   "source": [
    "fruits.update({'orange', 'grape'})\n",
    "# 여러개 데이터 추가\n",
    "print(fruits)"
   ]
  },
  {
   "cell_type": "code",
   "execution_count": 60,
   "id": "d79c17f6-c467-4726-9719-c249f173967e",
   "metadata": {},
   "outputs": [
    {
     "ename": "KeyError",
     "evalue": "'grape'",
     "output_type": "error",
     "traceback": [
      "\u001b[1;31m---------------------------------------------------------------------------\u001b[0m",
      "\u001b[1;31mKeyError\u001b[0m                                  Traceback (most recent call last)",
      "Cell \u001b[1;32mIn[60], line 1\u001b[0m\n\u001b[1;32m----> 1\u001b[0m \u001b[43mfruits\u001b[49m\u001b[38;5;241;43m.\u001b[39;49m\u001b[43mremove\u001b[49m\u001b[43m(\u001b[49m\u001b[38;5;124;43m'\u001b[39;49m\u001b[38;5;124;43mgrape\u001b[39;49m\u001b[38;5;124;43m'\u001b[39;49m\u001b[43m)\u001b[49m\n\u001b[0;32m      2\u001b[0m \u001b[38;5;28mprint\u001b[39m(fruits)\n",
      "\u001b[1;31mKeyError\u001b[0m: 'grape'"
     ]
    }
   ],
   "source": [
    "fruits.remove('grape')\n",
    "# 이미 remove된 값은 중복적으로 되지 않음 어찌보면 당연함\n",
    "print(fruits)"
   ]
  },
  {
   "cell_type": "code",
   "execution_count": 61,
   "id": "c7cd34d8-40b4-4015-beec-cff1027ead8e",
   "metadata": {},
   "outputs": [
    {
     "name": "stdout",
     "output_type": "stream",
     "text": [
      "{'banana', 'watermelon', 'melon'}\n"
     ]
    }
   ],
   "source": [
    "fruits.pop()\n",
    "#앞에서부터 삭제\n",
    "print(fruits)"
   ]
  },
  {
   "cell_type": "code",
   "execution_count": 62,
   "id": "07775ee0-4d67-40d8-bb2a-8fc4f7da6fc5",
   "metadata": {},
   "outputs": [
    {
     "name": "stdout",
     "output_type": "stream",
     "text": [
      "{'watermelon', 'melon'}\n"
     ]
    }
   ],
   "source": [
    "fruits.pop()\n",
    "print(fruits)"
   ]
  },
  {
   "cell_type": "markdown",
   "id": "51eb427d-e40f-4883-b606-962208bb7c06",
   "metadata": {},
   "source": [
    "## map, filter, zip"
   ]
  },
  {
   "cell_type": "markdown",
   "id": "227ed255-01fd-4b43-b6b4-f80476261909",
   "metadata": {},
   "source": [
    "### map\n",
    "\n",
    "- map(function, iterable)\n",
    "    - iterable => 시퀀스타입"
   ]
  },
  {
   "cell_type": "code",
   "execution_count": 63,
   "id": "2e5d5875-f014-47ed-9a8c-5fcbf7c1e8ba",
   "metadata": {},
   "outputs": [
    {
     "name": "stdout",
     "output_type": "stream",
     "text": [
      "['1', '2', '3', '4', '5']\n"
     ]
    }
   ],
   "source": [
    "numbers = [1, 2, 3, 4, 5]\n",
    "# -> ['1', '2', '3', '4', '5']\n",
    "result = []\n",
    "for number in numbers:\n",
    "    result.append(str(number))\n",
    "\n",
    "print(result)"
   ]
  },
  {
   "cell_type": "code",
   "execution_count": 76,
   "id": "5ae5fa6a-ddb8-4763-bf2b-3904cdf51f4b",
   "metadata": {},
   "outputs": [
    {
     "name": "stdout",
     "output_type": "stream",
     "text": [
      "<map object at 0x000002234749FEB0>\n",
      "['1', '2', '3', '4', '5']\n",
      "['1', '2', '3', '4', '5']\n"
     ]
    }
   ],
   "source": [
    "result = map(str, numbers)\n",
    "print(result)\n",
    "# map은 lazy하게 계산함. 당장 계산하는게 아니라 사용자가 필요로할 때 계산함\n",
    "print(list(result))\n",
    "# list로 바꿔줘야 저장된 위치의 계산 결과 출력\n",
    "result = list(map(str, numbers))\n",
    "# 일반적으로 작성하는 방법\n",
    "print(result)"
   ]
  },
  {
   "cell_type": "code",
   "execution_count": 78,
   "id": "52b24ed3-ca16-436d-9efa-f0bb5b40cae9",
   "metadata": {},
   "outputs": [
    {
     "name": "stdout",
     "output_type": "stream",
     "text": [
      "[1, 8, 27, 64, 125]\n"
     ]
    }
   ],
   "source": [
    "numbers = [1, 2, 3, 4, 5]\n",
    "# => [1, 8 ,27, 64, 125]\n",
    "\n",
    "result = []\n",
    "for number in numbers:\n",
    "    result.append(number ** 3)\n",
    "print(result)\n",
    "\n"
   ]
  },
  {
   "cell_type": "code",
   "execution_count": 81,
   "id": "b9690617-b485-4684-9ffa-058b50647325",
   "metadata": {},
   "outputs": [],
   "source": [
    "def cube(x):\n",
    "    return x ** 3"
   ]
  },
  {
   "cell_type": "code",
   "execution_count": 85,
   "id": "6aab7e2b-2688-4a74-bd7c-59b9b6a75b1b",
   "metadata": {},
   "outputs": [
    {
     "data": {
      "text/plain": [
       "[1, 8, 27, 64, 125]"
      ]
     },
     "execution_count": 85,
     "metadata": {},
     "output_type": "execute_result"
    }
   ],
   "source": [
    "list(map(cube, numbers))"
   ]
  },
  {
   "cell_type": "code",
   "execution_count": 87,
   "id": "3356b78c-8464-4f44-8955-19f275f6d0b0",
   "metadata": {},
   "outputs": [
    {
     "name": "stdout",
     "output_type": "stream",
     "text": [
      "[1, 3, 5, 7, 9]\n"
     ]
    }
   ],
   "source": [
    "test_input = '1 3 5 7 9'\n",
    "#이를 숫자로 바꾸기\n",
    "\n",
    "# 1. 띄어쓰기 기준으로 나눈다\n",
    "test_input.split()\n",
    "# 2. 각 글자를 숫자로 바꾼다\n",
    "map(int, test_input.split())\n",
    "# 3. 리스트에 저장한다\n",
    "result = list(map(int, test_input.split()))\n",
    "\n",
    "print(result)"
   ]
  },
  {
   "cell_type": "markdown",
   "id": "3a79249c-6d17-4b34-b44b-878dfc2f0377",
   "metadata": {},
   "source": [
    "### filter\n",
    "- filter(function, iterable)"
   ]
  },
  {
   "cell_type": "code",
   "execution_count": 89,
   "id": "4e331a00-4fe2-44d0-9e54-f0cd8a755e1c",
   "metadata": {},
   "outputs": [],
   "source": [
    "def is_odd(x):\n",
    "    return x % 2"
   ]
  },
  {
   "cell_type": "code",
   "execution_count": 91,
   "id": "b9cc7418-0d22-44d2-b3d4-bd03052a76c1",
   "metadata": {},
   "outputs": [
    {
     "name": "stdout",
     "output_type": "stream",
     "text": [
      "[1, 3, 5]\n"
     ]
    }
   ],
   "source": [
    "numbers =[1, 2, 3, 4, 5, 6]\n",
    "\n",
    "result = []\n",
    "for number in numbers:\n",
    "    if number % 2 == 1:\n",
    "        result.append(number)\n",
    "print(result)"
   ]
  },
  {
   "cell_type": "code",
   "execution_count": 94,
   "id": "a7fcb4c5-b8fc-4b57-9b6e-14c8b42fd520",
   "metadata": {},
   "outputs": [],
   "source": [
    "result = list(filter(is_odd, numbers))\n",
    "\n",
    "# true, false 로 리턴할 수 있어야함"
   ]
  },
  {
   "cell_type": "code",
   "execution_count": 95,
   "id": "f95f0c83-ac25-4502-a648-07e25c611728",
   "metadata": {},
   "outputs": [
    {
     "name": "stdout",
     "output_type": "stream",
     "text": [
      "[1, 3, 5]\n"
     ]
    }
   ],
   "source": [
    "print(result)"
   ]
  },
  {
   "cell_type": "code",
   "execution_count": 103,
   "id": "bd334b82-4e99-4bf6-97a4-cbc43e694e67",
   "metadata": {},
   "outputs": [
    {
     "name": "stdout",
     "output_type": "stream",
     "text": [
      "[(1, 100, 5), (2, 200, 5), (3, 300, 5)]\n"
     ]
    }
   ],
   "source": [
    "a = [1, 2, 3]\n",
    "b = [100, 200, 300]\n",
    "c = [5, 5, 5]\n",
    "result = zip(a, b, c)\n",
    "print(list(result))"
   ]
  },
  {
   "cell_type": "code",
   "execution_count": null,
   "id": "92d8fbf6-aa40-40b7-a296-932e01ae7206",
   "metadata": {},
   "outputs": [],
   "source": []
  },
  {
   "cell_type": "code",
   "execution_count": null,
   "id": "ee59b16d-61f1-46ba-a7ab-c3fd0d78b777",
   "metadata": {},
   "outputs": [],
   "source": []
  },
  {
   "cell_type": "code",
   "execution_count": null,
   "id": "956c529a-e90c-4c68-a9c3-90103cfd33be",
   "metadata": {},
   "outputs": [],
   "source": []
  },
  {
   "cell_type": "code",
   "execution_count": null,
   "id": "ee83120f-82ba-49e4-adb9-18f5bb44bc8d",
   "metadata": {},
   "outputs": [],
   "source": []
  },
  {
   "cell_type": "code",
   "execution_count": null,
   "id": "65103d72-a468-482d-9209-16c06a74475c",
   "metadata": {},
   "outputs": [],
   "source": []
  },
  {
   "cell_type": "code",
   "execution_count": null,
   "id": "c5b0eeac-6107-4876-be10-9a5c768f4310",
   "metadata": {},
   "outputs": [],
   "source": []
  },
  {
   "cell_type": "code",
   "execution_count": null,
   "id": "6369162c-5d27-4a69-a3ed-cc43a1e88e33",
   "metadata": {},
   "outputs": [],
   "source": []
  }
 ],
 "metadata": {
  "kernelspec": {
   "display_name": "Python 3 (ipykernel)",
   "language": "python",
   "name": "python3"
  },
  "language_info": {
   "codemirror_mode": {
    "name": "ipython",
    "version": 3
   },
   "file_extension": ".py",
   "mimetype": "text/x-python",
   "name": "python",
   "nbconvert_exporter": "python",
   "pygments_lexer": "ipython3",
   "version": "3.13.2"
  }
 },
 "nbformat": 4,
 "nbformat_minor": 5
}
