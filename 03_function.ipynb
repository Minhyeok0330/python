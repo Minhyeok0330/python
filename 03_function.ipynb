{
 "cells": [
  {
   "cell_type": "markdown",
   "id": "5c2a3a74-5fb0-4e5c-8c1e-5a9655c8d06b",
   "metadata": {},
   "source": [
    "# 함수(funtion)"
   ]
  },
  {
   "cell_type": "code",
   "execution_count": 9,
   "id": "55c33100-c7f1-41d9-ba47-f27a0b05d27a",
   "metadata": {},
   "outputs": [
    {
     "name": "stdout",
     "output_type": "stream",
     "text": [
      "사각형의 면적은 1000이고 둘레는 140입니다\n"
     ]
    }
   ],
   "source": [
    "height = 50\n",
    "width = 20\n",
    "\n",
    "area = height * width\n",
    "perimeter = (height+ width) * 2\n",
    "\n",
    "print(f'사각형의 면적은 {area}이고 둘레는 {perimeter}입니다')"
   ]
  },
  {
   "cell_type": "code",
   "execution_count": 10,
   "id": "0a24531b-c1bc-4dc7-b9b7-2ee203f533bb",
   "metadata": {},
   "outputs": [
    {
     "name": "stdout",
     "output_type": "stream",
     "text": [
      "사각형의 면적은 2500이고 둘레는 200입니다\n"
     ]
    }
   ],
   "source": [
    "height2 = 50\n",
    "width2 = 50\n",
    "\n",
    "area2 = height2 * width2\n",
    "perimeter2 = (height2 + width2) * 2\n",
    "\n",
    "print(f'사각형의 면적은 {area2}이고 둘레는 {perimeter2}입니다')"
   ]
  },
  {
   "cell_type": "markdown",
   "id": "c4b3f86e-672f-4b47-ae5c-89bcc8f8fe1d",
   "metadata": {
    "jp-MarkdownHeadingCollapsed": true
   },
   "source": [
    "## Don't Repeat Yourself\n",
    "\n",
    "- 반복하지 말고 하나의 코드를 만들어두고 재사용하라.\n",
    "- function은 재사용률을 높이기 위한 작업"
   ]
  },
  {
   "cell_type": "markdown",
   "id": "fcaac269-1eab-466c-85b1-cfabb6c5ab80",
   "metadata": {},
   "source": [
    "## 함수의 선언과 호출\n",
    "-선언\n",
    "```python\n",
    "def fun_name(parameter1, parameter2, ...):\n",
    "    code1\n",
    "    code2\n",
    "    ...\n",
    "    return value\n",
    "```\n",
    "\n",
    "-호출\n",
    "```python\n",
    "func_name(parameter1, parameter2, ...)`\n",
    "```"
   ]
  },
  {
   "cell_type": "code",
   "execution_count": 11,
   "id": "0543faf1-5774-4630-8309-0f7095698361",
   "metadata": {},
   "outputs": [],
   "source": [
    "def rectangle(height, width):\n",
    "    area = height * width\n",
    "    perimeter = (height + width) * 2\n",
    "\n",
    "    print(f'사각형의 면적은 {area}입니다. 둘레는{perimeter}입니다.')"
   ]
  },
  {
   "cell_type": "code",
   "execution_count": 15,
   "id": "ba0340b5-3d0e-44ad-81bc-bb176704a804",
   "metadata": {},
   "outputs": [
    {
     "name": "stdout",
     "output_type": "stream",
     "text": [
      "사각형의 면적은 1500입니다. 둘레는160입니다.\n",
      "사각형의 면적은 2000입니다. 둘레는240입니다.\n"
     ]
    }
   ],
   "source": [
    "rectangle(50, 30)\n",
    "rectangle(20, 100)"
   ]
  },
  {
   "cell_type": "code",
   "execution_count": 17,
   "id": "0ed14df6-bc35-4d27-9693-2f10d6645217",
   "metadata": {},
   "outputs": [
    {
     "data": {
      "text/plain": [
       "['ArithmeticError',\n",
       " 'AssertionError',\n",
       " 'AttributeError',\n",
       " 'BaseException',\n",
       " 'BaseExceptionGroup',\n",
       " 'BlockingIOError',\n",
       " 'BrokenPipeError',\n",
       " 'BufferError',\n",
       " 'BytesWarning',\n",
       " 'ChildProcessError',\n",
       " 'ConnectionAbortedError',\n",
       " 'ConnectionError',\n",
       " 'ConnectionRefusedError',\n",
       " 'ConnectionResetError',\n",
       " 'DeprecationWarning',\n",
       " 'EOFError',\n",
       " 'Ellipsis',\n",
       " 'EncodingWarning',\n",
       " 'EnvironmentError',\n",
       " 'Exception',\n",
       " 'ExceptionGroup',\n",
       " 'False',\n",
       " 'FileExistsError',\n",
       " 'FileNotFoundError',\n",
       " 'FloatingPointError',\n",
       " 'FutureWarning',\n",
       " 'GeneratorExit',\n",
       " 'IOError',\n",
       " 'ImportError',\n",
       " 'ImportWarning',\n",
       " 'IndentationError',\n",
       " 'IndexError',\n",
       " 'InterruptedError',\n",
       " 'IsADirectoryError',\n",
       " 'KeyError',\n",
       " 'KeyboardInterrupt',\n",
       " 'LookupError',\n",
       " 'MemoryError',\n",
       " 'ModuleNotFoundError',\n",
       " 'NameError',\n",
       " 'None',\n",
       " 'NotADirectoryError',\n",
       " 'NotImplemented',\n",
       " 'NotImplementedError',\n",
       " 'OSError',\n",
       " 'OverflowError',\n",
       " 'PendingDeprecationWarning',\n",
       " 'PermissionError',\n",
       " 'ProcessLookupError',\n",
       " 'PythonFinalizationError',\n",
       " 'RecursionError',\n",
       " 'ReferenceError',\n",
       " 'ResourceWarning',\n",
       " 'RuntimeError',\n",
       " 'RuntimeWarning',\n",
       " 'StopAsyncIteration',\n",
       " 'StopIteration',\n",
       " 'SyntaxError',\n",
       " 'SyntaxWarning',\n",
       " 'SystemError',\n",
       " 'SystemExit',\n",
       " 'TabError',\n",
       " 'TimeoutError',\n",
       " 'True',\n",
       " 'TypeError',\n",
       " 'UnboundLocalError',\n",
       " 'UnicodeDecodeError',\n",
       " 'UnicodeEncodeError',\n",
       " 'UnicodeError',\n",
       " 'UnicodeTranslateError',\n",
       " 'UnicodeWarning',\n",
       " 'UserWarning',\n",
       " 'ValueError',\n",
       " 'Warning',\n",
       " 'WindowsError',\n",
       " 'ZeroDivisionError',\n",
       " '_IncompleteInputError',\n",
       " '__IPYTHON__',\n",
       " '__build_class__',\n",
       " '__debug__',\n",
       " '__doc__',\n",
       " '__import__',\n",
       " '__loader__',\n",
       " '__name__',\n",
       " '__package__',\n",
       " '__spec__',\n",
       " 'abs',\n",
       " 'aiter',\n",
       " 'all',\n",
       " 'anext',\n",
       " 'any',\n",
       " 'ascii',\n",
       " 'bin',\n",
       " 'bool',\n",
       " 'breakpoint',\n",
       " 'bytearray',\n",
       " 'bytes',\n",
       " 'callable',\n",
       " 'chr',\n",
       " 'classmethod',\n",
       " 'compile',\n",
       " 'complex',\n",
       " 'copyright',\n",
       " 'credits',\n",
       " 'delattr',\n",
       " 'dict',\n",
       " 'dir',\n",
       " 'display',\n",
       " 'divmod',\n",
       " 'enumerate',\n",
       " 'eval',\n",
       " 'exec',\n",
       " 'execfile',\n",
       " 'filter',\n",
       " 'float',\n",
       " 'format',\n",
       " 'frozenset',\n",
       " 'get_ipython',\n",
       " 'getattr',\n",
       " 'globals',\n",
       " 'hasattr',\n",
       " 'hash',\n",
       " 'help',\n",
       " 'hex',\n",
       " 'id',\n",
       " 'input',\n",
       " 'int',\n",
       " 'isinstance',\n",
       " 'issubclass',\n",
       " 'iter',\n",
       " 'len',\n",
       " 'license',\n",
       " 'list',\n",
       " 'locals',\n",
       " 'map',\n",
       " 'max',\n",
       " 'memoryview',\n",
       " 'min',\n",
       " 'next',\n",
       " 'object',\n",
       " 'oct',\n",
       " 'open',\n",
       " 'ord',\n",
       " 'pow',\n",
       " 'print',\n",
       " 'property',\n",
       " 'range',\n",
       " 'repr',\n",
       " 'reversed',\n",
       " 'round',\n",
       " 'runfile',\n",
       " 'set',\n",
       " 'setattr',\n",
       " 'slice',\n",
       " 'sorted',\n",
       " 'staticmethod',\n",
       " 'str',\n",
       " 'sum',\n",
       " 'super',\n",
       " 'tuple',\n",
       " 'type',\n",
       " 'vars',\n",
       " 'zip']"
      ]
     },
     "execution_count": 17,
     "metadata": {},
     "output_type": "execute_result"
    }
   ],
   "source": [
    "dir(__builtins__)"
   ]
  },
  {
   "cell_type": "code",
   "execution_count": 28,
   "id": "1a051586-6952-4fbe-9e96-8f1e284c151e",
   "metadata": {},
   "outputs": [],
   "source": [
    "def mymax(a, b):\n",
    "    if a > b:\n",
    "        print(a)\n",
    "    elif a == b:\n",
    "        print('같습니다')\n",
    "    else:\n",
    "        print(b)"
   ]
  },
  {
   "cell_type": "code",
   "execution_count": 29,
   "id": "98066c8d-0bb1-498f-acec-2927f777740c",
   "metadata": {},
   "outputs": [
    {
     "name": "stdout",
     "output_type": "stream",
     "text": [
      "같습니다\n"
     ]
    }
   ],
   "source": [
    "mymax(500, 500)"
   ]
  },
  {
   "cell_type": "markdown",
   "id": "9efbb67e-afc3-4ee2-a0a2-74f3639d8be3",
   "metadata": {},
   "source": [
    "## 함수의 return\n",
    "\n",
    "- 함수가 return을 만나면 해당값을 반환하고 함수를 종료(for문의 break command 같은 역할)\n",
    "- 만약 return이 없는 경우 None을 자동으로 반환\n",
    "- return은 오직 하나의 객체만 반환한다."
   ]
  },
  {
   "cell_type": "code",
   "execution_count": 31,
   "id": "06204b09-0db7-49ef-be6c-f6cee62fdbfc",
   "metadata": {},
   "outputs": [
    {
     "name": "stdout",
     "output_type": "stream",
     "text": [
      "2\n",
      "None\n"
     ]
    }
   ],
   "source": [
    "result = mymax(1, 2)\n",
    "print(result)\n",
    "# result * 2"
   ]
  },
  {
   "cell_type": "code",
   "execution_count": 32,
   "id": "701b4260-df5e-46cc-9c86-c876b009816d",
   "metadata": {},
   "outputs": [],
   "source": [
    "def mymax2(a, b):\n",
    "    if a > b:\n",
    "        return a\n",
    "    else:\n",
    "        return b"
   ]
  },
  {
   "cell_type": "code",
   "execution_count": 39,
   "id": "18286f56-eaab-413c-8cc2-c7360e294425",
   "metadata": {},
   "outputs": [
    {
     "name": "stdout",
     "output_type": "stream",
     "text": [
      "2\n"
     ]
    }
   ],
   "source": [
    "result = mymax2(1, 2)\n",
    "print(result)"
   ]
  },
  {
   "cell_type": "code",
   "execution_count": 47,
   "id": "acd65607-9176-4166-8963-93ecef8f0fa9",
   "metadata": {},
   "outputs": [
    {
     "data": {
      "text/plain": [
       "(20, 10)"
      ]
     },
     "execution_count": 47,
     "metadata": {},
     "output_type": "execute_result"
    }
   ],
   "source": [
    "def my_def(x):\n",
    "    return x * 2, x\n",
    "\n",
    "my_def(10)"
   ]
  },
  {
   "cell_type": "code",
   "execution_count": 53,
   "id": "e45f702a-cbec-45a8-bc88-c1fd57b18d34",
   "metadata": {},
   "outputs": [
    {
     "name": "stdout",
     "output_type": "stream",
     "text": [
      "0\n",
      "1\n",
      "2\n",
      "3\n"
     ]
    },
    {
     "data": {
      "text/plain": [
       "'끗!'"
      ]
     },
     "execution_count": 53,
     "metadata": {},
     "output_type": "execute_result"
    }
   ],
   "source": [
    "def my_for(x):\n",
    "    for i in range(x):\n",
    "        print(i)\n",
    "        if i == 3:\n",
    "            return '끗!'\n",
    "\n",
    "my_for(5)"
   ]
  },
  {
   "cell_type": "code",
   "execution_count": 56,
   "id": "6e597d15-bcf6-4b1d-8ca3-ea5ef4f285ed",
   "metadata": {},
   "outputs": [],
   "source": [
    "def my_list_max(range1, range2):\n",
    "    if sum(range1) > sum(range2):\n",
    "        return(sum(range1))\n",
    "    else:\n",
    "        return(sum(range2))"
   ]
  },
  {
   "cell_type": "code",
   "execution_count": 57,
   "id": "f7b63b59-6da0-4594-84bd-4b19d75b414f",
   "metadata": {},
   "outputs": [
    {
     "data": {
      "text/plain": [
       "9"
      ]
     },
     "execution_count": 57,
     "metadata": {},
     "output_type": "execute_result"
    }
   ],
   "source": [
    "my_list_max([1, 2, 3],[2, 3, 4])"
   ]
  },
  {
   "cell_type": "code",
   "execution_count": 98,
   "id": "5daeb620-a2db-4d52-8e53-d77f8b71db45",
   "metadata": {},
   "outputs": [],
   "source": [
    "def my_list_max(range1, range2):\n",
    "    a = 0\n",
    "    b = 0\n",
    "    \n",
    "    for number in range1:\n",
    "        a = a + number\n",
    "\n",
    "    for number in range2:\n",
    "        b += number\n",
    "   \n",
    "    if a > b:\n",
    "            return range1\n",
    "    else:\n",
    "            return range2"
   ]
  },
  {
   "cell_type": "code",
   "execution_count": 99,
   "id": "502c96e5-01da-4f21-983c-8ad20b6936cb",
   "metadata": {},
   "outputs": [
    {
     "data": {
      "text/plain": [
       "[2, 3, 4]"
      ]
     },
     "execution_count": 99,
     "metadata": {},
     "output_type": "execute_result"
    }
   ],
   "source": [
    "my_list_max([1, 2, 3],[2, 3, 4])"
   ]
  },
  {
   "cell_type": "code",
   "execution_count": 88,
   "id": "0460fe27-2b13-483f-81d3-c6e473a7bfe1",
   "metadata": {},
   "outputs": [],
   "source": [
    "def my_list_max(range1, range2):\n",
    "    sum1 = 0\n",
    "    sum2 = 0\n",
    "\n",
    "    # range1의 합 구하기\n",
    "    for number in range1:\n",
    "        sum1 += number\n",
    "\n",
    "    # range2의 합 구하기\n",
    "    for number in range2:\n",
    "        sum2 += number\n",
    "\n",
    "    # 더 큰 값 반환\n",
    "    return sum1 if sum1 > sum2 else sum2"
   ]
  },
  {
   "cell_type": "code",
   "execution_count": 89,
   "id": "75803c38-15ac-4066-98d1-47a73139f7b5",
   "metadata": {},
   "outputs": [
    {
     "data": {
      "text/plain": [
       "9"
      ]
     },
     "execution_count": 89,
     "metadata": {},
     "output_type": "execute_result"
    }
   ],
   "source": [
    "my_list_max([1, 2, 3],[2, 3, 4])"
   ]
  },
  {
   "cell_type": "markdown",
   "id": "6cfce23a-d30c-4c58-b9bf-91d9bc1f1b79",
   "metadata": {},
   "source": [
    "### 함수의 인수"
   ]
  },
  {
   "cell_type": "markdown",
   "id": "afb36576-04f1-45ee-a72a-d49af0f0fc31",
   "metadata": {},
   "source": [
    "### 위치인수\n",
    "- 기본적으로 함수는 위치를 기준으로 인수를 판단합니다."
   ]
  },
  {
   "cell_type": "code",
   "execution_count": 164,
   "id": "b59b2605-eb44-4107-99cf-5ca576f034a2",
   "metadata": {},
   "outputs": [],
   "source": [
    "def cylinder(r, h):\n",
    "    return 3.14 * r ** 2 * h"
   ]
  },
  {
   "cell_type": "code",
   "execution_count": 101,
   "id": "16beaee4-eb7d-4cdb-9fe8-db70e4b2f4f4",
   "metadata": {},
   "outputs": [
    {
     "data": {
      "text/plain": [
       "301.44"
      ]
     },
     "execution_count": 101,
     "metadata": {},
     "output_type": "execute_result"
    }
   ],
   "source": [
    "cylinder(4, 6)"
   ]
  },
  {
   "cell_type": "code",
   "execution_count": 103,
   "id": "6761af41-a37d-40b6-887c-34acafcab0ba",
   "metadata": {},
   "outputs": [
    {
     "data": {
      "text/plain": [
       "452.16"
      ]
     },
     "execution_count": 103,
     "metadata": {},
     "output_type": "execute_result"
    }
   ],
   "source": [
    "cylinder(6, 4)"
   ]
  },
  {
   "cell_type": "markdown",
   "id": "5143fda9-7a47-4e0d-b2b8-7b5b4055bbd1",
   "metadata": {},
   "source": [
    "#### 기본값\n",
    "- default 값 설정\n",
    "```python\n",
    "def fun_name(p1=v1):\n",
    "    code1\n",
    "    return value"
   ]
  },
  {
   "cell_type": "code",
   "execution_count": 116,
   "id": "c110b616-4f13-469d-aa47-897f1276a397",
   "metadata": {},
   "outputs": [],
   "source": [
    "def greeting(name='익명'):\n",
    "    return f'{name}님 반갑습니다.'"
   ]
  },
  {
   "cell_type": "code",
   "execution_count": 119,
   "id": "5c9f4c87-82a8-451b-8deb-e0cdb4529b09",
   "metadata": {},
   "outputs": [
    {
     "data": {
      "text/plain": [
       "'최민혁님 반갑습니다.'"
      ]
     },
     "execution_count": 119,
     "metadata": {},
     "output_type": "execute_result"
    }
   ],
   "source": [
    "greeting('최민혁')"
   ]
  },
  {
   "cell_type": "code",
   "execution_count": 132,
   "id": "6919dc8c-8bc1-40d3-a430-e32b7dfef419",
   "metadata": {},
   "outputs": [
    {
     "name": "stdout",
     "output_type": "stream",
     "text": [
      "안녕하세요 반갑습니다!!!!!\n",
      "나는 민혁이야\n"
     ]
    }
   ],
   "source": [
    "print('안녕하세요', '반갑습니다', end='!!!!!\\n')\n",
    "print('나는 민혁이야')"
   ]
  },
  {
   "cell_type": "code",
   "execution_count": 147,
   "id": "df70057b-1519-42a5-a215-8ace6e013934",
   "metadata": {},
   "outputs": [],
   "source": [
    "def greeting(name, age):\n",
    "    return f'{name} 님의{age}(은)는 몇살입니다.'"
   ]
  },
  {
   "cell_type": "code",
   "execution_count": 150,
   "id": "02b47e6c-a6b9-4f41-81bc-67f6f8b1e341",
   "metadata": {},
   "outputs": [
    {
     "data": {
      "text/plain": [
       "'28 님의민혁(은)는 몇살입니다.'"
      ]
     },
     "execution_count": 150,
     "metadata": {},
     "output_type": "execute_result"
    }
   ],
   "source": [
    "greeting('민혁', 28)"
   ]
  },
  {
   "cell_type": "code",
   "execution_count": 144,
   "id": "6c80ef4f-6886-4cf9-84e2-2a1564496164",
   "metadata": {},
   "outputs": [
    {
     "ename": "SyntaxError",
     "evalue": "parameter without a default follows parameter with a default (1244466567.py, line 1)",
     "output_type": "error",
     "traceback": [
      "\u001b[1;36m  Cell \u001b[1;32mIn[144], line 1\u001b[1;36m\u001b[0m\n\u001b[1;33m    def greeting(name='익명', age):\u001b[0m\n\u001b[1;37m                            ^\u001b[0m\n\u001b[1;31mSyntaxError\u001b[0m\u001b[1;31m:\u001b[0m parameter without a default follows parameter with a default\n"
     ]
    }
   ],
   "source": [
    "def greeting(name='익명', age):\n",
    "    return f'{name} 님의{age}(은)는 몇살입니다.'"
   ]
  },
  {
   "cell_type": "code",
   "execution_count": 151,
   "id": "3cebc76e-95e2-435d-b781-d1e18f4370a2",
   "metadata": {},
   "outputs": [],
   "source": [
    "def greeting(age, name='익명'):\n",
    "    return f'{name} 님의{age}(은)는 몇살입니다.'"
   ]
  },
  {
   "cell_type": "code",
   "execution_count": 152,
   "id": "2f82c9a4-10f1-436a-ba75-b608467adc7f",
   "metadata": {},
   "outputs": [
    {
     "data": {
      "text/plain": [
       "'익명 님의10(은)는 몇살입니다.'"
      ]
     },
     "execution_count": 152,
     "metadata": {},
     "output_type": "execute_result"
    }
   ],
   "source": [
    "greeting(10)"
   ]
  },
  {
   "cell_type": "markdown",
   "id": "bee22d01-73cd-4d41-8f51-6355ec6738d2",
   "metadata": {},
   "source": [
    "#### 키워드 인수\n",
    "- 함수를 호출(실행)할 때 내가 원하는 위치에 직접적으로 값을 전달"
   ]
  },
  {
   "cell_type": "code",
   "execution_count": 160,
   "id": "67dd2a02-232f-4e7d-a343-0b03a57c00b4",
   "metadata": {},
   "outputs": [],
   "source": [
    "def greeting(age, name='익명'):\n",
    "    print(f'{name} 님은 {age}살입니다.')"
   ]
  },
  {
   "cell_type": "code",
   "execution_count": 161,
   "id": "93224bc8-d852-4e67-b40d-a75ef7e74174",
   "metadata": {},
   "outputs": [
    {
     "name": "stdout",
     "output_type": "stream",
     "text": [
      "민혁 님은 28살입니다.\n",
      "익명 님은 28살입니다.\n",
      "민혁 님은 28살입니다.\n"
     ]
    }
   ],
   "source": [
    "greeting(28, '민혁')\n",
    "greeting(28)\n",
    "greeting(name='민혁', age=28)"
   ]
  },
  {
   "cell_type": "markdown",
   "id": "f8fb85b3-b7b0-4856-8c31-347e7f3ad79e",
   "metadata": {},
   "source": [
    "### 가변인자 리스트\n",
    "- *parms가 가변인자\n",
    "```\n",
    "def func_name (*parms):\n",
    "    code\n",
    "    ```\n",
    "    return value\n",
    "```"
   ]
  },
  {
   "cell_type": "code",
   "execution_count": 170,
   "id": "463e5c0b-06a8-41ee-a670-472b484e0c97",
   "metadata": {},
   "outputs": [],
   "source": [
    "def my_print(*words):\n",
    "    print(words)"
   ]
  },
  {
   "cell_type": "code",
   "execution_count": 171,
   "id": "9033bd42-6881-4995-a8f3-74a6a316d211",
   "metadata": {},
   "outputs": [
    {
     "name": "stdout",
     "output_type": "stream",
     "text": [
      "('my', 'name', 'is')\n"
     ]
    }
   ],
   "source": [
    "my_print('my', 'name', 'is')"
   ]
  },
  {
   "cell_type": "code",
   "execution_count": 173,
   "id": "f00c126d-f66d-414f-b7df-ec789f70a33a",
   "metadata": {},
   "outputs": [
    {
     "data": {
      "text/plain": [
       "7"
      ]
     },
     "execution_count": 173,
     "metadata": {},
     "output_type": "execute_result"
    }
   ],
   "source": [
    "max(1, 2, 3, 4, 5, 6, 7,)"
   ]
  },
  {
   "cell_type": "code",
   "execution_count": 221,
   "id": "798a68f4-8292-4169-a56f-f23af3d9bc78",
   "metadata": {},
   "outputs": [],
   "source": [
    "def my_max(*numbs):\n",
    "    max_num = numbs[0]\n",
    "    for numb in numbs:\n",
    "        if max_num < numb:\n",
    "            max_num = numb\n",
    "    \n",
    "    return max_num"
   ]
  },
  {
   "cell_type": "code",
   "execution_count": 222,
   "id": "15498281-4ba1-4691-9ec6-595d9baa7460",
   "metadata": {},
   "outputs": [
    {
     "data": {
      "text/plain": [
       "7"
      ]
     },
     "execution_count": 222,
     "metadata": {},
     "output_type": "execute_result"
    }
   ],
   "source": [
    "my_max(1, 2, 3, 4, 5, 6, 7)"
   ]
  },
  {
   "cell_type": "markdown",
   "id": "3acbe895-330f-4aec-8ce4-d2e5f635170d",
   "metadata": {},
   "source": [
    "### 정의되지 않은 키워드 인자 처리하기\n",
    "```python\n",
    "def fun_name(**kwargs):\n",
    "    return value\n",
    "```"
   ]
  },
  {
   "cell_type": "code",
   "execution_count": 7,
   "id": "ae08604b-3e33-4ad6-be3e-23e9b51a72ff",
   "metadata": {},
   "outputs": [
    {
     "name": "stdout",
     "output_type": "stream",
     "text": [
      "{'name': 'kim', 'age': 20}\n"
     ]
    }
   ],
   "source": [
    "infor = {\n",
    "    'name' : 'hong',\n",
    "    'age' : 10,\n",
    "}\n",
    "print(info)"
   ]
  },
  {
   "cell_type": "code",
   "execution_count": 8,
   "id": "120866f5-4c03-4a9c-943b-870529b56ed9",
   "metadata": {},
   "outputs": [
    {
     "name": "stdout",
     "output_type": "stream",
     "text": [
      "{'name': 'kim', 'age': 20}\n"
     ]
    }
   ],
   "source": [
    "info = dict(name='kim', age=20)\n",
    "print(info)"
   ]
  },
  {
   "cell_type": "code",
   "execution_count": 9,
   "id": "64a95b8f-e145-4c28-bf13-2aba8fc3a45d",
   "metadata": {},
   "outputs": [
    {
     "name": "stdout",
     "output_type": "stream",
     "text": [
      "{'asdf': '가나다', 'age': 20, 'nana': 'fuck'}\n"
     ]
    }
   ],
   "source": [
    "def my_dict(**kwargs):\n",
    "    print(kwargs)\n",
    "\n",
    "my_dict(asdf='가나다', age=20, nana='fuck')"
   ]
  },
  {
   "cell_type": "code",
   "execution_count": 10,
   "id": "4cc8c004-43c9-4f5e-a277-c6bd5d2d0367",
   "metadata": {},
   "outputs": [],
   "source": [
    "def my_func(params1, params2='temp', *numbers, **kwargs):\n",
    "    return 0 "
   ]
  },
  {
   "cell_type": "code",
   "execution_count": 13,
   "id": "f15aadc4-267a-48f7-a4ba-e53fad7a0c15",
   "metadata": {},
   "outputs": [
    {
     "data": {
      "text/plain": [
       "0"
      ]
     },
     "execution_count": 13,
     "metadata": {},
     "output_type": "execute_result"
    }
   ],
   "source": [
    "# my_func() => params1 부족\n",
    "my_func(123)\n",
    "# => params1 = 123, params2 = 'temp'\n",
    "my_func(123, 234)\n",
    "# => params1 = 123, params2 = 234\n",
    "my_func(123, 234, 345, 890, 990)\n",
    "# => params1 = 123, params2 = 234, numbers = (345, 890, 990)\n",
    "my_func(123, 234, 345, 890, 990, a=1, b=2, c=3)\n",
    "# => params1 = 123, params2 = 234, numbers = (345, 890, 990) kwargs = {a=1, b=2, c=3}"
   ]
  },
  {
   "cell_type": "markdown",
   "id": "c13825eb-2531-408f-acf8-7a4ed857af1f",
   "metadata": {},
   "source": [
    "### lambda 표현식\n",
    "\n",
    "-일회용 함수, 익명 함수\n",
    "\n",
    "```python\n",
    "lambda parameter: experession\n",
    "```"
   ]
  },
  {
   "cell_type": "code",
   "execution_count": 14,
   "id": "06baf1ab-be1b-4c3e-b3a1-025ec65f3388",
   "metadata": {},
   "outputs": [],
   "source": [
    "def my_sum(num1, num2):\n",
    "    return num1 + num2"
   ]
  },
  {
   "cell_type": "code",
   "execution_count": 16,
   "id": "9a524aa2-f8c6-42cf-b498-4abe8aa6ae5d",
   "metadata": {},
   "outputs": [
    {
     "data": {
      "text/plain": [
       "3"
      ]
     },
     "execution_count": 16,
     "metadata": {},
     "output_type": "execute_result"
    }
   ],
   "source": [
    "my_sum(1, 2)"
   ]
  },
  {
   "cell_type": "code",
   "execution_count": 20,
   "id": "4aaf96f5-c715-4c7f-9800-a7fab7e8a89a",
   "metadata": {},
   "outputs": [
    {
     "data": {
      "text/plain": [
       "'freakin sleepy'"
      ]
     },
     "execution_count": 20,
     "metadata": {},
     "output_type": "execute_result"
    }
   ],
   "source": [
    "(lambda num1, num2 : \"freakin sleepy\")(1, 2)"
   ]
  },
  {
   "cell_type": "markdown",
   "id": "6f55b7f1-41bc-4ce6-a6c9-e379d3ee1a48",
   "metadata": {},
   "source": [
    "## 타입힌트\n",
    "-실행을 강제하지 않음. 그냥 주석 같은 거"
   ]
  },
  {
   "cell_type": "code",
   "execution_count": 30,
   "id": "bad4ed11-8800-446c-b93b-b287a8a67497",
   "metadata": {},
   "outputs": [
    {
     "data": {
      "text/plain": [
       "4"
      ]
     },
     "execution_count": 30,
     "metadata": {},
     "output_type": "execute_result"
    }
   ],
   "source": [
    "def something(a: int, b: int) -> int:\n",
    "    return a + b\n",
    "\n",
    "my_sum(1, 3)"
   ]
  },
  {
   "cell_type": "code",
   "execution_count": 31,
   "id": "6cfe0974-9953-46ba-abf4-fd8f2a8142c9",
   "metadata": {},
   "outputs": [
    {
     "data": {
      "text/plain": [
       "'asdfqwer'"
      ]
     },
     "execution_count": 31,
     "metadata": {},
     "output_type": "execute_result"
    }
   ],
   "source": [
    "something('asdf', 'qwer')"
   ]
  },
  {
   "cell_type": "markdown",
   "id": "2332047c-bb41-4a1a-bfe8-9c15646186e3",
   "metadata": {},
   "source": [
    "### 이름공간 (namespace), 스코프(scope)\n",
    "python에서 사용하는 이름들은 이름공간에 저장되어있습니다. LEGB 룰에 따라 접근.\n",
    "변수 이름 / 함수 이름\n",
    "같은 이름을 다르게 정의한다고 덮어씌우는 것이 아님. 새로 생성됨.\n",
    "생성된 이름을 가장 좁은 범위에서부터 찾아오는 것.\n",
    "\n",
    "1. Local : 정의된 함수 내부\n",
    "2. Enclosed : 상위 함수\n",
    "3. Global : 함수 밖\n",
    "4. Built-in : python이 기본적으로 가지고 있는 함수"
   ]
  },
  {
   "cell_type": "code",
   "execution_count": 33,
   "id": "794b3eef-2131-47ed-8c8c-f1e9f9cea30f",
   "metadata": {},
   "outputs": [
    {
     "name": "stdout",
     "output_type": "stream",
     "text": [
      "123\n"
     ]
    }
   ],
   "source": [
    "result = str(123)\n",
    "print(result)"
   ]
  },
  {
   "cell_type": "code",
   "execution_count": 34,
   "id": "fa9a6b10-7f06-4215-89c7-429059527a7c",
   "metadata": {},
   "outputs": [],
   "source": [
    "str = 'hello'"
   ]
  },
  {
   "cell_type": "code",
   "execution_count": 37,
   "id": "f721eaff-a7fd-42d0-93fb-376733482c5d",
   "metadata": {},
   "outputs": [
    {
     "name": "stdout",
     "output_type": "stream",
     "text": [
      "123\n"
     ]
    }
   ],
   "source": [
    "result = str(123)\n",
    "print(result)"
   ]
  },
  {
   "cell_type": "code",
   "execution_count": 36,
   "id": "651353de-160c-4021-9853-6898e3aea4a7",
   "metadata": {},
   "outputs": [],
   "source": [
    "del str"
   ]
  },
  {
   "cell_type": "code",
   "execution_count": 43,
   "id": "b097d29c-ad38-43d7-a1d7-cad535700048",
   "metadata": {},
   "outputs": [
    {
     "data": {
      "text/plain": [
       "'asdf'"
      ]
     },
     "execution_count": 43,
     "metadata": {},
     "output_type": "execute_result"
    }
   ],
   "source": [
    "a = 1\n",
    "\n",
    "def local_scope(a):\n",
    "    return a\n",
    "\n",
    "a = '가나다라'\n",
    "local_scope('asdf')"
   ]
  },
  {
   "cell_type": "code",
   "execution_count": 44,
   "id": "da9b57c6-a1b4-44de-a529-3c7c29b48e8d",
   "metadata": {},
   "outputs": [
    {
     "data": {
      "text/plain": [
       "'가나다라'"
      ]
     },
     "execution_count": 44,
     "metadata": {},
     "output_type": "execute_result"
    }
   ],
   "source": [
    "a = 1\n",
    "\n",
    "def local_scope(b):\n",
    "    return a\n",
    "\n",
    "a = '가나다라'\n",
    "local_scope('asdf')"
   ]
  },
  {
   "cell_type": "code",
   "execution_count": 45,
   "id": "639ac8b3-ed05-4b8b-a912-61e7e1bbec76",
   "metadata": {},
   "outputs": [
    {
     "name": "stdout",
     "output_type": "stream",
     "text": [
      "0\n",
      "1\n",
      "2\n",
      "3\n",
      "4\n"
     ]
    }
   ],
   "source": [
    "my_list = [1, 2, 3, 4, 5]\n",
    "for i in range(5):\n",
    "    print(i)"
   ]
  },
  {
   "cell_type": "code",
   "execution_count": 51,
   "id": "ac4c6f60-602e-4e51-b8e3-58fb8662cb78",
   "metadata": {},
   "outputs": [
    {
     "data": {
      "text/plain": [
       "1"
      ]
     },
     "execution_count": 51,
     "metadata": {},
     "output_type": "execute_result"
    }
   ],
   "source": [
    "a = 0\n",
    "\n",
    "def global_scope():\n",
    "    global a\n",
    "    a = a + 1\n",
    "    return a\n",
    "\n",
    "global_scope()"
   ]
  },
  {
   "cell_type": "code",
   "execution_count": null,
   "id": "6fd82ba0-1260-47bd-8dd1-435f4558bd9f",
   "metadata": {},
   "outputs": [],
   "source": []
  },
  {
   "cell_type": "code",
   "execution_count": null,
   "id": "667fdba2-899d-4884-8d11-cbea839decaf",
   "metadata": {},
   "outputs": [],
   "source": []
  },
  {
   "cell_type": "markdown",
   "id": "b933921a-af66-41cf-9df6-1c90df10646b",
   "metadata": {},
   "source": [
    "### 재귀\n",
    "함수 내부에서 자기 자신을 호출하는 함수\n",
    "\n",
    "```\n",
    "n! = 1 * 2 * 3 * ... * n\n",
    "\n",
    "\n",
    "1! = 1\n",
    "2! = 1 * 2 == 1! * 2\n",
    "3! = 1 * 2 * 3 == 2! * 3\n",
    "n! == (n-1)! * n\n",
    "```"
   ]
  },
  {
   "cell_type": "code",
   "execution_count": 52,
   "id": "cfd588e1-13be-463f-ac2d-eed788369601",
   "metadata": {},
   "outputs": [],
   "source": [
    "def fact(n):\n",
    "    if n == 1:\n",
    "        return 1\n",
    "    else:\n",
    "        return fact(n-1) * n"
   ]
  },
  {
   "cell_type": "code",
   "execution_count": 59,
   "id": "fd240d89-d87a-4e8c-8123-c539e3add64d",
   "metadata": {},
   "outputs": [
    {
     "data": {
      "text/plain": [
       "3628800"
      ]
     },
     "execution_count": 59,
     "metadata": {},
     "output_type": "execute_result"
    }
   ],
   "source": [
    "fact(10)"
   ]
  },
  {
   "cell_type": "code",
   "execution_count": null,
   "id": "cbf2b445-cd39-42ef-bf84-66a94aabd428",
   "metadata": {},
   "outputs": [],
   "source": []
  },
  {
   "cell_type": "code",
   "execution_count": null,
   "id": "da211750-c639-4994-8d8e-14defbe9b5ee",
   "metadata": {},
   "outputs": [],
   "source": []
  },
  {
   "cell_type": "code",
   "execution_count": null,
   "id": "4fbd998c-d1f2-4493-a6dd-09fce3085373",
   "metadata": {},
   "outputs": [],
   "source": []
  },
  {
   "cell_type": "code",
   "execution_count": null,
   "id": "099308a8-3b3a-43a9-85f3-86e8dfbc44e1",
   "metadata": {},
   "outputs": [],
   "source": []
  },
  {
   "cell_type": "code",
   "execution_count": null,
   "id": "c150f122-93da-41f1-9f7e-ebc0c6df3b54",
   "metadata": {},
   "outputs": [],
   "source": []
  },
  {
   "cell_type": "code",
   "execution_count": null,
   "id": "82ce0310-78b7-4e6d-9b77-f3f438d9ba57",
   "metadata": {},
   "outputs": [],
   "source": []
  },
  {
   "cell_type": "code",
   "execution_count": null,
   "id": "4c3b8d06-fb3c-4af0-b6ee-67aa09a2c136",
   "metadata": {},
   "outputs": [],
   "source": []
  }
 ],
 "metadata": {
  "kernelspec": {
   "display_name": "Python 3 (ipykernel)",
   "language": "python",
   "name": "python3"
  },
  "language_info": {
   "codemirror_mode": {
    "name": "ipython",
    "version": 3
   },
   "file_extension": ".py",
   "mimetype": "text/x-python",
   "name": "python",
   "nbconvert_exporter": "python",
   "pygments_lexer": "ipython3",
   "version": "3.13.2"
  }
 },
 "nbformat": 4,
 "nbformat_minor": 5
}
