{
 "cells": [
  {
   "cell_type": "markdown",
   "id": "f34f1b15-033f-4076-85f7-399155f9bad2",
   "metadata": {
    "scrolled": true
   },
   "source": [
    "# 01.intro\n",
    "\n",
    "## shortcut\n",
    "\n",
    "- ctrl + enter : 현재 셀 실행\n",
    "- shift + enter : 현재 셀 실행 & 아래로 이동\n",
    "- alt + enter : 현재 셀 실행 & 아래에 새로운 셀 추가"
   ]
  },
  {
   "cell_type": "markdown",
   "id": "77d6b09c-7161-4a66-93d3-db288ab285d5",
   "metadata": {},
   "source": [
    "## 주의사항\n",
    "\n",
    "1. Apple / apple\n",
    "2. git add. / git add .\n",
    "3. message / massage"
   ]
  },
  {
   "cell_type": "markdown",
   "id": "d3c7d491-37a7-43e6-8947-886d3e9ad323",
   "metadata": {},
   "source": [
    "# 01. 변수\n",
    "\n",
    "```\n",
    "var_name = value\n",
    "```\n",
    "\n",
    "- 변수 이름은 어떤 이름이든 사용가능\n",
    "- 다만 영어, 숫자, _ 를 이용해서 선언\n",
    "- 키워드는 불가능"
   ]
  },
  {
   "cell_type": "code",
   "execution_count": 7,
   "id": "1d7805b7-c7a5-495d-87b8-7c4454579ce2",
   "metadata": {},
   "outputs": [],
   "source": [
    "a = 100"
   ]
  },
  {
   "cell_type": "code",
   "execution_count": 8,
   "id": "61ef9dfb-22cf-46c3-9cfe-6a3678b7031e",
   "metadata": {},
   "outputs": [
    {
     "data": {
      "text/plain": [
       "100"
      ]
     },
     "execution_count": 8,
     "metadata": {},
     "output_type": "execute_result"
    }
   ],
   "source": [
    "a"
   ]
  },
  {
   "cell_type": "code",
   "execution_count": 11,
   "id": "1e4776df-ceb7-40da-83cd-6a20e0724a97",
   "metadata": {},
   "outputs": [
    {
     "data": {
      "text/plain": [
       "['False',\n",
       " 'None',\n",
       " 'True',\n",
       " 'and',\n",
       " 'as',\n",
       " 'assert',\n",
       " 'async',\n",
       " 'await',\n",
       " 'break',\n",
       " 'class',\n",
       " 'continue',\n",
       " 'def',\n",
       " 'del',\n",
       " 'elif',\n",
       " 'else',\n",
       " 'except',\n",
       " 'finally',\n",
       " 'for',\n",
       " 'from',\n",
       " 'global',\n",
       " 'if',\n",
       " 'import',\n",
       " 'in',\n",
       " 'is',\n",
       " 'lambda',\n",
       " 'nonlocal',\n",
       " 'not',\n",
       " 'or',\n",
       " 'pass',\n",
       " 'raise',\n",
       " 'return',\n",
       " 'try',\n",
       " 'while',\n",
       " 'with',\n",
       " 'yield']"
      ]
     },
     "execution_count": 11,
     "metadata": {},
     "output_type": "execute_result"
    }
   ],
   "source": [
    "import keyword\n",
    "keyword.kwlist"
   ]
  },
  {
   "cell_type": "code",
   "execution_count": 40,
   "id": "9d56e7b7-5ac3-434e-aebe-2bf46e8c0ce7",
   "metadata": {},
   "outputs": [],
   "source": [
    "seoul_dust_rate = 150"
   ]
  },
  {
   "cell_type": "markdown",
   "id": "e87b57ad-b0ba-49e4-b14a-c4833f444fed",
   "metadata": {},
   "source": [
    "## 1.1 number"
   ]
  },
  {
   "cell_type": "code",
   "execution_count": 12,
   "id": "2686cf4e-2569-429a-928c-73782acddc92",
   "metadata": {},
   "outputs": [],
   "source": [
    "a = 10000"
   ]
  },
  {
   "cell_type": "code",
   "execution_count": 13,
   "id": "117275a0-c731-46e2-b500-47244821bbe2",
   "metadata": {},
   "outputs": [
    {
     "data": {
      "text/plain": [
       "10000"
      ]
     },
     "execution_count": 13,
     "metadata": {},
     "output_type": "execute_result"
    }
   ],
   "source": [
    "a"
   ]
  },
  {
   "cell_type": "code",
   "execution_count": 14,
   "id": "465e7a1a-9745-46d2-8d81-c04ae74ae059",
   "metadata": {},
   "outputs": [
    {
     "data": {
      "text/plain": [
       "int"
      ]
     },
     "execution_count": 14,
     "metadata": {},
     "output_type": "execute_result"
    }
   ],
   "source": [
    "type(a)"
   ]
  },
  {
   "cell_type": "code",
   "execution_count": 18,
   "id": "001d55b3-1d81-45c3-b4db-621af6233672",
   "metadata": {},
   "outputs": [],
   "source": [
    "b = 1.1"
   ]
  },
  {
   "cell_type": "code",
   "execution_count": 19,
   "id": "2fa26ac3-2e3e-4980-95a2-9bdbc57e8968",
   "metadata": {},
   "outputs": [
    {
     "data": {
      "text/plain": [
       "1.1"
      ]
     },
     "execution_count": 19,
     "metadata": {},
     "output_type": "execute_result"
    }
   ],
   "source": [
    "b"
   ]
  },
  {
   "cell_type": "code",
   "execution_count": 20,
   "id": "c30e5b0b-8e80-44bf-b901-49075ff37ba5",
   "metadata": {},
   "outputs": [
    {
     "data": {
      "text/plain": [
       "float"
      ]
     },
     "execution_count": 20,
     "metadata": {},
     "output_type": "execute_result"
    }
   ],
   "source": [
    "type(b)"
   ]
  },
  {
   "cell_type": "code",
   "execution_count": 21,
   "id": "a2edce8c-81f8-487d-bafa-38f984cce6ac",
   "metadata": {},
   "outputs": [],
   "source": [
    "c = 1 + 1j"
   ]
  },
  {
   "cell_type": "code",
   "execution_count": 22,
   "id": "4fc29e74-05c7-428f-a7d0-9bfceb269e5b",
   "metadata": {},
   "outputs": [
    {
     "data": {
      "text/plain": [
       "(1+1j)"
      ]
     },
     "execution_count": 22,
     "metadata": {},
     "output_type": "execute_result"
    }
   ],
   "source": [
    "c"
   ]
  },
  {
   "cell_type": "code",
   "execution_count": 23,
   "id": "5f4c4298-3a0d-4d1d-a6f8-5da83b56fea1",
   "metadata": {},
   "outputs": [
    {
     "data": {
      "text/plain": [
       "complex"
      ]
     },
     "execution_count": 23,
     "metadata": {},
     "output_type": "execute_result"
    }
   ],
   "source": [
    "type(c)"
   ]
  },
  {
   "cell_type": "markdown",
   "id": "3c54dd58-b6bf-4f05-8358-66c439f507db",
   "metadata": {},
   "source": [
    "## 1.2 boolean"
   ]
  },
  {
   "cell_type": "code",
   "execution_count": 24,
   "id": "6d1cefd6-ee8d-4a2b-bb8f-e702f808d64c",
   "metadata": {},
   "outputs": [],
   "source": [
    "a = True"
   ]
  },
  {
   "cell_type": "code",
   "execution_count": 25,
   "id": "e06acd07-2c9a-4234-9cba-3bd05720144b",
   "metadata": {},
   "outputs": [
    {
     "data": {
      "text/plain": [
       "True"
      ]
     },
     "execution_count": 25,
     "metadata": {},
     "output_type": "execute_result"
    }
   ],
   "source": [
    "a"
   ]
  },
  {
   "cell_type": "code",
   "execution_count": 26,
   "id": "7e2643c5-bf20-4345-a131-c61acbd702ad",
   "metadata": {},
   "outputs": [
    {
     "data": {
      "text/plain": [
       "bool"
      ]
     },
     "execution_count": 26,
     "metadata": {},
     "output_type": "execute_result"
    }
   ],
   "source": [
    "type(a)"
   ]
  },
  {
   "cell_type": "code",
   "execution_count": 27,
   "id": "420f3efc-73c3-4ee2-b739-b8beab952682",
   "metadata": {},
   "outputs": [],
   "source": [
    "b = False"
   ]
  },
  {
   "cell_type": "code",
   "execution_count": 28,
   "id": "4671c89e-cab4-47db-aa8f-a71fdfe0be1e",
   "metadata": {},
   "outputs": [
    {
     "data": {
      "text/plain": [
       "False"
      ]
     },
     "execution_count": 28,
     "metadata": {},
     "output_type": "execute_result"
    }
   ],
   "source": [
    "b"
   ]
  },
  {
   "cell_type": "code",
   "execution_count": 29,
   "id": "6832b47a-0ce1-4c24-b06b-e9af5da47e2a",
   "metadata": {},
   "outputs": [
    {
     "data": {
      "text/plain": [
       "bool"
      ]
     },
     "execution_count": 29,
     "metadata": {},
     "output_type": "execute_result"
    }
   ],
   "source": [
    "type(b)"
   ]
  },
  {
   "cell_type": "markdown",
   "id": "b93ea888-26c8-4555-91be-200787b9b45e",
   "metadata": {},
   "source": [
    "## 1.3 string\n",
    "- 문자열 `'`, `\"` 를 이용하여 표현"
   ]
  },
  {
   "cell_type": "code",
   "execution_count": 30,
   "id": "0d4c2f4f-952d-4877-b1eb-fe9b96d4195a",
   "metadata": {},
   "outputs": [],
   "source": [
    "a = 'hello'"
   ]
  },
  {
   "cell_type": "code",
   "execution_count": 31,
   "id": "57731587-ed3d-4868-9c4d-df0258f476b2",
   "metadata": {},
   "outputs": [],
   "source": [
    "b = \"hi\""
   ]
  },
  {
   "cell_type": "code",
   "execution_count": 32,
   "id": "e188e02d-67b8-46c5-a9cc-ff3b6e4d4e5b",
   "metadata": {},
   "outputs": [
    {
     "data": {
      "text/plain": [
       "'hello'"
      ]
     },
     "execution_count": 32,
     "metadata": {},
     "output_type": "execute_result"
    }
   ],
   "source": [
    "a"
   ]
  },
  {
   "cell_type": "code",
   "execution_count": 33,
   "id": "a9117d92-5da4-4db3-bb0a-5898175293e9",
   "metadata": {},
   "outputs": [
    {
     "data": {
      "text/plain": [
       "'hi'"
      ]
     },
     "execution_count": 33,
     "metadata": {},
     "output_type": "execute_result"
    }
   ],
   "source": [
    "b"
   ]
  },
  {
   "cell_type": "code",
   "execution_count": 35,
   "id": "84f0420b-fabe-4734-9583-78cb25cade68",
   "metadata": {},
   "outputs": [
    {
     "name": "stdout",
     "output_type": "stream",
     "text": [
      "hello my name is \"minyeok\"\n"
     ]
    }
   ],
   "source": [
    "print('hello my name is \"minyeok\"')"
   ]
  },
  {
   "cell_type": "code",
   "execution_count": 37,
   "id": "f3829b6b-5a5e-4697-a15c-8851e7ca3094",
   "metadata": {},
   "outputs": [
    {
     "name": "stdout",
     "output_type": "stream",
     "text": [
      "hello\n",
      " my name is 'alsgur'\n"
     ]
    }
   ],
   "source": [
    "print('hello\\n my name is \\'alsgur\\'')"
   ]
  },
  {
   "cell_type": "code",
   "execution_count": 38,
   "id": "47f1af4f-f86b-4075-aa28-eca162fc41a1",
   "metadata": {},
   "outputs": [],
   "source": [
    "a = '''\n",
    "hello\n",
    "world\n",
    "hi\n",
    "'''"
   ]
  },
  {
   "cell_type": "code",
   "execution_count": 39,
   "id": "c4af2566-26c0-42aa-a84f-47f7d1f8cf4f",
   "metadata": {},
   "outputs": [
    {
     "data": {
      "text/plain": [
       "'\\nhello\\nworld\\nhi\\n'"
      ]
     },
     "execution_count": 39,
     "metadata": {},
     "output_type": "execute_result"
    }
   ],
   "source": [
    "a"
   ]
  },
  {
   "cell_type": "code",
   "execution_count": 42,
   "id": "8734f6a0-2466-4df0-8927-ea218414e67b",
   "metadata": {},
   "outputs": [],
   "source": [
    "a = 10\n",
    "b = '홍길동은 ?살입니다.'"
   ]
  },
  {
   "cell_type": "markdown",
   "id": "9a91eb5b-9794-4fa1-8590-6255b1fb0526",
   "metadata": {},
   "source": [
    "### string interpolation\n",
    "\n",
    "- %-formatting\n",
    "- str.format()\n",
    "- f-string"
   ]
  },
  {
   "cell_type": "code",
   "execution_count": 44,
   "id": "aefab734-6baa-4aa9-bb02-810d8869b6d4",
   "metadata": {},
   "outputs": [],
   "source": [
    "age = 10"
   ]
  },
  {
   "cell_type": "code",
   "execution_count": 49,
   "id": "773b06c4-20a0-44b0-9552-9f7d8f29f6f6",
   "metadata": {},
   "outputs": [
    {
     "name": "stdout",
     "output_type": "stream",
     "text": [
      "홍길동은 10살입니다.\n"
     ]
    }
   ],
   "source": [
    "print('홍길동은 %s살입니다.' % age)"
   ]
  },
  {
   "cell_type": "code",
   "execution_count": 50,
   "id": "e19fa3fb-cefa-4619-ad64-eeb9232bce17",
   "metadata": {},
   "outputs": [
    {
     "name": "stdout",
     "output_type": "stream",
     "text": [
      "홍길동은 10살입니다.\n"
     ]
    }
   ],
   "source": [
    "print('홍길동은 {}살입니다.' .format(age))"
   ]
  },
  {
   "cell_type": "code",
   "execution_count": 52,
   "id": "c7069410-f57b-4237-9e40-02e000306f7a",
   "metadata": {},
   "outputs": [
    {
     "name": "stdout",
     "output_type": "stream",
     "text": [
      "홍길동은 10살입니다.\n"
     ]
    }
   ],
   "source": [
    "print(f'홍길동은 {age}살입니다.')"
   ]
  },
  {
   "cell_type": "markdown",
   "id": "cf382617-ccf7-4a94-b60a-48dfe49d6bfc",
   "metadata": {},
   "source": [
    "# 02. 연산자"
   ]
  },
  {
   "cell_type": "markdown",
   "id": "caa8efc1-cdad-4254-8b5b-0d7774310dc3",
   "metadata": {},
   "source": [
    "## 2.1 산술연산자"
   ]
  },
  {
   "cell_type": "markdown",
   "id": "437cfc99-c1b1-4312-9c02-b82f151e3a84",
   "metadata": {},
   "source": [
    "- `a ** b` a를 b번 제곱\n",
    "- `a // b` a를 b로 나눈 몫\n",
    "- `a % b` a를 b로 나눈 나머지"
   ]
  },
  {
   "cell_type": "code",
   "execution_count": 64,
   "id": "2b54338c-628a-472d-b251-dce2faad70ac",
   "metadata": {},
   "outputs": [],
   "source": [
    "a = 5\n",
    "b = 2"
   ]
  },
  {
   "cell_type": "code",
   "execution_count": 65,
   "id": "68951c52-5dbf-406e-a8b3-cf6ff580c508",
   "metadata": {},
   "outputs": [
    {
     "name": "stdout",
     "output_type": "stream",
     "text": [
      "7\n",
      "3\n",
      "10\n",
      "2.5\n"
     ]
    }
   ],
   "source": [
    "print(a + b)\n",
    "print(a - b)\n",
    "print(a * b)\n",
    "print(a / b)"
   ]
  },
  {
   "cell_type": "code",
   "execution_count": 67,
   "id": "a4e1fc32-0fce-404f-87b3-2a642a07a3a5",
   "metadata": {},
   "outputs": [
    {
     "name": "stdout",
     "output_type": "stream",
     "text": [
      "25\n",
      "2\n",
      "1\n"
     ]
    }
   ],
   "source": [
    "print(a ** b) \n",
    "print(a // b)\n",
    "print (a % b)"
   ]
  },
  {
   "cell_type": "code",
   "execution_count": 69,
   "id": "006fdae2-18fa-4532-ab85-d516045de966",
   "metadata": {},
   "outputs": [
    {
     "name": "stdout",
     "output_type": "stream",
     "text": [
      "(2, 1)\n"
     ]
    }
   ],
   "source": [
    "result = divmod(a, b)\n",
    "print(result)"
   ]
  },
  {
   "cell_type": "markdown",
   "id": "01c270ca-4f65-4a53-93c6-6848a16506bc",
   "metadata": {},
   "source": [
    "## 2.2 비교연산자"
   ]
  },
  {
   "cell_type": "code",
   "execution_count": 70,
   "id": "49316bbb-96d0-400f-bc2e-67e263a393ed",
   "metadata": {},
   "outputs": [],
   "source": [
    "a = 5\n",
    "b = 10"
   ]
  },
  {
   "cell_type": "code",
   "execution_count": 73,
   "id": "7061f9b0-3153-4349-8572-dd6033a78cf7",
   "metadata": {},
   "outputs": [
    {
     "name": "stdout",
     "output_type": "stream",
     "text": [
      "True\n",
      "False\n",
      "True\n",
      "False\n"
     ]
    }
   ],
   "source": [
    "print(a < b)\n",
    "print(a > b)\n",
    "print(a <= b)\n",
    "print(a >= b)"
   ]
  },
  {
   "cell_type": "code",
   "execution_count": 75,
   "id": "a707141f-69ec-4b88-8562-d544c649f93a",
   "metadata": {},
   "outputs": [
    {
     "name": "stdout",
     "output_type": "stream",
     "text": [
      "False\n",
      "True\n"
     ]
    }
   ],
   "source": [
    "print(a == b)\n",
    "print(a != b)"
   ]
  },
  {
   "cell_type": "code",
   "execution_count": 78,
   "id": "ae4e92ee-e003-4a2f-94f1-d38952185a3a",
   "metadata": {},
   "outputs": [
    {
     "name": "stdout",
     "output_type": "stream",
     "text": [
      "True\n",
      "False\n"
     ]
    }
   ],
   "source": [
    "print('hi' == 'hi')\n",
    "print('hi' == 'Hi')"
   ]
  },
  {
   "cell_type": "markdown",
   "id": "699affbd-d599-438c-9340-70402bdac71e",
   "metadata": {},
   "source": [
    "## 2.3 논리연산자\n",
    "- and : 양쪽 모두 True 일 때, True를 반환 \n",
    "- or : 양쪽 모두 False 일 때, False를 반환\n",
    "- not : 상태를 부정"
   ]
  },
  {
   "cell_type": "code",
   "execution_count": 80,
   "id": "4ac98cbd-67e4-4f63-9d2e-424de4082dcd",
   "metadata": {},
   "outputs": [
    {
     "name": "stdout",
     "output_type": "stream",
     "text": [
      "True\n",
      "False\n",
      "False\n",
      "False\n"
     ]
    }
   ],
   "source": [
    "print(True and True)\n",
    "print(True and False)\n",
    "print(False and True)\n",
    "print(False and False)"
   ]
  },
  {
   "cell_type": "code",
   "execution_count": 81,
   "id": "2f107695-8c8d-4506-84fb-b33f988c03fb",
   "metadata": {},
   "outputs": [
    {
     "name": "stdout",
     "output_type": "stream",
     "text": [
      "True\n",
      "True\n",
      "True\n",
      "False\n"
     ]
    }
   ],
   "source": [
    "print(True or True)\n",
    "print(True or False)\n",
    "print(False or True)\n",
    "print(False or False)"
   ]
  },
  {
   "cell_type": "code",
   "execution_count": 82,
   "id": "01268bb1-cfc7-4c3a-8810-99882f97dd14",
   "metadata": {},
   "outputs": [
    {
     "name": "stdout",
     "output_type": "stream",
     "text": [
      "False\n"
     ]
    }
   ],
   "source": [
    "a = True\n",
    "print(not a)"
   ]
  },
  {
   "cell_type": "code",
   "execution_count": 87,
   "id": "d2169dd9-d91b-4380-829f-118c092b0f1a",
   "metadata": {},
   "outputs": [
    {
     "name": "stdout",
     "output_type": "stream",
     "text": [
      "5\n",
      "0\n",
      "0\n",
      "0\n"
     ]
    }
   ],
   "source": [
    "# 단축평가\n",
    "print(3 and 5)\n",
    "print(3 and 0)\n",
    "print(0 and 5)\n",
    "print(0 and 0)"
   ]
  },
  {
   "cell_type": "code",
   "execution_count": 88,
   "id": "0a7fddce-fd52-4833-adde-9168d825e3ca",
   "metadata": {},
   "outputs": [
    {
     "name": "stdout",
     "output_type": "stream",
     "text": [
      "3\n",
      "3\n",
      "5\n",
      "0\n"
     ]
    }
   ],
   "source": [
    "print(3 or 5)\n",
    "print(3 or 0)\n",
    "print(0 or 5)\n",
    "print(0 or 0)"
   ]
  },
  {
   "cell_type": "markdown",
   "id": "e0115ff0-063e-4777-870e-37d0ac97a5ce",
   "metadata": {},
   "source": [
    "## 2.4 복합연산자"
   ]
  },
  {
   "cell_type": "code",
   "execution_count": 2,
   "id": "eae772c9-9ae1-4bb9-9bfd-8ad4ca284a86",
   "metadata": {},
   "outputs": [],
   "source": [
    "a = 2\n",
    "b = 3"
   ]
  },
  {
   "cell_type": "code",
   "execution_count": 3,
   "id": "f4586ed4-b645-4407-892d-e88d5b7221b5",
   "metadata": {},
   "outputs": [],
   "source": [
    "a = a + b\n",
    "a = a - b\n",
    "a = a * b\n",
    "a = a / b\n",
    "a = a // b\n",
    "a = a % b\n",
    "a = a ** b"
   ]
  },
  {
   "cell_type": "code",
   "execution_count": 4,
   "id": "0a52fd87-223b-4e85-ac0d-7ac9bc962681",
   "metadata": {},
   "outputs": [],
   "source": [
    "a += b\n",
    "a -= b\n",
    "a *= b\n",
    "a /= b\n",
    "a //= b\n",
    "a %= b\n",
    "a **= b"
   ]
  },
  {
   "cell_type": "code",
   "execution_count": 5,
   "id": "e297cffb-a7bb-49a0-b164-548a9f7a4327",
   "metadata": {},
   "outputs": [
    {
     "data": {
      "text/plain": [
       "0.0"
      ]
     },
     "execution_count": 5,
     "metadata": {},
     "output_type": "execute_result"
    }
   ],
   "source": [
    "a"
   ]
  },
  {
   "cell_type": "markdown",
   "id": "80fbc4a7-4426-4472-bbe1-6099934b85a0",
   "metadata": {},
   "source": [
    "## 2.5 기타연산자"
   ]
  },
  {
   "cell_type": "code",
   "execution_count": 144,
   "id": "cbef37a8-43fa-4d8b-bdd1-6792384fac00",
   "metadata": {},
   "outputs": [],
   "source": [
    "a = 'hi'\n",
    "b = 'hello'"
   ]
  },
  {
   "cell_type": "code",
   "execution_count": 149,
   "id": "1210b957-d702-46eb-b9f6-7c53a131a3b8",
   "metadata": {},
   "outputs": [
    {
     "name": "stdout",
     "output_type": "stream",
     "text": [
      "hihello\n"
     ]
    }
   ],
   "source": [
    "# concatenation\n",
    "print(a + b)"
   ]
  },
  {
   "cell_type": "code",
   "execution_count": 150,
   "id": "3ce1cffd-8dc1-455e-bcbb-0983aafd49cd",
   "metadata": {},
   "outputs": [],
   "source": [
    "a = [1, 2, 3]\n",
    "b = [2, 3, 4]"
   ]
  },
  {
   "cell_type": "code",
   "execution_count": 1,
   "id": "23e4dbcf-6a64-4f30-a1e1-ba4b77904020",
   "metadata": {},
   "outputs": [
    {
     "ename": "NameError",
     "evalue": "name 'a' is not defined",
     "output_type": "error",
     "traceback": [
      "\u001b[1;31m---------------------------------------------------------------------------\u001b[0m",
      "\u001b[1;31mNameError\u001b[0m                                 Traceback (most recent call last)",
      "Cell \u001b[1;32mIn[1], line 1\u001b[0m\n\u001b[1;32m----> 1\u001b[0m \u001b[38;5;28mprint\u001b[39m(\u001b[43ma\u001b[49m \u001b[38;5;241m+\u001b[39m b)\n\u001b[0;32m      2\u001b[0m \u001b[38;5;28mprint\u001b[39m(b \u001b[38;5;241m+\u001b[39m a)\n",
      "\u001b[1;31mNameError\u001b[0m: name 'a' is not defined"
     ]
    }
   ],
   "source": [
    "print(a + b)\n",
    "print(b + a)"
   ]
  },
  {
   "cell_type": "code",
   "execution_count": 153,
   "id": "fa9af32d-3ba9-4d3d-b48a-c4ef799962aa",
   "metadata": {},
   "outputs": [
    {
     "name": "stdout",
     "output_type": "stream",
     "text": [
      "True\n",
      "False\n"
     ]
    }
   ],
   "source": [
    "print(1 in a)\n",
    "print(10 in a)"
   ]
  },
  {
   "cell_type": "code",
   "execution_count": 180,
   "id": "bb9f94f5-e627-4c2c-b287-597d4e1bc979",
   "metadata": {},
   "outputs": [],
   "source": [
    "a = 256\n",
    "b = 256"
   ]
  },
  {
   "cell_type": "code",
   "execution_count": 181,
   "id": "ace2a9d3-748f-499c-9ac1-c3808b470017",
   "metadata": {},
   "outputs": [
    {
     "name": "stdout",
     "output_type": "stream",
     "text": [
      "True\n",
      "True\n"
     ]
    }
   ],
   "source": [
    "print(a == b)\n",
    "print(a is b)"
   ]
  },
  {
   "cell_type": "markdown",
   "id": "f08cfd94-adb2-41ad-937b-70398695592c",
   "metadata": {},
   "source": [
    "### 연산자 우선순위\n",
    "0. ()를 통해서 그룹\n",
    "1. **\n",
    "2. 산술연산자(*, /)\n",
    "3. 산술연산자(+, -)\n",
    "4. 비교연산자(<,=,>), in, is\n",
    "5. not\n",
    "6. and\n",
    "7. or"
   ]
  },
  {
   "cell_type": "code",
   "execution_count": 182,
   "id": "204ad148-ccb7-4adc-86fd-50b38d7926fd",
   "metadata": {},
   "outputs": [
    {
     "name": "stdout",
     "output_type": "stream",
     "text": [
      "-81\n",
      "81\n"
     ]
    }
   ],
   "source": [
    "print(-3 ** 4)\n",
    "print((-3) ** 4)"
   ]
  },
  {
   "cell_type": "markdown",
   "id": "e83e2746-942d-4589-8fe9-57d7ba0b9686",
   "metadata": {},
   "source": [
    "# 3. 형변환"
   ]
  },
  {
   "cell_type": "markdown",
   "id": "9239042a-9ff4-4682-b51f-9eed501becfe",
   "metadata": {},
   "source": [
    "## 3.1 암시적 형변환"
   ]
  },
  {
   "cell_type": "code",
   "execution_count": 183,
   "id": "15117817-7e2a-4ac2-9591-3a1930675ed3",
   "metadata": {},
   "outputs": [],
   "source": [
    "a = True\n",
    "b = False\n",
    "c = 1"
   ]
  },
  {
   "cell_type": "code",
   "execution_count": 185,
   "id": "76c483a3-9c46-43ff-993d-f01eade600ca",
   "metadata": {},
   "outputs": [
    {
     "name": "stdout",
     "output_type": "stream",
     "text": [
      "1\n",
      "2\n"
     ]
    }
   ],
   "source": [
    "print(a + b)\n",
    "print(a + c)"
   ]
  },
  {
   "cell_type": "markdown",
   "id": "449fbf08-889e-4c24-891d-4fda80cfd5d9",
   "metadata": {},
   "source": [
    "## 3.1 명시적 형변환\n",
    "- int()\n",
    "- float()\n",
    "- str()\n",
    "- bool()"
   ]
  },
  {
   "cell_type": "code",
   "execution_count": 194,
   "id": "a22d95eb-cf33-458b-9975-8c3f8c4394c4",
   "metadata": {},
   "outputs": [],
   "source": [
    "a = 1\n",
    "b = '반'"
   ]
  },
  {
   "cell_type": "code",
   "execution_count": 195,
   "id": "0df98bb6-c59c-40f0-8271-6a7e310809a9",
   "metadata": {},
   "outputs": [
    {
     "ename": "TypeError",
     "evalue": "unsupported operand type(s) for +: 'int' and 'str'",
     "output_type": "error",
     "traceback": [
      "\u001b[1;31m---------------------------------------------------------------------------\u001b[0m",
      "\u001b[1;31mTypeError\u001b[0m                                 Traceback (most recent call last)",
      "Cell \u001b[1;32mIn[195], line 1\u001b[0m\n\u001b[1;32m----> 1\u001b[0m \u001b[38;5;28mprint\u001b[39m (\u001b[43ma\u001b[49m\u001b[43m \u001b[49m\u001b[38;5;241;43m+\u001b[39;49m\u001b[43m \u001b[49m\u001b[43mb\u001b[49m)\n",
      "\u001b[1;31mTypeError\u001b[0m: unsupported operand type(s) for +: 'int' and 'str'"
     ]
    }
   ],
   "source": [
    "print (a + b)"
   ]
  },
  {
   "cell_type": "code",
   "execution_count": 196,
   "id": "1715d137-65fe-45e2-9470-1827c2195b87",
   "metadata": {},
   "outputs": [
    {
     "name": "stdout",
     "output_type": "stream",
     "text": [
      "1반\n"
     ]
    }
   ],
   "source": [
    "print(str(a) + b)"
   ]
  },
  {
   "cell_type": "code",
   "execution_count": 197,
   "id": "fd7265ce-7870-4ac9-81f1-87f48e96770d",
   "metadata": {},
   "outputs": [],
   "source": [
    "a = '3'"
   ]
  },
  {
   "cell_type": "code",
   "execution_count": 201,
   "id": "8ef0e03d-b5cc-4f8b-bcab-5cfd971d5d04",
   "metadata": {},
   "outputs": [
    {
     "name": "stdout",
     "output_type": "stream",
     "text": [
      "3\n",
      "<class 'str'>\n",
      "3\n",
      "<class 'int'>\n"
     ]
    }
   ],
   "source": [
    "print(a)\n",
    "print(type(a))\n",
    "\n",
    "b = int(a)\n",
    "print(b)\n",
    "print(type(b))"
   ]
  },
  {
   "cell_type": "code",
   "execution_count": 207,
   "id": "c7763ff7-da61-4c15-b9dd-56d1beb00705",
   "metadata": {},
   "outputs": [
    {
     "ename": "ValueError",
     "evalue": "invalid literal for int() with base 10: 'apple'",
     "output_type": "error",
     "traceback": [
      "\u001b[1;31m---------------------------------------------------------------------------\u001b[0m",
      "\u001b[1;31mValueError\u001b[0m                                Traceback (most recent call last)",
      "Cell \u001b[1;32mIn[207], line 2\u001b[0m\n\u001b[0;32m      1\u001b[0m c \u001b[38;5;241m=\u001b[39m \u001b[38;5;124m'\u001b[39m\u001b[38;5;124mapple\u001b[39m\u001b[38;5;124m'\u001b[39m\n\u001b[1;32m----> 2\u001b[0m d \u001b[38;5;241m=\u001b[39m \u001b[38;5;28;43mint\u001b[39;49m\u001b[43m(\u001b[49m\u001b[43mc\u001b[49m\u001b[43m)\u001b[49m\n",
      "\u001b[1;31mValueError\u001b[0m: invalid literal for int() with base 10: 'apple'"
     ]
    }
   ],
   "source": [
    "c = 'apple'\n",
    "d = int(c)"
   ]
  },
  {
   "cell_type": "code",
   "execution_count": 204,
   "id": "567d484b-d81e-4e66-9ff9-62c15523ee8a",
   "metadata": {},
   "outputs": [
    {
     "name": "stdout",
     "output_type": "stream",
     "text": [
      "True\n",
      "False\n",
      "True\n"
     ]
    }
   ],
   "source": [
    "a = 1\n",
    "b = 0\n",
    "print(bool(a))\n",
    "print(bool(b))\n",
    "print(bool(c))"
   ]
  },
  {
   "cell_type": "code",
   "execution_count": 206,
   "id": "a76516da-7910-4af2-89e2-dd25b49e9f82",
   "metadata": {},
   "outputs": [
    {
     "name": "stdout",
     "output_type": "stream",
     "text": [
      "False\n",
      "True\n"
     ]
    }
   ],
   "source": [
    "print(bool([]))\n",
    "print(bool([1, 2, 3]))"
   ]
  },
  {
   "cell_type": "code",
   "execution_count": 8,
   "id": "31448887-3fb1-4d53-b873-89ea4cf6dee1",
   "metadata": {},
   "outputs": [
    {
     "data": {
      "text/plain": [
       "False"
      ]
     },
     "execution_count": 8,
     "metadata": {},
     "output_type": "execute_result"
    }
   ],
   "source": [
    "1 < 2\n",
    "5 == 1\n",
    "1 > 2\n",
    "# 셀의 마지막 값을 자동으로 output으로 출력"
   ]
  },
  {
   "cell_type": "code",
   "execution_count": 9,
   "id": "430c91a3-68db-4af0-a8f4-40ff4e39bc18",
   "metadata": {},
   "outputs": [
    {
     "name": "stdout",
     "output_type": "stream",
     "text": [
      "False\n",
      "False\n",
      "False\n"
     ]
    }
   ],
   "source": [
    "print(1 > 2)\n",
    "print(5 == 1)\n",
    "print (1 > 2)"
   ]
  },
  {
   "cell_type": "code",
   "execution_count": 11,
   "id": "c55d8ef5-7026-4a73-95c1-1435d6eb8a63",
   "metadata": {},
   "outputs": [],
   "source": [
    "a = 5"
   ]
  },
  {
   "cell_type": "code",
   "execution_count": 12,
   "id": "d6b671b8-61ee-470f-bb67-3e8bfaf50e14",
   "metadata": {},
   "outputs": [
    {
     "data": {
      "text/plain": [
       "5"
      ]
     },
     "execution_count": 12,
     "metadata": {},
     "output_type": "execute_result"
    }
   ],
   "source": [
    "a"
   ]
  },
  {
   "cell_type": "code",
   "execution_count": 24,
   "id": "77b9a957-cbd3-4521-9033-b960adf8722d",
   "metadata": {},
   "outputs": [
    {
     "name": "stdout",
     "output_type": "stream",
     "text": [
      "(2, 1)\n",
      "(3, 1)\n"
     ]
    }
   ],
   "source": [
    "result1 = divmod(5, 2)\n",
    "print(result1)\n",
    "result2 = divmod( 10,3)\n",
    "print(result2)"
   ]
  },
  {
   "cell_type": "code",
   "execution_count": 26,
   "id": "006c1103-3756-46a5-b6d6-27ba857bd609",
   "metadata": {},
   "outputs": [
    {
     "data": {
      "text/plain": [
       "(24, 2)"
      ]
     },
     "execution_count": 26,
     "metadata": {},
     "output_type": "execute_result"
    }
   ],
   "source": [
    "divmod(5, 2)\n",
    "divmod(10, 3)\n",
    "divmod(3, 8)\n",
    "divmod(98, 4)"
   ]
  },
  {
   "cell_type": "code",
   "execution_count": 28,
   "id": "a7d3e00a-0d93-4456-bda3-21e27ab025aa",
   "metadata": {},
   "outputs": [
    {
     "name": "stdout",
     "output_type": "stream",
     "text": [
      "(2, 1)\n",
      "(3, 1)\n",
      "(0, 3)\n",
      "(29, 2)\n"
     ]
    }
   ],
   "source": [
    "print(divmod(5, 2))\n",
    "print(divmod(10, 3))\n",
    "print(divmod(3, 8))\n",
    "print(divmod(118, 4))"
   ]
  },
  {
   "cell_type": "markdown",
   "id": "49a1e7cd-f087-4435-86a3-720910b0b5bc",
   "metadata": {},
   "source": [
    "# 4. 시퀀스 자료형\n",
    "- 시퀀스는 데이터의 **순서대로** 나열된 자료구조. (순서대로 나열되었다는 것은 정렬된 것과 다르다)\n",
    "\n",
    "1. List\n",
    "2. Tuple\n",
    "3. Range\n",
    "4. String\n",
    "\n",
    "Tuple은 거의 안 써요"
   ]
  },
  {
   "cell_type": "markdown",
   "id": "c7cc42f5-ba96-4ef5-8577-dbe49be4942c",
   "metadata": {},
   "source": [
    "## 4.1 List (리스트, 배열)\n",
    "- 선언 : var_name = [value1, value2, value3 ...]\n",
    "- 접근 : var_name[index] (index 값은 정수데이터 사용) / (숫자의 시작은 0부터)"
   ]
  },
  {
   "cell_type": "code",
   "execution_count": 4,
   "id": "db6aa3c5-2af9-427f-918e-b9b40b2452f3",
   "metadata": {},
   "outputs": [
    {
     "name": "stdout",
     "output_type": "stream",
     "text": [
      "1\n",
      "<class 'list'>\n"
     ]
    }
   ],
   "source": [
    "l = []\n",
    "print(1)\n",
    "print(type(l))"
   ]
  },
  {
   "cell_type": "code",
   "execution_count": 19,
   "id": "4ecff5e7-60bb-40f1-a9ee-6c14586adb72",
   "metadata": {},
   "outputs": [
    {
     "name": "stdout",
     "output_type": "stream",
     "text": [
      "['서울', '대전', '부산']\n",
      "부산\n",
      "['서울', '대구', '부산']\n"
     ]
    }
   ],
   "source": [
    "location = ['서울', '대전', '부산']\n",
    "print(location)\n",
    "print(location[2])\n",
    "\n",
    "location[1] = '대구'\n",
    "print(location)"
   ]
  },
  {
   "cell_type": "markdown",
   "id": "c87db42b-6cb1-4bdd-8d7c-4be09e0a3a5b",
   "metadata": {},
   "source": [
    "## 4.2 Tuple\n",
    "- 선언 : var_name = (value1, value2, value3, ...)\n",
    "- 접근 : var_name[index] (list와 동일)\n",
    "- 수정불가능하다(immutable)"
   ]
  },
  {
   "cell_type": "code",
   "execution_count": 20,
   "id": "bda52cc9-1a27-4a0b-80c2-e41538dfa268",
   "metadata": {},
   "outputs": [
    {
     "name": "stdout",
     "output_type": "stream",
     "text": [
      "('서울', '대전', '대구')\n",
      "서울\n"
     ]
    }
   ],
   "source": [
    "location = ('서울', '대전', '대구')\n",
    "print(location)\n",
    "print(location[0])"
   ]
  },
  {
   "cell_type": "code",
   "execution_count": 21,
   "id": "077a43d2-b14a-4b8b-a047-9cbd422b7759",
   "metadata": {},
   "outputs": [
    {
     "ename": "TypeError",
     "evalue": "'tuple' object does not support item assignment",
     "output_type": "error",
     "traceback": [
      "\u001b[1;31m---------------------------------------------------------------------------\u001b[0m",
      "\u001b[1;31mTypeError\u001b[0m                                 Traceback (most recent call last)",
      "Cell \u001b[1;32mIn[21], line 1\u001b[0m\n\u001b[1;32m----> 1\u001b[0m \u001b[43mlocation\u001b[49m\u001b[43m[\u001b[49m\u001b[38;5;241;43m2\u001b[39;49m\u001b[43m]\u001b[49m \u001b[38;5;241m=\u001b[39m \u001b[38;5;124m'\u001b[39m\u001b[38;5;124m부산\u001b[39m\u001b[38;5;124m'\u001b[39m\n",
      "\u001b[1;31mTypeError\u001b[0m: 'tuple' object does not support item assignment"
     ]
    }
   ],
   "source": [
    "location[2] = '부산'"
   ]
  },
  {
   "cell_type": "code",
   "execution_count": 22,
   "id": "a6597f62-7467-4bee-a432-278d0f847c00",
   "metadata": {},
   "outputs": [
    {
     "name": "stdout",
     "output_type": "stream",
     "text": [
      "(2, 1)\n",
      "<class 'tuple'>\n"
     ]
    }
   ],
   "source": [
    "result = divmod(5, 2)\n",
    "print(result)\n",
    "print(type(result))"
   ]
  },
  {
   "cell_type": "code",
   "execution_count": 23,
   "id": "663d04d3-6c3e-4fde-9038-b49488300897",
   "metadata": {},
   "outputs": [
    {
     "name": "stdout",
     "output_type": "stream",
     "text": [
      "2 1\n"
     ]
    }
   ],
   "source": [
    "x = 1\n",
    "y = 2\n",
    "\n",
    "(x, y) = (y, x)\n",
    "print(x, y)"
   ]
  },
  {
   "cell_type": "markdown",
   "id": "3ef5ed70-807b-4d43-a446-f5ff153fb6c6",
   "metadata": {},
   "source": [
    "## 4.3 Range\n",
    "- range(n) : 0부터 n-1까지 범위\n",
    "- range(n, m) : n부터 m-1까지 범위\n",
    "- range(n, m, s) : n부터 m-1까지 s만큼 증가하는 범위"
   ]
  },
  {
   "cell_type": "code",
   "execution_count": 25,
   "id": "e83e9880-62f1-4e9c-8fed-7fae3b6fea7c",
   "metadata": {},
   "outputs": [
    {
     "name": "stdout",
     "output_type": "stream",
     "text": [
      "range(0, 45)\n",
      "[0, 1, 2, 3, 4, 5, 6, 7, 8, 9, 10, 11, 12, 13, 14, 15, 16, 17, 18, 19, 20, 21, 22, 23, 24, 25, 26, 27, 28, 29, 30, 31, 32, 33, 34, 35, 36, 37, 38, 39, 40, 41, 42, 43, 44]\n"
     ]
    }
   ],
   "source": [
    "lotto = range(45)\n",
    "print(lotto)\n",
    "print(list(lotto))"
   ]
  },
  {
   "cell_type": "code",
   "execution_count": 27,
   "id": "57c7f502-2d28-41c3-9ae6-99d4a8beed35",
   "metadata": {},
   "outputs": [
    {
     "name": "stdout",
     "output_type": "stream",
     "text": [
      "range(1, 46)\n",
      "[1, 2, 3, 4, 5, 6, 7, 8, 9, 10, 11, 12, 13, 14, 15, 16, 17, 18, 19, 20, 21, 22, 23, 24, 25, 26, 27, 28, 29, 30, 31, 32, 33, 34, 35, 36, 37, 38, 39, 40, 41, 42, 43, 44, 45]\n"
     ]
    }
   ],
   "source": [
    "lotto = range(1, 46)\n",
    "print(lotto)\n",
    "print(list(lotto))"
   ]
  },
  {
   "cell_type": "code",
   "execution_count": 30,
   "id": "f84bd812-52de-4df3-ac06-82a0c323763e",
   "metadata": {},
   "outputs": [
    {
     "name": "stdout",
     "output_type": "stream",
     "text": [
      "range(2, 21, 2)\n",
      "[2, 4, 6, 8, 10, 12, 14, 16, 18, 20]\n"
     ]
    }
   ],
   "source": [
    "even = range(2, 21, 2)\n",
    "print(even)\n",
    "print(list(even))"
   ]
  },
  {
   "cell_type": "code",
   "execution_count": 31,
   "id": "30603349-4e25-46d3-b843-dd6d00b0b605",
   "metadata": {},
   "outputs": [
    {
     "name": "stdout",
     "output_type": "stream",
     "text": [
      "range(0, -20, -2)\n",
      "[0, -2, -4, -6, -8, -10, -12, -14, -16, -18]\n"
     ]
    }
   ],
   "source": [
    "numbers = range(0, -20, -2)\n",
    "print(numbers)\n",
    "print(list(numbers))"
   ]
  },
  {
   "cell_type": "markdown",
   "id": "46d5f258-b9a2-4fff-89cf-0fb8482d56fb",
   "metadata": {},
   "source": [
    "## 4.4 String\n",
    "- 기본 데이터 구조 참고"
   ]
  },
  {
   "cell_type": "code",
   "execution_count": 38,
   "id": "43d0acf5-52ce-4310-a534-2258d7b1e08d",
   "metadata": {},
   "outputs": [
    {
     "name": "stdout",
     "output_type": "stream",
     "text": [
      " \n"
     ]
    }
   ],
   "source": [
    "s = 'hi my name is chang'\n",
    "print(s[2])"
   ]
  },
  {
   "cell_type": "markdown",
   "id": "2537560d-12a8-4106-9997-f08c0ed488ac",
   "metadata": {},
   "source": [
    "## 4.5 시퀀스에서 활용가능한 연산/함수\n"
   ]
  },
  {
   "cell_type": "code",
   "execution_count": 54,
   "id": "3e8a7761-4489-4334-948c-960213a17c3e",
   "metadata": {},
   "outputs": [],
   "source": [
    "my_list = ['a', 'b', 'c', 'd', 'e']\n",
    "my_tuple = (6, 7, 8, 9, 10)\n",
    "my_range = range(5)\n",
    "my_string = '가나다라마'"
   ]
  },
  {
   "cell_type": "code",
   "execution_count": 55,
   "id": "929bf695-ec10-4d24-adf3-ba354c9f2830",
   "metadata": {},
   "outputs": [
    {
     "name": "stdout",
     "output_type": "stream",
     "text": [
      "a\n",
      "6\n",
      "0\n",
      "가\n"
     ]
    }
   ],
   "source": [
    "# indexing\n",
    "print(my_list[0])\n",
    "print(my_tuple[0])\n",
    "print(my_range[0])\n",
    "print(my_string[0])"
   ]
  },
  {
   "cell_type": "code",
   "execution_count": 56,
   "id": "138930e8-cd36-4063-b634-121dd9c4c5a9",
   "metadata": {},
   "outputs": [
    {
     "name": "stdout",
     "output_type": "stream",
     "text": [
      "['c', 'd', 'e']\n",
      "(8, 9, 10)\n",
      "range(2, 5)\n",
      "다라마\n"
     ]
    }
   ],
   "source": [
    "# slicing\n",
    "# var-name [index1 : index2]\n",
    "print(my_list[2:5])\n",
    "print(my_tuple[2:5])\n",
    "print(my_range[2:5])\n",
    "print(my_string[2:5])"
   ]
  },
  {
   "cell_type": "code",
   "execution_count": 63,
   "id": "b2007219-7c01-4e82-b2aa-9220ce560634",
   "metadata": {},
   "outputs": [
    {
     "name": "stdout",
     "output_type": "stream",
     "text": [
      "['a', 'b', 'c']\n",
      "['d', 'e']\n"
     ]
    }
   ],
   "source": [
    "#0 인덱스 생략\n",
    "print(my_list[:3])\n",
    "print(my_list[3:])"
   ]
  },
  {
   "cell_type": "code",
   "execution_count": 75,
   "id": "84d6fc2a-36fd-4b23-8c18-f34772fcebf4",
   "metadata": {},
   "outputs": [
    {
     "name": "stdout",
     "output_type": "stream",
     "text": [
      "e\n",
      "['c', 'd']\n"
     ]
    }
   ],
   "source": [
    "# 음수 인덱스\n",
    "print(my_list[-1])\n",
    "print(my_list[-3:-1])"
   ]
  },
  {
   "cell_type": "code",
   "execution_count": 76,
   "id": "f25956d0-5193-4f21-8723-1ce80eac3866",
   "metadata": {},
   "outputs": [
    {
     "name": "stdout",
     "output_type": "stream",
     "text": [
      "['a', 'c', 'e']\n"
     ]
    }
   ],
   "source": [
    "# step\n",
    "print(my_list[::2])"
   ]
  },
  {
   "cell_type": "code",
   "execution_count": 82,
   "id": "008e97cf-cb60-446b-8d54-51edb9577951",
   "metadata": {},
   "outputs": [
    {
     "name": "stdout",
     "output_type": "stream",
     "text": [
      "False\n",
      "True\n",
      "False\n",
      "True\n"
     ]
    }
   ],
   "source": [
    "# in\n",
    "print(1 in my_list)\n",
    "print('a' in my_list)\n",
    "\n",
    "print('a' not in my_list)\n",
    "print('z' not in my_list)"
   ]
  },
  {
   "cell_type": "code",
   "execution_count": 88,
   "id": "09c26e30-88a0-4499-b1de-8d7f9ffaba72",
   "metadata": {},
   "outputs": [
    {
     "name": "stdout",
     "output_type": "stream",
     "text": [
      "['a', 'b', 'c', 'd', 'e', 1, 2, 3, 4, 5]\n",
      "(6, 7, 8, 9, 10, 1, 2, 3)\n"
     ]
    }
   ],
   "source": [
    "# concatennation - 연결\n",
    "print(my_list + [1, 2, 3, 4, 5])\n",
    "print(my_tuple + (1, 2, 3))\n"
   ]
  },
  {
   "cell_type": "code",
   "execution_count": 91,
   "id": "44d765d6-9172-4d39-80f2-4c0f76115612",
   "metadata": {},
   "outputs": [
    {
     "name": "stdout",
     "output_type": "stream",
     "text": [
      "['a', 'b', 'c', 'd', 'e', 'a', 'b', 'c', 'd', 'e']\n",
      "aaaaa\n",
      "[0, 0, 0, 0, 0, 0, 0, 0, 0, 0]\n"
     ]
    }
   ],
   "source": [
    "# *\n",
    "print(my_list * 2)\n",
    "print('a' * 5)\n",
    "print([0] * 10)"
   ]
  },
  {
   "cell_type": "code",
   "execution_count": 92,
   "id": "86bdee73-dbcd-41b4-b748-1c3261bac570",
   "metadata": {},
   "outputs": [
    {
     "data": {
      "text/plain": [
       "5"
      ]
     },
     "execution_count": 92,
     "metadata": {},
     "output_type": "execute_result"
    }
   ],
   "source": [
    "len(my_list)"
   ]
  },
  {
   "cell_type": "code",
   "execution_count": 93,
   "id": "5a1db1ca-02de-4fb0-8824-11bc9755fd4a",
   "metadata": {},
   "outputs": [
    {
     "data": {
      "text/plain": [
       "'e'"
      ]
     },
     "execution_count": 93,
     "metadata": {},
     "output_type": "execute_result"
    }
   ],
   "source": [
    "max(my_list)"
   ]
  },
  {
   "cell_type": "code",
   "execution_count": 94,
   "id": "112f9eb0-acbf-4a5f-8283-353507338edf",
   "metadata": {},
   "outputs": [
    {
     "data": {
      "text/plain": [
       "'a'"
      ]
     },
     "execution_count": 94,
     "metadata": {},
     "output_type": "execute_result"
    }
   ],
   "source": [
    "min(my_list)"
   ]
  },
  {
   "cell_type": "markdown",
   "id": "a1c0c6c5-d61b-4c1b-b5c6-ec68bf57ed16",
   "metadata": {},
   "source": [
    "# 5. 시퀀스형이 아닌 자료구조"
   ]
  },
  {
   "cell_type": "markdown",
   "id": "9232aa21-91b2-4d94-885e-ef9dce38c256",
   "metadata": {},
   "source": [
    "## 5.1 Set\n",
    "- 수학에서의 집합과 비슷한 개념(중복값이 없음) - 순서 중요하지 않음\n",
    "  \n",
    "- 선언 : var_name = {value1, value2, value3, ...}"
   ]
  },
  {
   "cell_type": "code",
   "execution_count": 99,
   "id": "909dfed4-4865-454c-aa57-8e84514bc895",
   "metadata": {},
   "outputs": [],
   "source": [
    "my_set_a = {1, 2, 3, 4, 5, 5, 5, 5, 5, 5}\n",
    "my_set_b = {1, 3, 5, 7, 9}"
   ]
  },
  {
   "cell_type": "code",
   "execution_count": 100,
   "id": "dd2b8efb-f0cf-4d94-87a4-2ad1836b626f",
   "metadata": {},
   "outputs": [
    {
     "name": "stdout",
     "output_type": "stream",
     "text": [
      "{1, 2, 3, 4, 5}\n",
      "{1, 3, 5, 7, 9}\n"
     ]
    }
   ],
   "source": [
    "print(my_set_a)\n",
    "print(my_set_b)"
   ]
  },
  {
   "cell_type": "code",
   "execution_count": 106,
   "id": "f7316af8-dbb8-4418-acc2-5b511e02aeee",
   "metadata": {},
   "outputs": [
    {
     "name": "stdout",
     "output_type": "stream",
     "text": [
      "{2, 4}\n",
      "{1, 2, 3, 4, 5, 7, 9}\n",
      "{1, 3, 5, 7, 9}\n",
      "{1, 2, 3, 4, 5}\n"
     ]
    }
   ],
   "source": [
    "print(my_set_a - my_set_b)\n",
    "print(my_set_a | my_set_b)\n",
    "print(my_set_a and my_set_b)"
   ]
  },
  {
   "cell_type": "code",
   "execution_count": 114,
   "id": "c31646e3-bc80-430d-8f98-6a5919c8ee65",
   "metadata": {},
   "outputs": [
    {
     "name": "stdout",
     "output_type": "stream",
     "text": [
      "{'부산', '서울', '대구', '광주'}\n"
     ]
    }
   ],
   "source": [
    "location = ['서울', '대구', '부산', '광주', '부산', '광주', '부산', '광주', '부산' ]\n",
    "print(set(location))"
   ]
  },
  {
   "cell_type": "markdown",
   "id": "4aacd3d9-740b-4597-8873-64b04521e8de",
   "metadata": {},
   "source": [
    "## 5.2 Dictionary\n",
    "- 선언 : var_name = {key1: value1, key2: value2, ...,}  (key = 키워드, value = 설명)\n",
    "- 접근 : var_name[key]"
   ]
  },
  {
   "cell_type": "code",
   "execution_count": 123,
   "id": "2764cfd4-57ad-4e47-bb74-04111f75c58e",
   "metadata": {},
   "outputs": [
    {
     "name": "stdout",
     "output_type": "stream",
     "text": [
      "02\n"
     ]
    }
   ],
   "source": [
    "my_dict = {'서울': '02', '경기': '031'}\n",
    "print(my_dict['서울'])"
   ]
  },
  {
   "cell_type": "code",
   "execution_count": 124,
   "id": "b0d64f1a-dcdd-4b74-9361-c8a41a3e132a",
   "metadata": {},
   "outputs": [],
   "source": [
    "my_info = {\n",
    "        'name': 'minhyeok',\n",
    "        'location': 'seoul',\n",
    "        'age': '28',\n",
    "        'skill': ['python', 'git']\n",
    "}"
   ]
  },
  {
   "cell_type": "code",
   "execution_count": 144,
   "id": "e8b06474-871e-48bd-803a-87ef24004f22",
   "metadata": {},
   "outputs": [
    {
     "name": "stdout",
     "output_type": "stream",
     "text": [
      "minhyeok\n",
      "['python', 'git']\n",
      "28\n",
      "seoul\n",
      "git\n"
     ]
    }
   ],
   "source": [
    "print(my_info['name'])\n",
    "print(my_info['skill'])\n",
    "print(my_info['age'])\n",
    "print(my_info['location'])\n",
    "print(my_info['skill'][1])"
   ]
  },
  {
   "cell_type": "markdown",
   "id": "3ffd16ac-8bdd-4319-a877-13bbc4961d94",
   "metadata": {},
   "source": [
    "**데이터 타입**\n",
    "1. Number\n",
    "2. Boolean\n",
    "3. String\n",
    "\n",
    "**자료 구조**\n",
    "\n",
    "- 시퀀스\n",
    "1. [List] : mutable\n",
    "2. (Tuple) : immutable\n",
    "3. range() : immutable\n",
    "4. 'String' : immutable\n",
    "   \n",
    "- 시퀀스가 아닌 것\n",
    "1. (Set) : mutable\n",
    "2. (Dictionary) : mutable\n",
    "\n",
    "*immutable은 일부 조정이 불가능하다는 뜻(덮어 쓰기는 가능)*"
   ]
  },
  {
   "cell_type": "code",
   "execution_count": 146,
   "id": "da4715c0-46c2-44c4-96f9-ffa48e0d539f",
   "metadata": {},
   "outputs": [
    {
     "ename": "SyntaxError",
     "evalue": "cannot assign to literal here. Maybe you meant '==' instead of '='? (2284860801.py, line 2)",
     "output_type": "error",
     "traceback": [
      "\u001b[1;36m  Cell \u001b[1;32mIn[146], line 2\u001b[1;36m\u001b[0m\n\u001b[1;33m    a[0 = 'H']\u001b[0m\n\u001b[1;37m      ^\u001b[0m\n\u001b[1;31mSyntaxError\u001b[0m\u001b[1;31m:\u001b[0m cannot assign to literal here. Maybe you meant '==' instead of '='?\n"
     ]
    }
   ],
   "source": [
    "a = 'hello'\n",
    "a[0 = 'H']"
   ]
  }
 ],
 "metadata": {
  "kernelspec": {
   "display_name": "Python 3 (ipykernel)",
   "language": "python",
   "name": "python3"
  },
  "language_info": {
   "codemirror_mode": {
    "name": "ipython",
    "version": 3
   },
   "file_extension": ".py",
   "mimetype": "text/x-python",
   "name": "python",
   "nbconvert_exporter": "python",
   "pygments_lexer": "ipython3",
   "version": "3.13.2"
  }
 },
 "nbformat": 4,
 "nbformat_minor": 5
}
