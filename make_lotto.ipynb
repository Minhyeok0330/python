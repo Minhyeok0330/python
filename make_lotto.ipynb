{
 "cells": [
  {
   "cell_type": "markdown",
   "id": "405b3889-b8c3-4e2d-85dd-e8883cacf335",
   "metadata": {},
   "source": [
    "# 1. 로또번호 생성\n",
    "import random\n",
    "import requests\n",
    "\n",
    "my_numbers = {}\n",
    "\n",
    "for i in range(1, 6):\n",
    "    random_numbers = random.sample(range(1, 46), 6)\n",
    "    random_numbers.sort()\n",
    "    my_numbers[i] = random_numbers\n",
    "print(my_numbers)\n",
    "    "
   ]
  },
  {
   "cell_type": "code",
   "execution_count": 138,
   "id": "ee4ac8f6-d728-4d7c-bc9e-6ed8073d8658",
   "metadata": {},
   "outputs": [
    {
     "name": "stdout",
     "output_type": "stream",
     "text": [
      "{'totSellamnt': 124802304000, 'returnValue': 'success', 'drwNoDate': '2025-02-15', 'firstWinamnt': 1284854250, 'drwtNo6': 39, 'drwtNo4': 28, 'firstPrzwnerCo': 23, 'drwtNo5': 38, 'bnusNo': 7, 'firstAccumamnt': 29551647750, 'drwNo': 1159, 'drwtNo2': 9, 'drwtNo3': 27, 'drwtNo1': 3}\n",
      "[39, 28, 38, 9, 27, 3]\n"
     ]
    }
   ],
   "source": [
    "# 2. 최신회차 당첨번호 수집\n",
    "\n",
    "LOTTO_URL = 'https://www.dhlottery.co.kr/common.do'\n",
    "payload = {\n",
    "    'method': 'getLottoNumber',\n",
    "    'drwNo': 1159,\n",
    "}\n",
    "\n",
    "r = requests.get(LOTTO_URL, params=payload)\n",
    "lotto_dict = r.json()\n",
    "print(lotto_dict)\n",
    "\n",
    "lucky_numbers = []\n",
    "bonus_number = lotto_dict['bnusNo']\n",
    "\n",
    "for k, v in lotto_dict.items():\n",
    "    if 'drwtNo' in k:\n",
    "        lucky_numbers.append(v)\n",
    "\n",
    "print(lucky_numbers)"
   ]
  },
  {
   "cell_type": "code",
   "execution_count": 160,
   "id": "03f1f838-7ce7-4322-9d50-5f8087045f1e",
   "metadata": {},
   "outputs": [
    {
     "name": "stdout",
     "output_type": "stream",
     "text": [
      "{1: [2, 9, 14, 22, 30, 38], 2: [9, 12, 27, 28, 31, 39], 3: [7, 9, 13, 14, 26, 45], 4: [15, 20, 26, 28, 42, 43], 5: [3, 7, 15, 16, 21, 39]}\n",
      "[39, 28, 38, 9, 27, 3]\n",
      "7\n"
     ]
    }
   ],
   "source": [
    "print(my_numbers)\n",
    "print(lucky_numbers)\n",
    "print(bonus_number)"
   ]
  },
  {
   "cell_type": "code",
   "execution_count": 128,
   "id": "0a04b129-106a-4fc2-9c2d-7a7bf6f6690f",
   "metadata": {},
   "outputs": [],
   "source": [
    "# 3. 등수 확인하기"
   ]
  },
  {
   "cell_type": "code",
   "execution_count": 178,
   "id": "a2320761-4aa5-4260-be59-ec3a5a0eb9c2",
   "metadata": {},
   "outputs": [
    {
     "name": "stdout",
     "output_type": "stream",
     "text": [
      "꽝\n",
      "꽝\n",
      "꽝\n",
      "꽝\n",
      "꽝\n"
     ]
    }
   ],
   "source": [
    "for my_number in my_numbers.values():\n",
    "    my_number_set = set(my_number)\n",
    "    lucky_numbers_set = set(lucky_numbers)\n",
    "\n",
    "    match_count = len (my_number_set & lucky_numbers_set)\n",
    "\n",
    "    if match_count == 6:\n",
    "        print('1등')\n",
    "    elif match_count == 5 and bonus_number in my_number:\n",
    "        print('2등')\n",
    "    elif match_count == 5:\n",
    "        print('3등')\n",
    "    elif match_count == 5:\n",
    "        print('4등')\n",
    "    elif match_count == 5:\n",
    "        print('5등')\n",
    "    else:\n",
    "        print('꽝')\n",
    "\n",
    "\n",
    "        "
   ]
  },
  {
   "cell_type": "code",
   "execution_count": 104,
   "id": "f360b5ff-153a-4f0f-8f90-1c0cf5904530",
   "metadata": {},
   "outputs": [
    {
     "name": "stdout",
     "output_type": "stream",
     "text": [
      "0\n"
     ]
    }
   ],
   "source": [
    "print(match_count)"
   ]
  },
  {
   "cell_type": "code",
   "execution_count": null,
   "id": "786c487c-ca53-43f0-b950-59194d12af64",
   "metadata": {},
   "outputs": [],
   "source": [
    "lotto making and git making"
   ]
  },
  {
   "cell_type": "code",
   "execution_count": null,
   "id": "642146c8-c474-456e-b1b8-238f1e8657c1",
   "metadata": {},
   "outputs": [],
   "source": []
  },
  {
   "cell_type": "code",
   "execution_count": null,
   "id": "da4f3705-2fe9-4f78-b088-37c86fca132a",
   "metadata": {},
   "outputs": [],
   "source": []
  },
  {
   "cell_type": "code",
   "execution_count": null,
   "id": "da43d32e-2cdf-42dd-9514-40270f719f0e",
   "metadata": {},
   "outputs": [],
   "source": []
  },
  {
   "cell_type": "code",
   "execution_count": null,
   "id": "466bf7ac-0fb7-4784-865d-2692eac5c546",
   "metadata": {},
   "outputs": [],
   "source": []
  },
  {
   "cell_type": "code",
   "execution_count": null,
   "id": "ea6a840e-97c9-4e65-a629-8e9da288b589",
   "metadata": {},
   "outputs": [],
   "source": []
  }
 ],
 "metadata": {
  "kernelspec": {
   "display_name": "Python 3 (ipykernel)",
   "language": "python",
   "name": "python3"
  },
  "language_info": {
   "codemirror_mode": {
    "name": "ipython",
    "version": 3
   },
   "file_extension": ".py",
   "mimetype": "text/x-python",
   "name": "python",
   "nbconvert_exporter": "python",
   "pygments_lexer": "ipython3",
   "version": "3.13.2"
  }
 },
 "nbformat": 4,
 "nbformat_minor": 5
}
