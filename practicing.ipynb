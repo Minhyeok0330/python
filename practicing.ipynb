{
 "cells": [
  {
   "cell_type": "code",
   "execution_count": null,
   "id": "ab7d8ffb-7a0a-49de-9cc1-130bc4672933",
   "metadata": {},
   "outputs": [],
   "source": [
    "age = int(input())\n",
    "\n",
    "if age >= 18:\n",
    "    print('\"성인입니다\"')\n",
    "else:\n",
    "    print('\"미성년자입니다\"')"
   ]
  },
  {
   "cell_type": "code",
   "execution_count": null,
   "id": "dfbb1a9a-eb7e-404d-9cab-b93b7cdafc3a",
   "metadata": {},
   "outputs": [],
   "source": [
    "result = int(input())\n",
    "\n",
    "if result >= 90:\n",
    "    print('\"A\"')\n",
    "    if result >94:\n",
    "        print('Good job')\n",
    "elif result >= 80:\n",
    "    print('\"B\"')\n",
    "elif result >= 70:\n",
    "    print('\"C\"')\n",
    "else:\n",
    "    print('\"F\"')"
   ]
  },
  {
   "cell_type": "code",
   "execution_count": null,
   "id": "a47bca13-b7e5-4e52-9df2-2b9ec9ce079c",
   "metadata": {},
   "outputs": [],
   "source": [
    "num1 = int(input())\n",
    "num2 = int(input())\n",
    "\n",
    "if num1 == num2:\n",
    "    print(\"두 숫자는 같습니다.\")\n",
    "else:\n",
    "    print(\"두 숫자는 다릅니다.\")\n"
   ]
  },
  {
   "cell_type": "code",
   "execution_count": null,
   "id": "09ef8e96-87ae-4401-a571-eba2ec623cfc",
   "metadata": {},
   "outputs": [],
   "source": [
    "num1 = int(input())\n",
    "num2 = int(input())\n",
    "num3 = int(input())\n",
    "\n",
    "if num1 > num2 and num3:\n",
    "    print(num1)\n",
    "elif num2 > num3:\n",
    "    print(num2)\n",
    "else:\n",
    "    print(num3)"
   ]
  },
  {
   "cell_type": "code",
   "execution_count": null,
   "id": "f4992e98-ac4c-48f6-a3f6-d5db539ab1a7",
   "metadata": {},
   "outputs": [],
   "source": [
    "word = input()\n",
    "\n",
    "if word == \"hello\":\n",
    "    print(\"안녕하세요!\")\n",
    "else:\n",
    "    print(\"다시 입력해 주세요.\")"
   ]
  },
  {
   "cell_type": "code",
   "execution_count": null,
   "id": "e8993a12-d0b3-42c3-8dec-a6b428ccf5cd",
   "metadata": {},
   "outputs": [],
   "source": [
    "year = int(input())\n",
    "\n",
    "if (year % 4 == 0 and year % 100 != 0) or (year % 400 == 0):\n",
    "    print('윤년')\n",
    "\n",
    "else:\n",
    "    print('윤년 아니다')"
   ]
  },
  {
   "cell_type": "code",
   "execution_count": null,
   "id": "9a51542a-7da0-4943-9089-6a8d32f38f3a",
   "metadata": {},
   "outputs": [],
   "source": [
    "num1 = int(input())\n",
    "num2 = int(input())\n",
    "num3 = int(input())\n",
    "\n",
    "if num1 == num2 == num3:\n",
    "    print('세 숫자는 모두 같습니다.')\n",
    "elif (num1 == num2) or (num1 == num3) or(num2 == num3):\n",
    "    print('두 숫자는 같습니다.')\n",
    "else:\n",
    "    print('세 숫자는 모두 다릅니다.')\n",
    "    "
   ]
  },
  {
   "cell_type": "code",
   "execution_count": null,
   "id": "e85b42bf-fbbd-4015-a387-f668ebbebc0f",
   "metadata": {},
   "outputs": [],
   "source": [
    "x1 = float(input())\n",
    "y1 = float(input())\n",
    "x2= float(input())\n",
    "y2 = float(input())\n",
    "\n",
    "dis = ((x1 - x2) ** 2 + (y1 - y2) ** 2) ** 0.5\n",
    "\n",
    "print(dis)"
   ]
  },
  {
   "cell_type": "code",
   "execution_count": null,
   "id": "4f13b644-b874-4ce3-b949-e24a6a401c97",
   "metadata": {},
   "outputs": [],
   "source": [
    "a = 5\n",
    "b = 5\n",
    "\n",
    "if a > b:\n",
    "    print('>, if true')\n",
    "elif a == b:\n",
    "    print('==, elif true')\n",
    "else:\n",
    "    print('<, flase')"
   ]
  },
  {
   "cell_type": "code",
   "execution_count": null,
   "id": "8ce06a42-68f8-4a65-88c8-d1b8b16a5fb2",
   "metadata": {},
   "outputs": [],
   "source": [
    "num = int((input))\n",
    "\n",
    "if num "
   ]
  },
  {
   "cell_type": "code",
   "execution_count": null,
   "id": "5365a72c-50b3-4471-b3a6-041813982554",
   "metadata": {},
   "outputs": [],
   "source": [
    "for i in range(11):\n",
    "    if i % 2 == 1:\n",
    "        continue\n",
    "    print(i)"
   ]
  },
  {
   "cell_type": "code",
   "execution_count": null,
   "id": "67a28cea-e341-41a5-af55-0124920569ae",
   "metadata": {},
   "outputs": [],
   "source": [
    "for i in range(101):\n",
    "    if i % 3 == 0:\n",
    "        print(i)"
   ]
  },
  {
   "cell_type": "code",
   "execution_count": null,
   "id": "b7d18e81-65a6-47d5-9a9a-c68bddc8d385",
   "metadata": {},
   "outputs": [],
   "source": [
    "n = int(input())\n",
    "\n",
    "for num in range(1, n+1):\n",
    "    print(num)"
   ]
  },
  {
   "cell_type": "code",
   "execution_count": null,
   "id": "1cbd434a-29d6-4fa1-98a8-3b45e2230149",
   "metadata": {},
   "outputs": [],
   "source": [
    "n = int(input())\n",
    "\n",
    "result = 0\n",
    "\n",
    "for i in range(n):\n",
    "    result = result + i+1\n",
    "    total = int(input(result))\n",
    "    print(total)"
   ]
  },
  {
   "cell_type": "code",
   "execution_count": 6,
   "id": "25106f73-b046-499d-962e-777efb7285fd",
   "metadata": {},
   "outputs": [
    {
     "data": {
      "text/plain": [
       "[20, 10, 32, 34, 7, 11]"
      ]
     },
     "execution_count": 6,
     "metadata": {},
     "output_type": "execute_result"
    }
   ],
   "source": [
    "random.sample(range(1, 46), 6)"
   ]
  },
  {
   "cell_type": "code",
   "execution_count": 19,
   "id": "30514782-f8c9-495b-b247-dc51e2281caf",
   "metadata": {},
   "outputs": [],
   "source": [
    "def lotto():\n",
    "    game_set = range(5)\n",
    "    result = []\n",
    "    for game in game_set:\n",
    "        game = random.sample(range(1, 46), 6)\n",
    "        result.append(game)\n",
    "    return result\n"
   ]
  },
  {
   "cell_type": "code",
   "execution_count": 12,
   "id": "fbd3d8dd-ef5e-4f32-a092-45f5d73fb446",
   "metadata": {},
   "outputs": [
    {
     "data": {
      "text/plain": [
       "[[7, 15, 42, 8, 34, 25],\n",
       " [43, 13, 7, 5, 22, 25],\n",
       " [8, 40, 14, 36, 32, 21],\n",
       " [44, 42, 13, 2, 37, 32],\n",
       " [37, 7, 3, 27, 20, 14]]"
      ]
     },
     "execution_count": 12,
     "metadata": {},
     "output_type": "execute_result"
    }
   ],
   "source": [
    "lotto_number()"
   ]
  },
  {
   "cell_type": "code",
   "execution_count": 2,
   "id": "cf124d2d-85a9-4fcd-896b-03700b8ac9ef",
   "metadata": {},
   "outputs": [],
   "source": [
    "import random"
   ]
  },
  {
   "cell_type": "code",
   "execution_count": 196,
   "id": "7bb25ffb-c259-4042-9f60-a648207c231a",
   "metadata": {},
   "outputs": [
    {
     "name": "stdout",
     "output_type": "stream",
     "text": [
      "[11, 41, 10, 28, 17, 24] 꽝\n"
     ]
    }
   ],
   "source": [
    "\n",
    "game = random.sample(range(1, 46), 6)\n",
    "\n",
    "    \n",
    "grade = 0\n",
    "lucky_nums = [3, 9, 27, 28, 38, 39]\n",
    "\n",
    "for select_num in game:\n",
    "    if select_num not in lucky_nums:\n",
    "        grade += 1\n",
    "result = ''\n",
    "if grade == 0 :\n",
    "    result = '1등'\n",
    "elif grade == 1:\n",
    "    result = '3등'\n",
    "elif grade == 2:\n",
    "    result = '4등'\n",
    "elif grade == 3:\n",
    "   result = '5등'\n",
    "else:\n",
    "   result = '꽝'\n",
    "\n",
    "print(game, result)"
   ]
  },
  {
   "cell_type": "code",
   "execution_count": null,
   "id": "8071cb5b-f44d-43bb-b1e1-bf63c4c4ddb8",
   "metadata": {},
   "outputs": [],
   "source": []
  }
 ],
 "metadata": {
  "kernelspec": {
   "display_name": "Python 3 (ipykernel)",
   "language": "python",
   "name": "python3"
  },
  "language_info": {
   "codemirror_mode": {
    "name": "ipython",
    "version": 3
   },
   "file_extension": ".py",
   "mimetype": "text/x-python",
   "name": "python",
   "nbconvert_exporter": "python",
   "pygments_lexer": "ipython3",
   "version": "3.13.2"
  }
 },
 "nbformat": 4,
 "nbformat_minor": 5
}
