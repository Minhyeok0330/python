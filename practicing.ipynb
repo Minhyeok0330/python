{
 "cells": [
  {
   "cell_type": "code",
   "execution_count": null,
   "id": "ab7d8ffb-7a0a-49de-9cc1-130bc4672933",
   "metadata": {},
   "outputs": [],
   "source": [
    "age = int(input())\n",
    "\n",
    "if age >= 18:\n",
    "    print('\"성인입니다\"')\n",
    "else:\n",
    "    print('\"미성년자입니다\"')"
   ]
  },
  {
   "cell_type": "code",
   "execution_count": null,
   "id": "dfbb1a9a-eb7e-404d-9cab-b93b7cdafc3a",
   "metadata": {},
   "outputs": [],
   "source": [
    "result = int(input())\n",
    "\n",
    "if result >= 90:\n",
    "    print('\"A\"')\n",
    "    if result >94:\n",
    "        print('Good job')\n",
    "elif result >= 80:\n",
    "    print('\"B\"')\n",
    "elif result >= 70:\n",
    "    print('\"C\"')\n",
    "else:\n",
    "    print('\"F\"')"
   ]
  },
  {
   "cell_type": "code",
   "execution_count": null,
   "id": "a47bca13-b7e5-4e52-9df2-2b9ec9ce079c",
   "metadata": {},
   "outputs": [],
   "source": [
    "num1 = int(input())\n",
    "num2 = int(input())\n",
    "\n",
    "if num1 == num2:\n",
    "    print(\"두 숫자는 같습니다.\")\n",
    "else:\n",
    "    print(\"두 숫자는 다릅니다.\")\n"
   ]
  },
  {
   "cell_type": "code",
   "execution_count": null,
   "id": "09ef8e96-87ae-4401-a571-eba2ec623cfc",
   "metadata": {},
   "outputs": [],
   "source": [
    "num1 = int(input())\n",
    "num2 = int(input())\n",
    "num3 = int(input())\n",
    "\n",
    "if num1 > num2 and num3:\n",
    "    print(num1)\n",
    "elif num2 > num3:\n",
    "    print(num2)\n",
    "else:\n",
    "    print(num3)"
   ]
  },
  {
   "cell_type": "code",
   "execution_count": null,
   "id": "f4992e98-ac4c-48f6-a3f6-d5db539ab1a7",
   "metadata": {},
   "outputs": [],
   "source": [
    "word = input()\n",
    "\n",
    "if word == \"hello\":\n",
    "    print(\"안녕하세요!\")\n",
    "else:\n",
    "    print(\"다시 입력해 주세요.\")"
   ]
  },
  {
   "cell_type": "code",
   "execution_count": null,
   "id": "e8993a12-d0b3-42c3-8dec-a6b428ccf5cd",
   "metadata": {},
   "outputs": [],
   "source": [
    "year = int(input())\n",
    "\n",
    "if (year % 4 == 0 and year % 100 != 0) or (year % 400 == 0):\n",
    "    print('윤년')\n",
    "\n",
    "else:\n",
    "    print('윤년 아니다')"
   ]
  },
  {
   "cell_type": "code",
   "execution_count": null,
   "id": "9a51542a-7da0-4943-9089-6a8d32f38f3a",
   "metadata": {},
   "outputs": [],
   "source": [
    "num1 = int(input())\n",
    "num2 = int(input())\n",
    "num3 = int(input())\n",
    "\n",
    "if num1 == num2 == num3:\n",
    "    print('세 숫자는 모두 같습니다.')\n",
    "elif (num1 == num2) or (num1 == num3) or(num2 == num3):\n",
    "    print('두 숫자는 같습니다.')\n",
    "else:\n",
    "    print('세 숫자는 모두 다릅니다.')\n",
    "    "
   ]
  },
  {
   "cell_type": "code",
   "execution_count": null,
   "id": "e85b42bf-fbbd-4015-a387-f668ebbebc0f",
   "metadata": {},
   "outputs": [],
   "source": [
    "x1 = float(input())\n",
    "y1 = float(input())\n",
    "x2= float(input())\n",
    "y2 = float(input())\n",
    "\n",
    "dis = ((x1 - x2) ** 2 + (y1 - y2) ** 2) ** 0.5\n",
    "\n",
    "print(dis)"
   ]
  },
  {
   "cell_type": "code",
   "execution_count": null,
   "id": "4f13b644-b874-4ce3-b949-e24a6a401c97",
   "metadata": {},
   "outputs": [],
   "source": [
    "a = 5\n",
    "b = 5\n",
    "\n",
    "if a > b:\n",
    "    print('>, if true')\n",
    "elif a == b:\n",
    "    print('==, elif true')\n",
    "else:\n",
    "    print('<, flase')"
   ]
  },
  {
   "cell_type": "code",
   "execution_count": null,
   "id": "8ce06a42-68f8-4a65-88c8-d1b8b16a5fb2",
   "metadata": {},
   "outputs": [],
   "source": [
    "num = int((input))\n",
    "\n",
    "if num "
   ]
  },
  {
   "cell_type": "code",
   "execution_count": null,
   "id": "5365a72c-50b3-4471-b3a6-041813982554",
   "metadata": {},
   "outputs": [],
   "source": [
    "for i in range(11):\n",
    "    if i % 2 == 1:\n",
    "        continue\n",
    "    print(i)"
   ]
  },
  {
   "cell_type": "code",
   "execution_count": null,
   "id": "67a28cea-e341-41a5-af55-0124920569ae",
   "metadata": {},
   "outputs": [],
   "source": [
    "for i in range(101):\n",
    "    if i % 3 == 0:\n",
    "        print(i)"
   ]
  },
  {
   "cell_type": "code",
   "execution_count": null,
   "id": "b7d18e81-65a6-47d5-9a9a-c68bddc8d385",
   "metadata": {},
   "outputs": [],
   "source": [
    "n = int(input())\n",
    "\n",
    "for num in range(1, n+1):\n",
    "    print(num)"
   ]
  },
  {
   "cell_type": "code",
   "execution_count": null,
   "id": "1cbd434a-29d6-4fa1-98a8-3b45e2230149",
   "metadata": {},
   "outputs": [],
   "source": [
    "n = int(input())\n",
    "\n",
    "result = 0\n",
    "\n",
    "for i in range(n):\n",
    "    result = result + i+1\n",
    "    total = int(input(result))\n",
    "    print(total)"
   ]
  },
  {
   "cell_type": "code",
   "execution_count": null,
   "id": "25106f73-b046-499d-962e-777efb7285fd",
   "metadata": {},
   "outputs": [],
   "source": [
    "random.sample(range(1, 46), 6)"
   ]
  },
  {
   "cell_type": "code",
   "execution_count": null,
   "id": "30514782-f8c9-495b-b247-dc51e2281caf",
   "metadata": {},
   "outputs": [],
   "source": [
    "def lotto():\n",
    "    game_set = range(5)\n",
    "    result = []\n",
    "    for game in game_set:\n",
    "        game = random.sample(range(1, 46), 6)\n",
    "        result.append(game)\n",
    "    return result\n"
   ]
  },
  {
   "cell_type": "code",
   "execution_count": null,
   "id": "fbd3d8dd-ef5e-4f32-a092-45f5d73fb446",
   "metadata": {},
   "outputs": [],
   "source": [
    "lotto_number()"
   ]
  },
  {
   "cell_type": "code",
   "execution_count": null,
   "id": "cf124d2d-85a9-4fcd-896b-03700b8ac9ef",
   "metadata": {},
   "outputs": [],
   "source": [
    "import random"
   ]
  },
  {
   "cell_type": "code",
   "execution_count": null,
   "id": "7bb25ffb-c259-4042-9f60-a648207c231a",
   "metadata": {},
   "outputs": [],
   "source": [
    "\n",
    "game = random.sample(range(1, 46), 6)\n",
    "\n",
    "    \n",
    "grade = 0\n",
    "lucky_nums = [3, 9, 27, 28, 38, 39]\n",
    "\n",
    "for select_num in game:\n",
    "    if select_num not in lucky_nums:\n",
    "        grade += 1\n",
    "result = ''\n",
    "if grade == 0 :\n",
    "    result = '1등'\n",
    "elif grade == 1:\n",
    "    result = '3등'\n",
    "elif grade == 2:\n",
    "    result = '4등'\n",
    "elif grade == 3:\n",
    "   result = '5등'\n",
    "else:\n",
    "   result = '꽝'\n",
    "\n",
    "print(game, result)"
   ]
  },
  {
   "cell_type": "code",
   "execution_count": null,
   "id": "8071cb5b-f44d-43bb-b1e1-bf63c4c4ddb8",
   "metadata": {},
   "outputs": [],
   "source": [
    "def solution(n):\n",
    "    answer = []\n",
    "    numbers = [1, n]\n",
    "    for number in numbers:\n",
    "        if number % 2 == 0:\n",
    "            continue\n",
    "        else:\n",
    "            answer.append(n)\n",
    "\n",
    "    return answer"
   ]
  },
  {
   "cell_type": "code",
   "execution_count": null,
   "id": "23e0664a-40a6-4f92-a6f6-e607eda20756",
   "metadata": {},
   "outputs": [],
   "source": [
    "n= 15\n",
    "range(1:n)"
   ]
  },
  {
   "cell_type": "code",
   "execution_count": null,
   "id": "8468c40c-e07c-4526-bd1d-b0599e981e59",
   "metadata": {},
   "outputs": [],
   "source": [
    "def solution(n):\n",
    "    answer = []\n",
    "    numbers = list[(1, n+1)]\n",
    "    for number in numbers:\n",
    "        if number % 2 == 0:\n",
    "            continue\n",
    "        else:\n",
    "            answer.append(n)\n",
    "\n",
    "    return answer"
   ]
  },
  {
   "cell_type": "code",
   "execution_count": null,
   "id": "7f5e10da-9975-4ee5-bce4-41d2756b5767",
   "metadata": {},
   "outputs": [],
   "source": [
    "n = 15\n",
    "numbers = list[(1, n+1)]\n",
    "\n",
    "print(numbers)"
   ]
  },
  {
   "cell_type": "code",
   "execution_count": null,
   "id": "a5b4b151-115f-43de-9fd9-40243b5c2a84",
   "metadata": {},
   "outputs": [],
   "source": [
    "def solution(n):\n",
    "    answer = []\n",
    "    numbers = list[range(1, n+1)]\n",
    "    for number in numbers:\n",
    "        if number % 2 == 0:\n",
    "            continue\n",
    "        else:\n",
    "            answer.append(n)\n",
    "\n",
    "    return answer"
   ]
  },
  {
   "cell_type": "code",
   "execution_count": null,
   "id": "372b29eb-edad-4e3f-b962-fa265ce2be80",
   "metadata": {},
   "outputs": [],
   "source": [
    "n = 15\n",
    "numbers =range(1, n+1, 2)\n",
    "print(list(numbers))"
   ]
  },
  {
   "cell_type": "markdown",
   "id": "f4a24315-9a7d-44fb-be14-d84983f52b6b",
   "metadata": {},
   "source": [
    "개미 군단이 사냥을 나가려고 합니다. 개미군단은 사냥감의 체력에 딱 맞는 병력을 데리고 나가려고 합니다. 장군개미는 5의 공격력을, 병정개미는 3의 공격력을 일개미는 1의 공격력을 가지고 있습니다. 예를 들어 체력 23의 여치를 사냥하려고 할 때, 일개미 23마리를 데리고 가도 되지만, 장군개미 네 마리와 병정개미 한 마리를 데리고 간다면 더 적은 병력으로 사냥할 수 있습니다. 사냥감의 체력 hp가 매개변수로 주어질 때, 사냥감의 체력에 딱 맞게 최소한의 병력을 구성하려면 몇 마리의 개미가 필요한지를 return하도록 solution 함수를 완성해주세요."
   ]
  },
  {
   "cell_type": "code",
   "execution_count": 5,
   "id": "170e7605-559c-4bb5-b97d-d2db59520630",
   "metadata": {},
   "outputs": [
    {
     "name": "stdin",
     "output_type": "stream",
     "text": [
      " 3\n"
     ]
    },
    {
     "name": "stdout",
     "output_type": "stream",
     "text": [
      "*\n",
      "**\n",
      "***\n",
      "None\n"
     ]
    }
   ],
   "source": [
    "def solution(hp):\n",
    "    answer = 0\n",
    "    return answer"
   ]
  },
  {
   "cell_type": "code",
   "execution_count": null,
   "id": "00b62e00-6ede-4953-a07d-5866db1b56bc",
   "metadata": {},
   "outputs": [],
   "source": []
  }
 ],
 "metadata": {
  "kernelspec": {
   "display_name": "Python 3 (ipykernel)",
   "language": "python",
   "name": "python3"
  },
  "language_info": {
   "codemirror_mode": {
    "name": "ipython",
    "version": 3
   },
   "file_extension": ".py",
   "mimetype": "text/x-python",
   "name": "python",
   "nbconvert_exporter": "python",
   "pygments_lexer": "ipython3",
   "version": "3.13.2"
  }
 },
 "nbformat": 4,
 "nbformat_minor": 5
}
