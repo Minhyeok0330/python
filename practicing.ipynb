{
 "cells": [
  {
   "cell_type": "code",
   "execution_count": null,
   "id": "ab7d8ffb-7a0a-49de-9cc1-130bc4672933",
   "metadata": {},
   "outputs": [],
   "source": [
    "age = int(input())\n",
    "\n",
    "if age >= 18:\n",
    "    print('\"성인입니다\"')\n",
    "else:\n",
    "    print('\"미성년자입니다\"')"
   ]
  },
  {
   "cell_type": "code",
   "execution_count": null,
   "id": "dfbb1a9a-eb7e-404d-9cab-b93b7cdafc3a",
   "metadata": {},
   "outputs": [],
   "source": [
    "result = int(input())\n",
    "\n",
    "if result >= 90:\n",
    "    print('\"A\"')\n",
    "    if result >94:\n",
    "        print('Good job')\n",
    "elif result >= 80:\n",
    "    print('\"B\"')\n",
    "elif result >= 70:\n",
    "    print('\"C\"')\n",
    "else:\n",
    "    print('\"F\"')"
   ]
  },
  {
   "cell_type": "code",
   "execution_count": null,
   "id": "a47bca13-b7e5-4e52-9df2-2b9ec9ce079c",
   "metadata": {},
   "outputs": [],
   "source": [
    "num1 = int(input())\n",
    "num2 = int(input())\n",
    "\n",
    "if num1 == num2:\n",
    "    print(\"두 숫자는 같습니다.\")\n",
    "else:\n",
    "    print(\"두 숫자는 다릅니다.\")\n"
   ]
  },
  {
   "cell_type": "code",
   "execution_count": null,
   "id": "09ef8e96-87ae-4401-a571-eba2ec623cfc",
   "metadata": {},
   "outputs": [],
   "source": [
    "num1 = int(input())\n",
    "num2 = int(input())\n",
    "num3 = int(input())\n",
    "\n",
    "if num1 > num2 and num3:\n",
    "    print(num1)\n",
    "elif num2 > num3:\n",
    "    print(num2)\n",
    "else:\n",
    "    print(num3)"
   ]
  },
  {
   "cell_type": "code",
   "execution_count": null,
   "id": "f4992e98-ac4c-48f6-a3f6-d5db539ab1a7",
   "metadata": {},
   "outputs": [],
   "source": [
    "word = input()\n",
    "\n",
    "if word == \"hello\":\n",
    "    print(\"안녕하세요!\")\n",
    "else:\n",
    "    print(\"다시 입력해 주세요.\")"
   ]
  },
  {
   "cell_type": "code",
   "execution_count": null,
   "id": "e8993a12-d0b3-42c3-8dec-a6b428ccf5cd",
   "metadata": {},
   "outputs": [],
   "source": [
    "year = int(input())\n",
    "\n",
    "if (year % 4 == 0 and year % 100 != 0) or (year % 400 == 0):\n",
    "    print('윤년')\n",
    "\n",
    "else:\n",
    "    print('윤년 아니다')"
   ]
  },
  {
   "cell_type": "code",
   "execution_count": null,
   "id": "9a51542a-7da0-4943-9089-6a8d32f38f3a",
   "metadata": {},
   "outputs": [],
   "source": [
    "num1 = int(input())\n",
    "num2 = int(input())\n",
    "num3 = int(input())\n",
    "\n",
    "if num1 == num2 == num3:\n",
    "    print('세 숫자는 모두 같습니다.')\n",
    "elif (num1 == num2) or (num1 == num3) or(num2 == num3):\n",
    "    print('두 숫자는 같습니다.')\n",
    "else:\n",
    "    print('세 숫자는 모두 다릅니다.')\n",
    "    "
   ]
  },
  {
   "cell_type": "code",
   "execution_count": 4,
   "id": "e85b42bf-fbbd-4015-a387-f668ebbebc0f",
   "metadata": {},
   "outputs": [
    {
     "name": "stdin",
     "output_type": "stream",
     "text": [
      " 1\n",
      " 2\n",
      " 3\n",
      " 4\n"
     ]
    },
    {
     "name": "stdout",
     "output_type": "stream",
     "text": [
      "2.8284271247461903\n"
     ]
    }
   ],
   "source": [
    "x1 = float(input())\n",
    "y1 = float(input())\n",
    "x2= float(input())\n",
    "y2 = float(input())\n",
    "\n",
    "dis = ((x1 - x2) ** 2 + (y1 - y2) ** 2) ** 0.5\n",
    "\n",
    "print(dis)"
   ]
  },
  {
   "cell_type": "code",
   "execution_count": 5,
   "id": "4f13b644-b874-4ce3-b949-e24a6a401c97",
   "metadata": {},
   "outputs": [
    {
     "name": "stdout",
     "output_type": "stream",
     "text": [
      "==, elif true\n"
     ]
    }
   ],
   "source": [
    "a = 5\n",
    "b = 5\n",
    "\n",
    "if a > b:\n",
    "    print('>, if true')\n",
    "elif a == b:\n",
    "    print('==, elif true')\n",
    "else:\n",
    "    print('<, flase')"
   ]
  },
  {
   "cell_type": "code",
   "execution_count": null,
   "id": "8ce06a42-68f8-4a65-88c8-d1b8b16a5fb2",
   "metadata": {},
   "outputs": [],
   "source": [
    "num = int((input))\n",
    "\n",
    "if num "
   ]
  },
  {
   "cell_type": "code",
   "execution_count": 13,
   "id": "5365a72c-50b3-4471-b3a6-041813982554",
   "metadata": {},
   "outputs": [
    {
     "name": "stdout",
     "output_type": "stream",
     "text": [
      "0\n",
      "2\n",
      "4\n",
      "6\n",
      "8\n",
      "10\n"
     ]
    }
   ],
   "source": [
    "for i in range(11):\n",
    "    if i % 2 == 1:\n",
    "        continue\n",
    "    print(i)"
   ]
  },
  {
   "cell_type": "code",
   "execution_count": 24,
   "id": "67a28cea-e341-41a5-af55-0124920569ae",
   "metadata": {},
   "outputs": [
    {
     "name": "stdout",
     "output_type": "stream",
     "text": [
      "0\n",
      "3\n",
      "6\n",
      "9\n",
      "12\n",
      "15\n",
      "18\n",
      "21\n",
      "24\n",
      "27\n",
      "30\n",
      "33\n",
      "36\n",
      "39\n",
      "42\n",
      "45\n",
      "48\n",
      "51\n",
      "54\n",
      "57\n",
      "60\n",
      "63\n",
      "66\n",
      "69\n",
      "72\n",
      "75\n",
      "78\n",
      "81\n",
      "84\n",
      "87\n",
      "90\n",
      "93\n",
      "96\n",
      "99\n"
     ]
    }
   ],
   "source": [
    "for i in range(101):\n",
    "    if i % 3 == 0:\n",
    "        print(i)"
   ]
  },
  {
   "cell_type": "code",
   "execution_count": 30,
   "id": "b7d18e81-65a6-47d5-9a9a-c68bddc8d385",
   "metadata": {},
   "outputs": [
    {
     "name": "stdin",
     "output_type": "stream",
     "text": [
      " 5\n"
     ]
    },
    {
     "name": "stdout",
     "output_type": "stream",
     "text": [
      "1\n",
      "2\n",
      "3\n",
      "4\n",
      "5\n"
     ]
    }
   ],
   "source": [
    "n = int(input())\n",
    "\n",
    "for num in range(1, n+1):\n",
    "    print(num)"
   ]
  },
  {
   "cell_type": "code",
   "execution_count": 40,
   "id": "1cbd434a-29d6-4fa1-98a8-3b45e2230149",
   "metadata": {},
   "outputs": [
    {
     "name": "stdin",
     "output_type": "stream",
     "text": [
      " 5\n",
      "1 5\n"
     ]
    },
    {
     "name": "stdout",
     "output_type": "stream",
     "text": [
      "5\n"
     ]
    },
    {
     "name": "stdin",
     "output_type": "stream",
     "text": [
      "3 5\n"
     ]
    },
    {
     "name": "stdout",
     "output_type": "stream",
     "text": [
      "5\n"
     ]
    },
    {
     "name": "stdin",
     "output_type": "stream",
     "text": [
      "6 5\n"
     ]
    },
    {
     "name": "stdout",
     "output_type": "stream",
     "text": [
      "5\n"
     ]
    },
    {
     "name": "stdin",
     "output_type": "stream",
     "text": [
      "10 5\n"
     ]
    },
    {
     "name": "stdout",
     "output_type": "stream",
     "text": [
      "5\n"
     ]
    },
    {
     "name": "stdin",
     "output_type": "stream",
     "text": [
      "15 5\n"
     ]
    },
    {
     "name": "stdout",
     "output_type": "stream",
     "text": [
      "5\n"
     ]
    }
   ],
   "source": [
    "n = int(input())\n",
    "\n",
    "result = 0\n",
    "\n",
    "for i in range(n):\n",
    "    result = result + i+1\n",
    "    total = int(input(result))\n",
    "    print(total)"
   ]
  },
  {
   "cell_type": "code",
   "execution_count": null,
   "id": "57a8cddd-7410-4b5c-9529-01ef0eca18a3",
   "metadata": {},
   "outputs": [],
   "source": []
  }
 ],
 "metadata": {
  "kernelspec": {
   "display_name": "Python 3 (ipykernel)",
   "language": "python",
   "name": "python3"
  },
  "language_info": {
   "codemirror_mode": {
    "name": "ipython",
    "version": 3
   },
   "file_extension": ".py",
   "mimetype": "text/x-python",
   "name": "python",
   "nbconvert_exporter": "python",
   "pygments_lexer": "ipython3",
   "version": "3.13.2"
  }
 },
 "nbformat": 4,
 "nbformat_minor": 5
}
