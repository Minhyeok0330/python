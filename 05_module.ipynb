{
 "cells": [
  {
   "cell_type": "markdown",
   "id": "d5c7a374-1f8c-4f42-b6d9-8f0bcfe337cd",
   "metadata": {},
   "source": [
    "# 모듈"
   ]
  },
  {
   "cell_type": "markdown",
   "id": "5c244248-c646-4046-b222-cd688b5e02db",
   "metadata": {},
   "source": [
    "- 하나의 파일에 담긴 함수를 불러와서 활용하게 해주는 기능"
   ]
  },
  {
   "cell_type": "code",
   "execution_count": null,
   "id": "906705a6-eeb9-4362-9563-a3d043e2dd2d",
   "metadata": {},
   "outputs": [],
   "source": [
    "import fact\n",
    "print(fact)"
   ]
  },
  {
   "cell_type": "code",
   "execution_count": null,
   "id": "ffd793a8-1eef-4b3e-9907-da4d1e3a020a",
   "metadata": {},
   "outputs": [],
   "source": [
    "fact.factorial(5)"
   ]
  },
  {
   "cell_type": "code",
   "execution_count": null,
   "id": "9a2810ec-b180-4a24-9192-d3613d667b1a",
   "metadata": {},
   "outputs": [],
   "source": [
    "fact.my_max(2, 3)"
   ]
  },
  {
   "cell_type": "markdown",
   "id": "568529ba-80ec-4c45-bf47-f78df7462f58",
   "metadata": {},
   "source": [
    "## 패키지\n",
    "\n",
    "    myPackage/\n",
    "    __init__,py\n",
    "    math/\n",
    "        _init_.py\n",
    "\n",
    "- 패키지 안에 __init__.py 파일이 존재해야 패키지로 인식"
   ]
  },
  {
   "cell_type": "code",
   "execution_count": null,
   "id": "80e95c99-4b7c-4f53-be8e-192ce3932292",
   "metadata": {},
   "outputs": [],
   "source": [
    "import myPackage"
   ]
  },
  {
   "cell_type": "code",
   "execution_count": null,
   "id": "023f5e6c-7125-4ddb-b9cb-000738eca25a",
   "metadata": {},
   "outputs": [],
   "source": [
    "print(myPackage)"
   ]
  },
  {
   "cell_type": "code",
   "execution_count": null,
   "id": "e112d306-bed6-4f72-bf67-17b69fa95154",
   "metadata": {},
   "outputs": [],
   "source": [
    "print(myPackage.math.fomula.my_max(2, 3))"
   ]
  },
  {
   "cell_type": "code",
   "execution_count": null,
   "id": "aeb37bcf-e598-448e-88c3-a1ebb53e530f",
   "metadata": {},
   "outputs": [],
   "source": [
    "from myPackage.math.fomula import my_max"
   ]
  },
  {
   "cell_type": "code",
   "execution_count": null,
   "id": "9b0de998-b276-4da1-b08a-4b4e9a2955ac",
   "metadata": {},
   "outputs": [],
   "source": [
    "my_max(2, 3)"
   ]
  },
  {
   "cell_type": "code",
   "execution_count": null,
   "id": "82148562-3cf9-4605-949b-001e99372d76",
   "metadata": {},
   "outputs": [],
   "source": [
    "from myPackage.math.fomula import *\n",
    "print(pi)"
   ]
  },
  {
   "cell_type": "code",
   "execution_count": null,
   "id": "d53cf1a6-92e9-4efb-9218-9e770e1c88ef",
   "metadata": {},
   "outputs": [],
   "source": [
    "fomula = 1234\n",
    "from myPackage.math import fomula as f\n",
    "print(fomula)\n",
    "print(f)"
   ]
  },
  {
   "cell_type": "markdown",
   "id": "a1bcd8e3-0c33-4bed-9c63-447ebe8a809f",
   "metadata": {},
   "source": [
    "## 파이썬 내장 패키지"
   ]
  },
  {
   "cell_type": "code",
   "execution_count": null,
   "id": "76c51065-80ea-4e77-8b21-f7069bfe18ed",
   "metadata": {},
   "outputs": [],
   "source": [
    "import math "
   ]
  },
  {
   "cell_type": "code",
   "execution_count": null,
   "id": "1c4669f8-753b-47b3-92eb-115680334f97",
   "metadata": {},
   "outputs": [],
   "source": [
    "math.pi"
   ]
  },
  {
   "cell_type": "code",
   "execution_count": null,
   "id": "88cae1a9-6e70-4bc4-be52-7ac021cd7281",
   "metadata": {},
   "outputs": [],
   "source": [
    "math.e"
   ]
  },
  {
   "cell_type": "code",
   "execution_count": null,
   "id": "77c30838-e77c-4ba6-9319-f6fc36fe7754",
   "metadata": {},
   "outputs": [],
   "source": [
    "math.ceil(math.e)"
   ]
  },
  {
   "cell_type": "code",
   "execution_count": null,
   "id": "e68c54b7-9885-428b-9d9d-38c37c0828fe",
   "metadata": {},
   "outputs": [],
   "source": [
    "math.floor(math.e)"
   ]
  },
  {
   "cell_type": "code",
   "execution_count": null,
   "id": "79f22180-4555-44a5-95ec-f5cd573372a2",
   "metadata": {},
   "outputs": [],
   "source": [
    "math.sqrt(9)"
   ]
  },
  {
   "cell_type": "code",
   "execution_count": null,
   "id": "def8babc-6511-47c1-afc1-ffb84ca6bddf",
   "metadata": {},
   "outputs": [],
   "source": [
    "math.factorial(10)"
   ]
  },
  {
   "cell_type": "code",
   "execution_count": null,
   "id": "b9836bff-c55e-4aa4-bdc6-738260dbd0e3",
   "metadata": {},
   "outputs": [],
   "source": [
    "from math import sqrt, factorial"
   ]
  },
  {
   "cell_type": "code",
   "execution_count": null,
   "id": "dd2dfebf-f635-4cfa-8cf4-c0c2e8f06561",
   "metadata": {},
   "outputs": [],
   "source": [
    "sqrt(16)"
   ]
  },
  {
   "cell_type": "code",
   "execution_count": null,
   "id": "a349c2be-8495-4a6e-b3ab-1f67cf4716ef",
   "metadata": {},
   "outputs": [],
   "source": [
    "factorial(5)"
   ]
  },
  {
   "cell_type": "markdown",
   "id": "b7cabafc-2f0e-4a86-b32d-48c2c8abe672",
   "metadata": {},
   "source": [
    "### random"
   ]
  },
  {
   "cell_type": "code",
   "execution_count": 17,
   "id": "f7f1bafd-a608-4669-a0d6-87ffeab15a86",
   "metadata": {},
   "outputs": [],
   "source": [
    "import random"
   ]
  },
  {
   "cell_type": "code",
   "execution_count": null,
   "id": "54d007c0-f420-460f-8465-cf2def1d38ee",
   "metadata": {},
   "outputs": [],
   "source": [
    "random.random()"
   ]
  },
  {
   "cell_type": "code",
   "execution_count": null,
   "id": "d552c251-7764-4cfc-9b84-a1dbd11aab27",
   "metadata": {},
   "outputs": [],
   "source": [
    "random.randint(1, 1000000000)"
   ]
  },
  {
   "cell_type": "code",
   "execution_count": 20,
   "id": "5bd5dcb6-e7fa-4ec8-9a9a-d590846a5a50",
   "metadata": {},
   "outputs": [
    {
     "data": {
      "text/plain": [
       "0.052363598850944326"
      ]
     },
     "execution_count": 20,
     "metadata": {},
     "output_type": "execute_result"
    }
   ],
   "source": [
    "random.seed(123)\n",
    "random.random()"
   ]
  },
  {
   "cell_type": "code",
   "execution_count": 19,
   "id": "673a0d31-00a5-4d00-9ad3-41b12fdfeba2",
   "metadata": {},
   "outputs": [],
   "source": [
    "numbers = [1, 2, 3, 4, 5]"
   ]
  },
  {
   "cell_type": "code",
   "execution_count": null,
   "id": "4be0018e-fb90-4f0a-aec1-749dcb9f1a44",
   "metadata": {},
   "outputs": [],
   "source": [
    "random.shuffle(numbers)\n",
    "print(numbers)"
   ]
  },
  {
   "cell_type": "code",
   "execution_count": null,
   "id": "61052ece-f56e-489c-846e-d6802f981a31",
   "metadata": {},
   "outputs": [],
   "source": [
    "print(random.choice(numbers))\n",
    "print(random.choice(numbers))"
   ]
  },
  {
   "cell_type": "code",
   "execution_count": null,
   "id": "d522ab84-8779-43e5-addf-d15081572861",
   "metadata": {},
   "outputs": [],
   "source": [
    "print(random.sample(numbers, 2))\n",
    "print(random.sample(numbers, 4))"
   ]
  },
  {
   "cell_type": "markdown",
   "id": "ef7709de-0e5d-431a-9173-2e1a257a6514",
   "metadata": {},
   "source": [
    "### datetime"
   ]
  },
  {
   "cell_type": "code",
   "execution_count": null,
   "id": "30341980-62b0-496e-828b-cf0958a29694",
   "metadata": {},
   "outputs": [],
   "source": [
    "from datetime import datetime"
   ]
  },
  {
   "cell_type": "code",
   "execution_count": null,
   "id": "df0e13cd-0ae3-4958-8c93-f9113b5fda1e",
   "metadata": {},
   "outputs": [],
   "source": [
    "datetime.now()"
   ]
  },
  {
   "cell_type": "code",
   "execution_count": null,
   "id": "e1195a14-ed2d-4b4c-bee6-78106676096a",
   "metadata": {},
   "outputs": [],
   "source": [
    "datetime.today()"
   ]
  },
  {
   "cell_type": "code",
   "execution_count": null,
   "id": "56344bfe-4cf3-4241-a882-874548e3638f",
   "metadata": {},
   "outputs": [],
   "source": [
    "datetime.utcnow()"
   ]
  },
  {
   "cell_type": "code",
   "execution_count": null,
   "id": "2689bb43-bf7d-4fc3-88bf-38cea1dc3d14",
   "metadata": {},
   "outputs": [],
   "source": [
    "now = datetime.now()"
   ]
  },
  {
   "cell_type": "code",
   "execution_count": null,
   "id": "33cbf95a-14c8-41be-a766-d40b35655985",
   "metadata": {},
   "outputs": [],
   "source": [
    "now"
   ]
  },
  {
   "cell_type": "code",
   "execution_count": null,
   "id": "165131ab-023a-4216-8d04-4a9e14db3775",
   "metadata": {},
   "outputs": [],
   "source": [
    "now.year"
   ]
  },
  {
   "cell_type": "code",
   "execution_count": null,
   "id": "4bf96786-b30d-4f58-9683-51b554225981",
   "metadata": {},
   "outputs": [],
   "source": [
    "now.month"
   ]
  },
  {
   "cell_type": "code",
   "execution_count": null,
   "id": "451ac155-dd8d-4115-a6b9-b3f9c7c2b613",
   "metadata": {},
   "outputs": [],
   "source": [
    "now.day"
   ]
  },
  {
   "cell_type": "code",
   "execution_count": null,
   "id": "8866f6bc-f29e-4d66-be8f-a1f392f98f09",
   "metadata": {},
   "outputs": [],
   "source": [
    "now.second"
   ]
  },
  {
   "cell_type": "code",
   "execution_count": null,
   "id": "df6145c7-267e-4204-88ce-54d09e7aceda",
   "metadata": {},
   "outputs": [],
   "source": [
    "print(now)"
   ]
  },
  {
   "cell_type": "code",
   "execution_count": null,
   "id": "d21e3299-8858-4d9d-afe9-f576932265ac",
   "metadata": {},
   "outputs": [],
   "source": [
    "now.strftime('%Y년 %m월 %d일')\n",
    "# 자세한 건 그때 그때 검색해서 사용하도록"
   ]
  },
  {
   "cell_type": "code",
   "execution_count": null,
   "id": "f11b246f-580d-42dd-8cf5-88d8f666f5a5",
   "metadata": {},
   "outputs": [],
   "source": [
    "x_max = datetime(2025, 12, 25)\n",
    "print(x_max)"
   ]
  },
  {
   "cell_type": "code",
   "execution_count": null,
   "id": "e61d3a2b-fcf9-46b1-8ad1-84e1a341fd43",
   "metadata": {},
   "outputs": [],
   "source": [
    "from datetime import timedelta\n",
    "# 날짜의 변화식을 불러오기"
   ]
  },
  {
   "cell_type": "code",
   "execution_count": null,
   "id": "333250e0-bc61-44d7-8017-1e812ddf0653",
   "metadata": {},
   "outputs": [],
   "source": [
    "future = timedelta(days=3)\n",
    "# 날짜의 덧셈을 도와주는 기능"
   ]
  },
  {
   "cell_type": "code",
   "execution_count": null,
   "id": "156d66e1-3de8-4bba-867c-48589d606efc",
   "metadata": {},
   "outputs": [],
   "source": [
    "print(x_max + future)"
   ]
  },
  {
   "cell_type": "code",
   "execution_count": null,
   "id": "33b675a8-3819-4054-80f7-bbf6400d7aaa",
   "metadata": {},
   "outputs": [],
   "source": [
    "print(x_max - now)"
   ]
  },
  {
   "cell_type": "markdown",
   "id": "719f5190-e375-4ce8-a8b5-08483d1b9c3f",
   "metadata": {},
   "source": [
    "- 결국 필요한 기능을 사용하고 싶다면 사용설명서를 켜두고 사용하게 될 겁니다."
   ]
  },
  {
   "cell_type": "markdown",
   "id": "df7e3bb5-e637-4299-a878-5d33cb509001",
   "metadata": {},
   "source": [
    "# 외부 라이브러리"
   ]
  },
  {
   "cell_type": "markdown",
   "id": "e3190daf-4c99-4163-b0eb-44d4d9892623",
   "metadata": {},
   "source": [
    "## requests"
   ]
  },
  {
   "cell_type": "code",
   "execution_count": null,
   "id": "021b727a-ea61-4e55-9714-5587ce2a9a1d",
   "metadata": {},
   "outputs": [],
   "source": [
    "import requests"
   ]
  },
  {
   "cell_type": "code",
   "execution_count": null,
   "id": "1a4bd66f-29b8-447d-b6fe-52ad02f0c6b0",
   "metadata": {},
   "outputs": [],
   "source": []
  },
  {
   "cell_type": "code",
   "execution_count": null,
   "id": "d1dc44dd-fe1f-48c8-bf32-cd3436e864ea",
   "metadata": {},
   "outputs": [],
   "source": [
    "r = requests.get('http://api.github.com/events')"
   ]
  },
  {
   "cell_type": "code",
   "execution_count": null,
   "id": "3227c98b-d5bb-40c0-a12b-494258c89830",
   "metadata": {},
   "outputs": [],
   "source": [
    "print(r)"
   ]
  },
  {
   "cell_type": "code",
   "execution_count": null,
   "id": "2de230af-101b-4c54-92f2-25736082d59c",
   "metadata": {
    "scrolled": true
   },
   "outputs": [],
   "source": [
    "print(r.text)"
   ]
  },
  {
   "cell_type": "code",
   "execution_count": null,
   "id": "585faa9d-7589-4833-a319-58b53e589fd4",
   "metadata": {},
   "outputs": [],
   "source": [
    "r = requests.get('https://naver.com')\n",
    "print(r.text)"
   ]
  },
  {
   "cell_type": "code",
   "execution_count": null,
   "id": "46ca49ea-c6d7-487d-bf70-cbf469004547",
   "metadata": {},
   "outputs": [],
   "source": [
    "payload = {'key1' : 'value1', 'key2' : 'value2'}\n",
    "r = requests.get('https://httpbin.org/get', params=payload)\n",
    "print(r.text)"
   ]
  },
  {
   "cell_type": "code",
   "execution_count": null,
   "id": "787ffa10-b57b-43ea-888e-40e1554d135c",
   "metadata": {
    "scrolled": true
   },
   "outputs": [],
   "source": [
    "payload = {'query' : '파이썬'}\n",
    "r = requests.get('https://search.naver.com/search.naver', params=payload)\n",
    "print(r.url)"
   ]
  },
  {
   "cell_type": "code",
   "execution_count": null,
   "id": "13a4c872-5b22-4128-8b2a-b14bf6facb47",
   "metadata": {},
   "outputs": [],
   "source": [
    "r = requests.get('https://api.github.com/events')\n",
    "print(type(r.json()))\n",
    "print(r.json()['message'])"
   ]
  },
  {
   "cell_type": "code",
   "execution_count": null,
   "id": "0444be6a-2aec-48de-be13-8f430212eca2",
   "metadata": {},
   "outputs": [],
   "source": [
    "lotto_url = 'https://www.dhlottery.co.kr/common.do'"
   ]
  },
  {
   "cell_type": "code",
   "execution_count": null,
   "id": "bef1c4d1-e6fc-49bf-bedb-b4bbcc9288a0",
   "metadata": {},
   "outputs": [],
   "source": [
    "#https://www.dhlottery.co.kr/common.do?method=getLottoNumber&drwNo=1159"
   ]
  },
  {
   "cell_type": "code",
   "execution_count": 15,
   "id": "43914c53-93b4-497d-bc62-382948406b70",
   "metadata": {},
   "outputs": [
    {
     "name": "stdout",
     "output_type": "stream",
     "text": [
      "2025-01-18\n",
      "10\n",
      "16\n",
      "19\n",
      "27\n",
      "37\n"
     ]
    }
   ],
   "source": [
    "import requests\n",
    "\n",
    "lotto_url = 'https://www.dhlottery.co.kr/common.do'\n",
    "\n",
    "payload = {\n",
    "    'method': 'getLottoNumber',\n",
    "    'drwNo': 1155\n",
    "}\n",
    "\n",
    "r = requests.get(lotto_url, params=payload)\n",
    "#print(r.url)\n",
    "#print(r.text)\n",
    "#print(r.json())\n",
    "\n",
    "lotto_dict = r.json()\n",
    "\n",
    "print(lotto_dict['drwNoDate'])\n",
    "#print(lotto_dict['drwtNo1'])\n",
    "#print(lotto_dict['drwtNo2'])\n",
    "#print(lotto_dict['drwtNo3'])\n",
    "#print(lotto_dict['drwtNo4'])\n",
    "#print(lotto_dict['drwtNo5'])\n",
    "#print(lotto_dict['drwtNo6'])\n",
    "\n",
    "for i in range(1, 6):\n",
    "    print(lotto_dict[f'drwtNo{i}'])"
   ]
  },
  {
   "cell_type": "code",
   "execution_count": null,
   "id": "db3839e5-3032-4d64-b448-482e921f71a3",
   "metadata": {},
   "outputs": [],
   "source": []
  }
 ],
 "metadata": {
  "kernelspec": {
   "display_name": "Python 3 (ipykernel)",
   "language": "python",
   "name": "python3"
  },
  "language_info": {
   "codemirror_mode": {
    "name": "ipython",
    "version": 3
   },
   "file_extension": ".py",
   "mimetype": "text/x-python",
   "name": "python",
   "nbconvert_exporter": "python",
   "pygments_lexer": "ipython3",
   "version": "3.13.2"
  }
 },
 "nbformat": 4,
 "nbformat_minor": 5
}
